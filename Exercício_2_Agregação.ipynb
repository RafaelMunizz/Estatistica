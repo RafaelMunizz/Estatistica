{
  "nbformat": 4,
  "nbformat_minor": 0,
  "metadata": {
    "colab": {
      "name": "Exercício 2 - Agregação.ipynb",
      "provenance": [],
      "collapsed_sections": []
    },
    "kernelspec": {
      "name": "python3",
      "display_name": "Python 3"
    }
  },
  "cells": [
    {
      "cell_type": "code",
      "metadata": {
        "id": "lyl_4pi0gLoq",
        "colab_type": "code",
        "colab": {}
      },
      "source": [
        "import pandas as pd\n",
        "import numpy as np"
      ],
      "execution_count": 13,
      "outputs": []
    },
    {
      "cell_type": "markdown",
      "metadata": {
        "id": "1w0BSQJHn1IU",
        "colab_type": "text"
      },
      "source": [
        "#Questão 1\n",
        "Nessa questão iremos trabalhar com dados de pesquisa, disponíveis nesse link e extensão, disponíveis\n",
        "nesse link, do Instituto Federal do Norte de Minas – IFNMG.\n",
        "A tarefa aqui é: construir um novo conjunto de dados, agregando informações dos diversos conjuntos\n",
        "disponíveis nos links acima, que contenha projetos de pesquisa realizados, pesquisadores, projetos\n",
        "de extensão executados e eventos e prestação de serviços executados pela extensão, por campus e por\n",
        "ano."
      ]
    },
    {
      "cell_type": "markdown",
      "metadata": {
        "id": "xrJs_9wVn5Do",
        "colab_type": "text"
      },
      "source": [
        "(a) nenhum arquivo deve ser acessado localmente, ou seja, todos os dados devem\n",
        "ser carregados via url;"
      ]
    },
    {
      "cell_type": "code",
      "metadata": {
        "id": "EReuUcml7x2q",
        "colab_type": "code",
        "colab": {}
      },
      "source": [
        "# lendo o arquivo a ser gerado a partir no link fornecido\n",
        "Projetos_de_Pesquisa_Realizados_2016 =            pd.read_csv('http://documento.ifnmg.edu.br/action.php?kt_path_info=ktcore.actions.document.view&fDocumentId=26913', encoding=\"iso8859_2\")\n",
        "Projetos_de_Pesquisa_Realizados_2017 =            pd.read_csv('http://documento.ifnmg.edu.br/action.php?kt_path_info=ktcore.actions.document.view&fDocumentId=26911', encoding=\"iso8859_2\")\n",
        "Projetos_de_Pesquisa_Realizados_2018 =            pd.read_csv('http://documento.ifnmg.edu.br/action.php?kt_path_info=ktcore.actions.document.view&fDocumentId=33101', encoding=\"iso8859_2\")\n",
        "Pesquisadores_2017 =                              pd.read_csv('http://documento.ifnmg.edu.br/action.php?kt_path_info=ktcore.actions.document.view&fDocumentId=26909', encoding=\"iso8859_2\")\n",
        "Pesquisadores_2018 =                              pd.read_csv('http://documento.ifnmg.edu.br/action.php?kt_path_info=ktcore.actions.document.view&fDocumentId=33103', encoding=\"iso8859_2\")\n",
        "\n",
        "Projetos_de_extensao_executados_2017 =            pd.read_csv('http://documento.ifnmg.edu.br/action.php?kt_path_info=ktcore.actions.document.view&fDocumentId=33133', encoding=\"iso8859_2\")\n",
        "Projetos_de_extensao_executados_2018 =            pd.read_csv('http://documento.ifnmg.edu.br/action.php?kt_path_info=ktcore.actions.document.view&fDocumentId=33131', encoding=\"iso8859_2\")\n",
        "\n",
        "Eventos_e_prestação_de_serviços_executados_2017 = pd.read_csv('http://documento.ifnmg.edu.br/action.php?kt_path_info=ktcore.actions.document.view&fDocumentId=33132', encoding=\"iso8859_2\")\n",
        "Eventos_e_prestação_de_serviços_executados_2018 = pd.read_csv('http://documento.ifnmg.edu.br/action.php?kt_path_info=ktcore.actions.document.view&fDocumentId=33130', encoding=\"iso8859_2\")\n"
      ],
      "execution_count": 14,
      "outputs": []
    },
    {
      "cell_type": "code",
      "metadata": {
        "id": "y--ephBMJYEF",
        "colab_type": "code",
        "colab": {}
      },
      "source": [
        "# função para remover a primeira linha do dataframe, que traz informações irrelevantes para o entendimento do leitor\n",
        "def conserto(dataframe):\n",
        "\n",
        "  dataframe.columns = dataframe.iloc[0] \n",
        "  dataframe = dataframe.drop([0])\n",
        "\n",
        "  return dataframe\n",
        " \n",
        "#aplicando a função nos dataframe que necessitam de conserto\n",
        "Projetos_de_Pesquisa_Realizados_2016 = conserto(Projetos_de_Pesquisa_Realizados_2016)\n",
        "Projetos_de_Pesquisa_Realizados_2017 = conserto(Projetos_de_Pesquisa_Realizados_2017)\n",
        "Projetos_de_Pesquisa_Realizados_2018 = conserto(Projetos_de_Pesquisa_Realizados_2018)\n",
        "Pesquisadores_2017 = conserto(Pesquisadores_2017)\n",
        "Pesquisadores_2018 = conserto(Pesquisadores_2018)"
      ],
      "execution_count": 15,
      "outputs": []
    },
    {
      "cell_type": "markdown",
      "metadata": {
        "id": "RQBmYVVNtlM1",
        "colab_type": "text"
      },
      "source": [
        "(b) todas as suas escolhas sobre como executar a tarefa devem ser apresentadas e\n",
        "discutidas antes do código;"
      ]
    },
    {
      "cell_type": "code",
      "metadata": {
        "id": "uZIr9BxH3akB",
        "colab_type": "code",
        "colab": {}
      },
      "source": [
        "# Concatenando todos os Dataframes em um só\n",
        "DataFrame_Dados = pd.concat([Projetos_de_Pesquisa_Realizados_2016, \n",
        "                 Projetos_de_Pesquisa_Realizados_2017, \n",
        "                 Projetos_de_Pesquisa_Realizados_2018, \n",
        "                 Pesquisadores_2017, \n",
        "                 Pesquisadores_2018, \n",
        "                 Projetos_de_extensao_executados_2017, \n",
        "                 Projetos_de_extensao_executados_2018, \n",
        "                 Eventos_e_prestação_de_serviços_executados_2017,\n",
        "                 Eventos_e_prestação_de_serviços_executados_2018],\tsort=False)\n",
        "\n",
        "DataFrame_Dados"
      ],
      "execution_count": null,
      "outputs": []
    },
    {
      "cell_type": "markdown",
      "metadata": {
        "id": "T8nGqze2tl5j",
        "colab_type": "text"
      },
      "source": [
        "(c) o nome dos campi devem ser transformados nos índices do conjunto de dados;"
      ]
    },
    {
      "cell_type": "markdown",
      "metadata": {
        "id": "gcv7Vub4tmBm",
        "colab_type": "text"
      },
      "source": [
        "(d) o novo conjunto de dados deve ser gravado no formato CSV."
      ]
    },
    {
      "cell_type": "code",
      "metadata": {
        "id": "qmy49SZGMfTB",
        "colab_type": "code",
        "colab": {}
      },
      "source": [
        "# Gravação do arquivo novo para o formato CSV com a função \" .to_csv \"\n",
        "DataFrame_Dados.to_csv(r'C:\\Users\\rafae\\Desktop', index=False)"
      ],
      "execution_count": 17,
      "outputs": []
    },
    {
      "cell_type": "markdown",
      "metadata": {
        "id": "NDIdGfWeuAqt",
        "colab_type": "text"
      },
      "source": [
        "#Questão 2\n",
        "Nessa questão iremos trabalhar com os dados de vendas anuais de etanol hidratado e derivados de\n",
        "petróleo por município – gasolina de aviação, disponíveis no link.\n",
        "A tarefa aqui é: construir um novo conjunto de dados, a partir dos disponíveis no link acima, que\n",
        "tenha informações de vendas por estado e por ano.\n",
        "As premissas para o exercício são:\n"
      ]
    },
    {
      "cell_type": "markdown",
      "metadata": {
        "id": "Ph1eHvThud3-",
        "colab_type": "text"
      },
      "source": [
        "(a) nenhum arquivo deve ser acessado localmente, ou seja, todos os dados devem\n",
        "ser carregados via url;"
      ]
    },
    {
      "cell_type": "code",
      "metadata": {
        "id": "DUpX4WwZTd8f",
        "colab_type": "code",
        "colab": {}
      },
      "source": [
        "#Importando os links dos arquivos para a criação de DataFrames.\n",
        "\n",
        "G_Aviacao_2000 = pd.read_csv('http://www.anp.gov.br/arquivos/dadosabertos/vc/vendas-gasolinaaviacao-municipio-2000.csv', encoding=\"iso8859_2\", delimiter=\";\")\n",
        "G_Aviacao_2001 = pd.read_csv('http://www.anp.gov.br/arquivos/dadosabertos/vc/vendas-gasolinaaviacao-municipio-2001.csv', encoding=\"iso8859_2\", delimiter=\";\")\n",
        "G_Aviacao_2002 = pd.read_csv('http://www.anp.gov.br/arquivos/dadosabertos/vc/vendas-gasolinaaviacao-municipio-2002.csv', encoding=\"iso8859_2\", delimiter=\";\")\n",
        "G_Aviacao_2003 = pd.read_csv('http://www.anp.gov.br/arquivos/dadosabertos/vc/vendas-gasolinaaviacao-municipio-2003.csv', encoding=\"iso8859_2\", delimiter=\";\")\n",
        "G_Aviacao_2004 = pd.read_csv('http://www.anp.gov.br/arquivos/dadosabertos/vc/vendas-gasolinaaviacao-municipio-2004.csv', encoding=\"iso8859_2\", delimiter=\";\")\n",
        "G_Aviacao_2005 = pd.read_csv('http://www.anp.gov.br/arquivos/dadosabertos/vc/vendas-gasolinaaviacao-municipio-2005.csv', encoding=\"iso8859_2\", delimiter=\";\")\n",
        "G_Aviacao_2006 = pd.read_csv('http://www.anp.gov.br/arquivos/dadosabertos/vc/vendas-gasolinaaviacao-municipio-2006.csv', encoding=\"iso8859_2\", delimiter=\";\")\n",
        "G_Aviacao_2007 = pd.read_csv('http://www.anp.gov.br/arquivos/dadosabertos/vc/vendas-gasolinaaviacao-municipio-2007.csv', encoding=\"iso8859_2\", delimiter=\";\")\n",
        "G_Aviacao_2008 = pd.read_csv('http://www.anp.gov.br/arquivos/dadosabertos/vc/vendas-gasolinaaviacao-municipio-2008.csv', encoding=\"iso8859_2\", delimiter=\";\")\n",
        "G_Aviacao_2009 = pd.read_csv('http://www.anp.gov.br/arquivos/dadosabertos/vc/vendas-gasolinaaviacao-municipio-2009.csv', encoding=\"iso8859_2\", delimiter=\";\")\n",
        "G_Aviacao_2010 = pd.read_csv('http://www.anp.gov.br/arquivos/dadosabertos/vc/vendas-gasolinaaviacao-municipio-2010.csv', encoding=\"iso8859_2\", delimiter=\";\")\n",
        "G_Aviacao_2011 = pd.read_csv('http://www.anp.gov.br/arquivos/dadosabertos/vc/vendas-gasolinaaviacao-municipio-2011.csv', encoding=\"iso8859_2\", delimiter=\";\")\n",
        "G_Aviacao_2012 = pd.read_csv('http://www.anp.gov.br/arquivos/dadosabertos/vc/vendas-gasolinaaviacao-municipio-2012.csv', encoding=\"iso8859_2\", delimiter=\";\")\n",
        "G_Aviacao_2013 = pd.read_csv('http://www.anp.gov.br/arquivos/dadosabertos/vc/vendas-gasolinaaviacao-municipio-2013.csv', encoding=\"iso8859_2\", delimiter=\";\")\n",
        "G_Aviacao_2014 = pd.read_csv('http://www.anp.gov.br/arquivos/dadosabertos/vc/vendas-gasolinaaviacao-municipio-2014.csv', encoding=\"iso8859_2\", delimiter=\";\")\n",
        "G_Aviacao_2015 = pd.read_csv('http://www.anp.gov.br/arquivos/dadosabertos/vc/vendas-gasolinaaviacao-municipio-2015.csv', encoding=\"iso8859_2\", delimiter=\";\")\n",
        "G_Aviacao_2016 = pd.read_csv('http://www.anp.gov.br/arquivos/dadosabertos/vc/vendas-gasolinaaviacao-municipio-2016.csv', encoding=\"iso8859_2\", delimiter=\";\")\n",
        "G_Aviacao_2017 = pd.read_csv('http://www.anp.gov.br/arquivos/dadosabertos/vc/vendas-gasolinaaviacao-municipio-2017.csv', encoding=\"iso8859_2\", delimiter=\";\")\n"
      ],
      "execution_count": 18,
      "outputs": []
    },
    {
      "cell_type": "markdown",
      "metadata": {
        "id": "A7wnoyecueAU",
        "colab_type": "text"
      },
      "source": [
        "(b) todas as suas escolhas sobre como executar a tarefa devem ser apresentadas e\n",
        "discutidas antes do código;"
      ]
    },
    {
      "cell_type": "code",
      "metadata": {
        "id": "9VTysKqtVaf-",
        "colab_type": "code",
        "colab": {}
      },
      "source": [
        "# O Arquivo \"G_Aviacao_2018\" está com 9999 linhas e com os nomes de seus estados sem acentuação, sendo preciso um tratamento para entrar no padrão dos outros DataFrames.\n",
        "\n",
        "# O comando abaixo que não deve ser muito utilizado, por fazer com que a mensagem que diz que você está fazendo algo que pode não surtir o efeito esperado está para acontecer\n",
        "pd.set_option('mode.chained_assignment', None)\n",
        "\n",
        "G_Aviacao_2018 = pd.read_csv('http://www.anp.gov.br/arquivos/dadosabertos/vc/vendas-gasolinaaviacao-municipio-2018.csv', encoding=\"iso8859_2\", delimiter=\";\")\n",
        "\n",
        "# Remoção das linhas adicionais desnecessárias\n",
        "for j in range(9999):\n",
        "  if j > 565:\n",
        "    G_Aviacao_2018 = G_Aviacao_2018.drop([j])\n",
        "\n",
        "# Colocação dos acentos \n",
        "for i in range(len(G_Aviacao_2018['ESTADO'])):\n",
        "  if G_Aviacao_2018['ESTADO'][i] == 'Rondonia': \n",
        "    G_Aviacao_2018['ESTADO'][i] = 'Rondônia'\n",
        "  elif G_Aviacao_2018['ESTADO'][i] == 'Amapa\\xa0':\n",
        "    G_Aviacao_2018['ESTADO'][i] = 'Amapá'\n",
        "  elif G_Aviacao_2018['ESTADO'][i] == 'Ceara\\xa0': \n",
        "    G_Aviacao_2018['ESTADO'][i] = 'Ceará'\n",
        "  elif G_Aviacao_2018['ESTADO'][i] == 'Espirito Santo': \n",
        "    G_Aviacao_2018['ESTADO'][i] = 'Espírito Santo'\n",
        "  elif G_Aviacao_2018['ESTADO'][i] == 'Goias': \n",
        "    G_Aviacao_2018['ESTADO'][i] = 'Goiás'\n",
        "  elif G_Aviacao_2018['ESTADO'][i] == 'Maranhao\\xa0': \n",
        "    G_Aviacao_2018['ESTADO'][i] = 'Maranhăo'\n",
        "  elif G_Aviacao_2018['ESTADO'][i] == 'Para\\xa0': \n",
        "    G_Aviacao_2018['ESTADO'][i] = 'Pará'\n",
        "  elif G_Aviacao_2018['ESTADO'][i] == 'Paraiba\\xa0': \n",
        "    G_Aviacao_2018['ESTADO'][i] = 'Paraíba'\n",
        "  elif G_Aviacao_2018['ESTADO'][i] == 'Piaui': \n",
        "    G_Aviacao_2018['ESTADO'][i] = 'Piauí'\n",
        "  elif G_Aviacao_2018['ESTADO'][i] == 'Parana': \n",
        "    G_Aviacao_2018['ESTADO'][i] = 'Paraná'\n",
        "  elif G_Aviacao_2018['ESTADO'][i] == 'Sao Paulo': \n",
        "    G_Aviacao_2018['ESTADO'][i] = 'Săo Paulo'"
      ],
      "execution_count": 19,
      "outputs": []
    },
    {
      "cell_type": "code",
      "metadata": {
        "id": "6rJu9gPFi_ZU",
        "colab_type": "code",
        "colab": {}
      },
      "source": [
        "# Concatenação dos DataFrames para formar um único arquivo\n",
        "G_Aviacao_ANOS = pd.concat([G_Aviacao_2000,\n",
        "                            G_Aviacao_2001,\n",
        "                            G_Aviacao_2002,\n",
        "                            G_Aviacao_2003,\n",
        "                            G_Aviacao_2004,\n",
        "                            G_Aviacao_2005,\n",
        "                            G_Aviacao_2006,\n",
        "                            G_Aviacao_2007,\n",
        "                            G_Aviacao_2008,\n",
        "                            G_Aviacao_2009,\n",
        "                            G_Aviacao_2010,\n",
        "                            G_Aviacao_2011,\n",
        "                            G_Aviacao_2012,\n",
        "                            G_Aviacao_2013,\n",
        "                            G_Aviacao_2014,\n",
        "                            G_Aviacao_2015,\n",
        "                            G_Aviacao_2016,\n",
        "                            G_Aviacao_2017,\n",
        "                            G_Aviacao_2018], ignore_index=True, sort=False)\n",
        "G_Aviacao_ANOS"
      ],
      "execution_count": null,
      "outputs": []
    },
    {
      "cell_type": "markdown",
      "metadata": {
        "id": "-NuKCuKAueFA",
        "colab_type": "text"
      },
      "source": [
        "(c) o novo conjunto de dados deve ser gravado no formato JSON;"
      ]
    },
    {
      "cell_type": "code",
      "metadata": {
        "id": "tcaWAMjBnJCq",
        "colab_type": "code",
        "colab": {}
      },
      "source": [
        "# Gravação do arquivo novo para o formato JSON\n",
        "G_Aviacao_ANOS.to_json(r'C:\\Users\\rafae\\Desktop', orient=\"split\")\n",
        "\n",
        "# Comando para ler arquivos JSON\n",
        "#pd.read_json('G_Aviacao_ANOS.json', orient='split')"
      ],
      "execution_count": 21,
      "outputs": []
    },
    {
      "cell_type": "markdown",
      "metadata": {
        "id": "alBkWIzCueHw",
        "colab_type": "text"
      },
      "source": [
        "(d) É necessário responder a pergunta: o que é JSON e quais as vantagens dele\n",
        "sobre o CSV?"
      ]
    },
    {
      "cell_type": "markdown",
      "metadata": {
        "id": "FeDtHHLQrAbo",
        "colab_type": "text"
      },
      "source": [
        "JSON (JavaScript Object Notation - Notação de Objetos JavaScript) é uma formatação leve de troca de dados.\n",
        "\n",
        "O JSON é referido como o melhor formato de troca de dados. É leve, compacto e versátil. O CSV é usado principalmente apenas quando há a necessidade de enviar um grande volume de dados e há um problema com a largura de banda. O CSV não pode ser usado onde os dados são complexos e não estruturados; somente o JSON é a melhor opção para trabalhar com dados complexos."
      ]
    },
    {
      "cell_type": "code",
      "metadata": {
        "id": "ZUvJfR5TVPZj",
        "colab_type": "code",
        "colab": {
          "base_uri": "https://localhost:8080/",
          "height": 476
        },
        "outputId": "a4f43a90-b05a-4981-ce1c-8d28fedb40bb"
      },
      "source": [
        "# Pode ser útil:\n",
        "\n",
        "# Ver os estados da coluna \"ESTADOS\":\n",
        "dic = {}\n",
        "for i in G_Aviacao_2018['ESTADO']:\n",
        "  dic[i] = 1\n",
        "\n",
        "Estados = dic.keys()\n",
        "\n",
        "for i in Estados:\n",
        "  print(i)"
      ],
      "execution_count": 22,
      "outputs": [
        {
          "output_type": "stream",
          "text": [
            "Acre \n",
            "Alagoas \n",
            "Amazonas\n",
            "Amapá\n",
            "Bahia\n",
            "Ceará\n",
            "Distrito Federal\n",
            "Espírito Santo\n",
            "Goiás\n",
            "Maranhăo\n",
            "Minas Gerais\n",
            "Mato Grosso do Sul\n",
            "Mato Grosso\n",
            "Pará\n",
            "Paraíba\n",
            "Pernambuco \n",
            "Piauí\n",
            "Paraná\n",
            "Rio de Janeiro\n",
            "Rio Grande do Norte \n",
            "Rondônia\n",
            "Roraima \n",
            "Rio Grande do Sul\n",
            "Santa Catarina\n",
            "Sergipe\n",
            "Săo Paulo\n",
            "Tocantins \n"
          ],
          "name": "stdout"
        }
      ]
    }
  ]
}