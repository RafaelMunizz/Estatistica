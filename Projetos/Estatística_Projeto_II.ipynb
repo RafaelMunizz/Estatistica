{
  "nbformat": 4,
  "nbformat_minor": 0,
  "metadata": {
    "colab": {
      "name": "Estatística - Projeto II.ipynb",
      "provenance": [],
      "collapsed_sections": []
    },
    "kernelspec": {
      "name": "python3",
      "display_name": "Python 3"
    }
  },
  "cells": [
    {
      "cell_type": "markdown",
      "metadata": {
        "id": "_E2ZMRXBXb14"
      },
      "source": [
        "##Engenharia de computação - IFPB\n",
        "\n",
        "##Estatística Aplicada a Computação \n",
        "\n",
        "##Aluno: Rafael Victor Cordeiro Muniz"
      ]
    },
    {
      "cell_type": "markdown",
      "metadata": {
        "id": "Cx-roO81T8mu"
      },
      "source": [
        "Primeiro é necessário importar as bilbiotecas necessárias para os códigos"
      ]
    },
    {
      "cell_type": "code",
      "metadata": {
        "id": "jMegi4mZN1TR"
      },
      "source": [
        "#Importando bibliotecas \n",
        "import pandas as pd \n",
        "import numpy as np\n",
        "import matplotlib.pyplot as plt # Biblioteca utilizada para os gráficos\n",
        "\n",
        "# Melhorando a visualização dos gráficos\n",
        "plt.rcParams['figure.dpi'] = 100\n",
        "plt.rcParams['font.size'] = 15"
      ],
      "execution_count": null,
      "outputs": []
    },
    {
      "cell_type": "markdown",
      "metadata": {
        "id": "d6Q5wRJJNgqk"
      },
      "source": [
        "#Apresentação\n",
        "\n",
        "##Nesse projeto, o aluno terá de trabalhar com dois conjuntos de dados reais, oriundos do Instituto Chico Mendes de Conservação da Biodiversidade (ICMBio), disponíveis na url http://www.icmbio.gov.br/acessoainformacao/plano-de-dados-abertos.html. \n",
        "##Para cada conjunto de dados, serão pedidas algumas análises, das quais se espera que o aluno seja capaz de apresentar código e discussão (explicar a escolha de cada função/comando usado, bem como interpretação dos resultados encontrados) em um Jupyter Notebook."
      ]
    },
    {
      "cell_type": "markdown",
      "metadata": {
        "id": "eXeoePWBM3ZA"
      },
      "source": [
        "Link 1: http://www.icmbio.gov.br/acessoainformacao/images/stories/PDA/Planilhas/Planilhas_CSV/DIMIF-queima.csv\n",
        "\n",
        "Link 2: http://www.icmbio.gov.br/acessoainformacao/images/stories/PDA/Planilhas/Planilhas_CSV/DIMIF_desmatamento.csv\n"
      ]
    },
    {
      "cell_type": "markdown",
      "metadata": {
        "id": "PDBf-y2hMAms"
      },
      "source": [
        "#Parte I: Queimadas em unidades de conservação ambiental no Brasil\n",
        "\n",
        "##O primeiro conjunto de dados link 1 traz dados sobre queimadas em unidades de conservação ambiental (UC). Usando quaisquer ferramentas trabalhadas na disciplina, responda as seguintes situações:"
      ]
    },
    {
      "cell_type": "markdown",
      "metadata": {
        "id": "XgWewQu_MKEB"
      },
      "source": [
        "##1.1 - Em que governo se criou mais UCs, de acordo com os dados? Use gráficos e tabelas para ilustrar sua resposta;"
      ]
    },
    {
      "cell_type": "markdown",
      "metadata": {
        "id": "4JH4TqOTQZdQ"
      },
      "source": [
        "O primeiro passo será importar o arquivo CSV, que nesse caso, foi colocado no arquivo por meio de upload, após isso vamos usar a função 'read_csv', com o diretório do arquivo, para introduzir o arquivo ao programa, então iremos atribuir os dados à uma variável que será nosso DataFrame."
      ]
    },
    {
      "cell_type": "code",
      "metadata": {
        "id": "E4Iog2D1pz0D"
      },
      "source": [
        "QueimadasUC = pd.read_csv(\"/content/DIMIF-queima.csv\", sep=';') "
      ],
      "execution_count": null,
      "outputs": []
    },
    {
      "cell_type": "markdown",
      "metadata": {
        "id": "w29ye_mbROPM"
      },
      "source": [
        "No trecho seguinte temos:\n",
        "- Criação de uma Serie contendo todo os anos do Dataframe;\n",
        "- Criação de uma lista para colocar os presidentes em exercício em cada ano;\n",
        "- Uso de uma função para transformar o ano dado como parâmetro no nome do presidente daquele período;\n",
        "- For para colocar os nomes dos presidentes de acordo com os anos da Serie \"Anos\" e a transformando a lista em uma Serie;\n",
        "- Um gráfico horizontal com os 9 primeiros presidentes da Serie e relacionando com a quantidade de UC's criadas;\n",
        "- Colocação do título do gráfico com a função \"title\"."
      ]
    },
    {
      "cell_type": "code",
      "metadata": {
        "id": "nq7Cj_3sofbB",
        "colab": {
          "base_uri": "https://localhost:8080/",
          "height": 413
        },
        "outputId": "2566c178-11ca-4bd0-8270-67407c999dc6"
      },
      "source": [
        "Anos = pd.Series(QueimadasUC['Ano de criação']) \n",
        "Presidentes = [] \n",
        "\n",
        "def presidente(ano): \n",
        "  presidente = \"\"\n",
        "\n",
        "  if ano >= 1956 and ano < 1961: presidente = \"Juscelino Kubitschek\"\n",
        "  elif ano >= 1961 and ano < 1962: presidente = \"Jânio Quadros\"\n",
        "  elif ano >= 1962 and ano < 1964: presidente = \"João Goulart\"\n",
        "  elif ano >= 1964 and ano < 1967: presidente = \"Castelo Branco\"\n",
        "  elif ano >= 1967 and ano < 1969: presidente = \"Artur da Costa e Silva\"\n",
        "  elif ano >= 1969 and ano < 1974: presidente = \"Emílio Garrastazu Médici\"\n",
        "  elif ano >= 1974 and ano < 1979: presidente = \"Ernesto Geisel\"\n",
        "  elif ano >= 1979 and ano < 1985: presidente = \"João Figueiredo\"\n",
        "  elif ano >= 1985 and ano < 1990: presidente = \"José Sarney\"\n",
        "  elif ano >= 1990 and ano < 1993: presidente = \"Fernando Collor\"\n",
        "  elif ano >= 1993 and ano < 1995: presidente = \"Itamar Franco\"\n",
        "  elif ano >= 1995 and ano < 2003: presidente = \"Fernando Henrique Cardoso\"\n",
        "  elif ano >= 2003 and ano < 2011: presidente = \"Luiz Inácio Lula da Silva\"\n",
        "  elif ano >= 2011 and ano < 2016: presidente = \"Dilma Rousseff\"\n",
        "  elif ano >= 2016 and ano < 2019: presidente = \"Michel Temer\"\n",
        "  else: presidente = \"Presidentes antes de 56\"\n",
        "  return presidente\n",
        "\n",
        "for i in range(len(Anos)): Presidentes.append(presidente(Anos[i]))\n",
        "Presidentes = pd.Series(Presidentes) \n",
        "Presidentes.value_counts().iloc[:9].plot.barh() \n",
        "plt.title(\"UC's criadas por governo\") "
      ],
      "execution_count": null,
      "outputs": [
        {
          "output_type": "execute_result",
          "data": {
            "text/plain": [
              "Text(0.5, 1.0, \"UC's criadas por governo\")"
            ]
          },
          "metadata": {
            "tags": []
          },
          "execution_count": 332
        },
        {
          "output_type": "display_data",
          "data": {
            "image/png": "[encoded data removed]",
            "text/plain": [
              "<Figure size 600x400 with 1 Axes>"
            ]
          },
          "metadata": {
            "tags": [],
            "needs_background": "light"
          }
        }
      ]
    },
    {
      "cell_type": "markdown",
      "metadata": {
        "id": "PqeDc0hzQMae"
      },
      "source": [
        "O processo utilizado aqui será a criação de duas Series contendo anos com mais ocorrências e a quantidade de anos. Então, será feito uma lista contendo  presidentes em ordem de anos com mais criações de UC's. \n",
        "\n",
        "Os passos tomados aqui são semelhantes ao código anterior, criando um for para colocar os nomes dos presidentes de acordo com os anos da Serie \"Anos\" e a transformando a lista em uma Serie.\n",
        "\n",
        "Após isso será criado um dataframe contendo as informações das duas series e adicionado nomes as colunas e aos índices, com cada presidente que estava em exercício naquele tempo, para uma melhor visualização das informações. Com isso, será criada a tabela informativa.\n"
      ]
    },
    {
      "cell_type": "code",
      "metadata": {
        "id": "rRoWleSbp_8r",
        "colab": {
          "base_uri": "https://localhost:8080/",
          "height": 328
        },
        "outputId": "c8428a1f-1a5d-434a-8bd9-c9951b5d682d"
      },
      "source": [
        "Anos = pd.Series(QueimadasUC['Ano de criação'].value_counts().iloc[:9].index) \n",
        "QuantAnos = pd.Series(QueimadasUC['Ano de criação'].value_counts().iloc[:9].values) \n",
        "\n",
        "Pres = [] \n",
        "for i in Anos: Pres.append(presidente(i)) \n",
        "Pres = pd.Series(Pres) \n",
        "\n",
        "RankingCriacaoUCs = pd.concat([Anos, QuantAnos], axis=1) \n",
        "RankingCriacaoUCs.columns = (['Ano', 'UCs criadas']) \n",
        "RankingCriacaoUCs.index = Pres \n",
        "RankingCriacaoUCs"
      ],
      "execution_count": null,
      "outputs": [
        {
          "output_type": "execute_result",
          "data": {
            "text/html": [
              "<div>\n",
              "<style scoped>\n",
              "    .dataframe tbody tr th:only-of-type {\n",
              "        vertical-align: middle;\n",
              "    }\n",
              "\n",
              "    .dataframe tbody tr th {\n",
              "        vertical-align: top;\n",
              "    }\n",
              "\n",
              "    .dataframe thead th {\n",
              "        text-align: right;\n",
              "    }\n",
              "</style>\n",
              "<table border=\"1\" class=\"dataframe\">\n",
              "  <thead>\n",
              "    <tr style=\"text-align: right;\">\n",
              "      <th></th>\n",
              "      <th>Ano</th>\n",
              "      <th>UCs criadas</th>\n",
              "    </tr>\n",
              "  </thead>\n",
              "  <tbody>\n",
              "    <tr>\n",
              "      <th>Fernando Henrique Cardoso</th>\n",
              "      <td>2001</td>\n",
              "      <td>25</td>\n",
              "    </tr>\n",
              "    <tr>\n",
              "      <th>Luiz Inácio Lula da Silva</th>\n",
              "      <td>2006</td>\n",
              "      <td>22</td>\n",
              "    </tr>\n",
              "    <tr>\n",
              "      <th>Luiz Inácio Lula da Silva</th>\n",
              "      <td>2005</td>\n",
              "      <td>21</td>\n",
              "    </tr>\n",
              "    <tr>\n",
              "      <th>Fernando Henrique Cardoso</th>\n",
              "      <td>2002</td>\n",
              "      <td>20</td>\n",
              "    </tr>\n",
              "    <tr>\n",
              "      <th>José Sarney</th>\n",
              "      <td>1989</td>\n",
              "      <td>18</td>\n",
              "    </tr>\n",
              "    <tr>\n",
              "      <th>Fernando Collor</th>\n",
              "      <td>1990</td>\n",
              "      <td>15</td>\n",
              "    </tr>\n",
              "    <tr>\n",
              "      <th>José Sarney</th>\n",
              "      <td>1985</td>\n",
              "      <td>14</td>\n",
              "    </tr>\n",
              "    <tr>\n",
              "      <th>Fernando Henrique Cardoso</th>\n",
              "      <td>1998</td>\n",
              "      <td>13</td>\n",
              "    </tr>\n",
              "    <tr>\n",
              "      <th>João Figueiredo</th>\n",
              "      <td>1982</td>\n",
              "      <td>13</td>\n",
              "    </tr>\n",
              "  </tbody>\n",
              "</table>\n",
              "</div>"
            ],
            "text/plain": [
              "                            Ano  UCs criadas\n",
              "Fernando Henrique Cardoso  2001           25\n",
              "Luiz Inácio Lula da Silva  2006           22\n",
              "Luiz Inácio Lula da Silva  2005           21\n",
              "Fernando Henrique Cardoso  2002           20\n",
              "José Sarney                1989           18\n",
              "Fernando Collor            1990           15\n",
              "José Sarney                1985           14\n",
              "Fernando Henrique Cardoso  1998           13\n",
              "João Figueiredo            1982           13"
            ]
          },
          "metadata": {
            "tags": []
          },
          "execution_count": 333
        }
      ]
    },
    {
      "cell_type": "markdown",
      "metadata": {
        "id": "FXuTQ1qvrcBg"
      },
      "source": [
        "R: Como mostrado por meio da tabela e gráfico, mais se criou UC's no Governo Fernando Henrique Cardoso (1995 - 2003)."
      ]
    },
    {
      "cell_type": "markdown",
      "metadata": {
        "id": "YXQWzCC5MPHR"
      },
      "source": [
        "##1.2 - Construa um dataframe de bioma referencial por categoria de UC (dica: groupby) e construa um gráfico relacionando as duas variáveis;"
      ]
    },
    {
      "cell_type": "markdown",
      "metadata": {
        "id": "hoR_u5iUXXM6"
      },
      "source": [
        "Aqui utilizaremos a função 'crosstab' para criarmos um DataFrame unindo informações entre duas colunas do DataFrame original. Após isso, utilizaremos o Dataframe como base para criação do gráfico, que será na horizontal (plot.barh) para melhor visualisação das informações. Também empilharemos as informações em comuns (Stacked=True), para poupar espaço e ajudar na leitura. E então, colocaremos o gráfico na parte esquerda da legenda, para não haver informações sobrepostas e adicionaremos um título (.title)."
      ]
    },
    {
      "cell_type": "code",
      "metadata": {
        "id": "sNnlQwBPqAxg",
        "colab": {
          "base_uri": "https://localhost:8080/",
          "height": 413
        },
        "outputId": "fbd21f4e-4c47-407c-bcbb-73fe46b7d176"
      },
      "source": [
        "Tabela = pd.crosstab(QueimadasUC['Bioma referencial'], QueimadasUC['Categoria da UC: sigla federal']) \n",
        "Tabela.plot.barh(stacked=True) \n",
        "plt.legend(bbox_to_anchor=(1.05, 1), loc='upper left') \n",
        "plt.title(\"Quant. de UC's nos biomas\") "
      ],
      "execution_count": null,
      "outputs": [
        {
          "output_type": "execute_result",
          "data": {
            "text/plain": [
              "Text(0.5, 1.0, \"Quant. de UC's nos biomas\")"
            ]
          },
          "metadata": {
            "tags": []
          },
          "execution_count": 334
        },
        {
          "output_type": "display_data",
          "data": {
            "image/png": "[encoded data removed]",
            "text/plain": [
              "<Figure size 600x400 with 1 Axes>"
            ]
          },
          "metadata": {
            "tags": [],
            "needs_background": "light"
          }
        }
      ]
    },
    {
      "cell_type": "markdown",
      "metadata": {
        "id": "nVdKHLG6MUkw"
      },
      "source": [
        "##1.3 - Monte um gráfico da quantidade de área queimada por ano, mostrando a evolução das queimadas;\n"
      ]
    },
    {
      "cell_type": "markdown",
      "metadata": {
        "id": "fU45AY6JEA68"
      },
      "source": [
        "Inicialmente, foi-se criada uma função para ajustar certos valores na coluna de área queimada em cada ano, pois, para poder manipular os valores, é preciso que eles não tenham ponto de milhar, tenham um separador de decimal como um ponto e não tenham valores NaN, para assim poder converter os valores para float64, e é isso que a função a seguir faz. "
      ]
    },
    {
      "cell_type": "code",
      "metadata": {
        "id": "l0juibFrBfOw"
      },
      "source": [
        "def ajustes(coluna): # remove NaN, tira ponto de milhar, troca vírgula por ponto, passa pra float\n",
        "  coluna = coluna.dropna()\n",
        "  coluna = coluna.apply(lambda x: x.replace('.',''))\n",
        "  coluna = coluna.apply(lambda x: x.replace(',','.'))\n",
        "  coluna = coluna.astype('float64')\n",
        "  return coluna"
      ],
      "execution_count": null,
      "outputs": []
    },
    {
      "cell_type": "markdown",
      "metadata": {
        "id": "LYX1U43IE5_i"
      },
      "source": [
        "Aqui temos a criação de 7 variáveis, correspondendo a soma (.sum) de todos os valores em cada coluna referente a quantidade de área queimada por ano, com a função 'ajustes', criada anteriormente."
      ]
    },
    {
      "cell_type": "code",
      "metadata": {
        "id": "gqkI-6DzByFo"
      },
      "source": [
        "Area2012 = ajustes(QueimadasUC['Área queimada em 2012']).sum()\n",
        "Area2013 = ajustes(QueimadasUC['Área queimada em 2013']).sum()\n",
        "Area2014 = ajustes(QueimadasUC['Área queimada em 2014']).sum()\n",
        "Area2015 = ajustes(QueimadasUC['Área queimada em 2015']).sum()\n",
        "Area2016 = ajustes(QueimadasUC['Área queimada em 2016']).sum()\n",
        "Area2017 = ajustes(QueimadasUC['Área queimada em 2017']).sum()\n",
        "Area2018 = ajustes(QueimadasUC['Área queimada em 2018']).sum()"
      ],
      "execution_count": null,
      "outputs": []
    },
    {
      "cell_type": "markdown",
      "metadata": {
        "id": "KxguUvwpGFGh"
      },
      "source": [
        "Para poder fazer um dataframe cocatenando (.concat) os valores com a quantidade de área queimada em todos os anos e com os anos correspondentes, foram criadas duas Series (pd.Series), uma com as variáveis criadas anteriormente unidas em uma única serie e outro com anos de cada queimada.\n",
        "\n",
        "Apos isso foi colocada novos nomes para as colunas (.columns), para um entendimento das informações presentes.\n",
        "\n"
      ]
    },
    {
      "cell_type": "code",
      "metadata": {
        "id": "dZfNhkVXJ7oP"
      },
      "source": [
        "QuantAreasQueimadas = pd.Series([Area2012, Area2013, Area2014, Area2015, Area2016, Area2017, Area2018])\n",
        "AnosAreasQueimadas = pd.Series([2012, 2013, 2014, 2015, 2016, 2017, 2018])\n",
        "DataFrame = pd.concat([AnosAreasQueimadas, QuantAreasQueimadas], axis=1)\n",
        "DataFrame.columns = ['Ano', 'Área queimada']"
      ],
      "execution_count": null,
      "outputs": []
    },
    {
      "cell_type": "markdown",
      "metadata": {
        "id": "SCS8xcY0J-xo"
      },
      "source": [
        "Aqui será criado o gráfico em linhas (.plot), especificando quais as colunas que irão servir como eixo X e Y, tirando também a legenga. Então, será colocado um título (plt.title) acima do gráfico."
      ]
    },
    {
      "cell_type": "code",
      "metadata": {
        "id": "pWLltg7pqD8Z",
        "colab": {
          "base_uri": "https://localhost:8080/",
          "height": 442
        },
        "outputId": "13ce1aff-9f35-4d38-8310-ba22b1c57944"
      },
      "source": [
        "DataFrame.plot(x='Ano', y='Área queimada',legend=False)\n",
        "plt.title(\"Áreas queimadas por ano\")"
      ],
      "execution_count": null,
      "outputs": [
        {
          "output_type": "execute_result",
          "data": {
            "text/plain": [
              "Text(0.5, 1.0, 'Áreas queimadas por ano')"
            ]
          },
          "metadata": {
            "tags": []
          },
          "execution_count": 338
        },
        {
          "output_type": "display_data",
          "data": {
            "image/png": "[encoded data removed]",
            "text/plain": [
              "<Figure size 600x400 with 1 Axes>"
            ]
          },
          "metadata": {
            "tags": [],
            "needs_background": "light"
          }
        }
      ]
    },
    {
      "cell_type": "markdown",
      "metadata": {
        "id": "_c2e4ggpMWwD"
      },
      "source": [
        "##1.4 - Construa uma tabela que relacione estados e área queimada, respondendo qual o estado que mais e o que menos teve área queimada nos anos computados na pesquisa."
      ]
    },
    {
      "cell_type": "markdown",
      "metadata": {
        "id": "aOFTsDOhCipj"
      },
      "source": [
        "Função que recebe a coluna de estados com o nome completo e remove toda a informação, fora a sigla do estado. O retorno da função já é dado como uma Series."
      ]
    },
    {
      "cell_type": "code",
      "metadata": {
        "id": "gX_L89aFB4N9"
      },
      "source": [
        "def estadosCorrespondentes(EstadosColuna): # cria lista com Estados correspondentes de cada área queimada obtida anteriormente\n",
        "\n",
        "  Estados = EstadosColuna.apply(lambda x: x[-2:])\n",
        "  Estados = pd.Series(Estados)\n",
        "  return Estados"
      ],
      "execution_count": null,
      "outputs": []
    },
    {
      "cell_type": "markdown",
      "metadata": {
        "id": "RjStyqScDbZS"
      },
      "source": [
        "A função a seguir utiliza a função \"ajustes\" da questão anterior para consertar os valores de área queimada, que contém vírgulas como separador de decimal e pontos para unidades de milhar. Após isso, utiliza a função anteiror para criar uma Serie com o nome de todos os estados por sigla.\n",
        "\n",
        "Então, utiliza as duas series feitas para criarem um dataframe, contendo os anos e sigla de estados, a partir da concatenação (.concat) na vertical (axis=1). As funções .dropna e reset_index são utilizadas para remover a ocorrência de valores NaN e recolocar os índices em ordem crescente novamente, respectivamente."
      ]
    },
    {
      "cell_type": "code",
      "metadata": {
        "id": "uCFaRxdxCBLe"
      },
      "source": [
        "def CriandoDataframe(AnoQueimada): # Cria duas Series com as informações anteriores e cria um DataFrame\n",
        "\n",
        "  AreaQ = ajustes(AnoQueimada) #Consertando os índices, pois estão variados\n",
        "  EstadoAreaQ = estadosCorrespondentes(QueimadasUC['Coordenação Regional do ICMBio'])\n",
        "  Area = pd.concat([EstadoAreaQ, AreaQ], axis=1)\n",
        "  Area = Area.dropna().reset_index(drop=True) # removendo NaN e consertando os índices para ficarem em ordem\n",
        "  \n",
        "  return Area"
      ],
      "execution_count": null,
      "outputs": []
    },
    {
      "cell_type": "markdown",
      "metadata": {
        "id": "Tfpo4n1CNkX6"
      },
      "source": [
        "Nesta função é criada um dataframe com a função anterior, contendo ano e quantidade de área queimada por estado. A seguir, é feita uma lista contendo 10 posições, onde serão armazenadas a soma da quantidade de área queimada de acordo com a sigla do estado. Para isso, foi criado um for que compara se a sigla do estado é igual a do que se quer encontrar, então, se é feita a soma na posição certa, seguindo a ordem de estados presente dentro do for. Quando toda a operação do for é feita, tem-se uma lista com os valores da soma da área total queimada por estado."
      ]
    },
    {
      "cell_type": "code",
      "metadata": {
        "id": "KE776gm6CH4W"
      },
      "source": [
        "def somandoQueimadaEstados(DataframeQueimadas, AreaQueimada):\n",
        "\n",
        "  Area = CriandoDataframe(DataframeQueimadas)\n",
        "  SomaFinal = [0]*10\n",
        "  \n",
        "  for i in range(len(Area[AreaQueimada].values)):\n",
        "\n",
        "    if Area['Coordenação Regional do ICMBio'][i] == 'PA': SomaFinal[0] += Area[AreaQueimada][i]\n",
        "    elif Area['Coordenação Regional do ICMBio'][i] == 'SC': SomaFinal[1] += Area[AreaQueimada][i]\n",
        "    elif Area['Coordenação Regional do ICMBio'][i] == 'RO': SomaFinal[2] += Area[AreaQueimada][i]\n",
        "    elif Area['Coordenação Regional do ICMBio'][i] == 'RJ': SomaFinal[3] += Area[AreaQueimada][i]\n",
        "    elif Area['Coordenação Regional do ICMBio'][i] == 'PB': SomaFinal[4] += Area[AreaQueimada][i]\n",
        "    elif Area['Coordenação Regional do ICMBio'][i] == 'BA': SomaFinal[5] += Area[AreaQueimada][i]\n",
        "    elif Area['Coordenação Regional do ICMBio'][i] == 'MG': SomaFinal[6] += Area[AreaQueimada][i]\n",
        "    elif Area['Coordenação Regional do ICMBio'][i] == 'AM': SomaFinal[7] += Area[AreaQueimada][i]\n",
        "    elif Area['Coordenação Regional do ICMBio'][i] == 'PI': SomaFinal[8] += Area[AreaQueimada][i]\n",
        "    elif Area['Coordenação Regional do ICMBio'][i] == 'MT': SomaFinal[9] += Area[AreaQueimada][i]\n",
        "\n",
        "  return SomaFinal"
      ],
      "execution_count": null,
      "outputs": []
    },
    {
      "cell_type": "markdown",
      "metadata": {
        "id": "4plLR_XuNlsr"
      },
      "source": [
        "Aqui são criadas 7 variáveis contendo uma lista com a soma total de área queimada por estado. Cada variável armazenará um ano.\n",
        "\n",
        "A soma total de todos os estados de 2012 a 2018 ficará armazenada na variável'SomaTotal', que é uma lista."
      ]
    },
    {
      "cell_type": "code",
      "metadata": {
        "id": "cI9_9GHwCV7d"
      },
      "source": [
        "SomaAreaQ2018 = somandoQueimadaEstados(QueimadasUC['Área queimada em 2018'], 'Área queimada em 2018')\n",
        "SomaAreaQ2017 = somandoQueimadaEstados(QueimadasUC['Área queimada em 2017'], 'Área queimada em 2017')\n",
        "SomaAreaQ2016 = somandoQueimadaEstados(QueimadasUC['Área queimada em 2016'], 'Área queimada em 2016')\n",
        "SomaAreaQ2015 = somandoQueimadaEstados(QueimadasUC['Área queimada em 2015'], 'Área queimada em 2015')\n",
        "SomaAreaQ2014 = somandoQueimadaEstados(QueimadasUC['Área queimada em 2014'], 'Área queimada em 2014')\n",
        "SomaAreaQ2013 = somandoQueimadaEstados(QueimadasUC['Área queimada em 2013'], 'Área queimada em 2013')\n",
        "SomaAreaQ2012 = somandoQueimadaEstados(QueimadasUC['Área queimada em 2012'], 'Área queimada em 2012')\n",
        "\n",
        "SomaTotal = []\n",
        "for i in range(10):\n",
        "  SomaTotal.append(SomaAreaQ2012[i]+SomaAreaQ2013[i]+SomaAreaQ2014[i]+SomaAreaQ2015[i]+SomaAreaQ2016[i]+SomaAreaQ2017[i]+SomaAreaQ2018[i])"
      ],
      "execution_count": null,
      "outputs": []
    },
    {
      "cell_type": "markdown",
      "metadata": {
        "id": "CR-_yuVhNmaA"
      },
      "source": [
        "A variável 'SiglasEstados' está armazenando a sigla de todos os estados na mesma ordem que a variável 'SomaTotal' guardou a soma de tota a área queimada. Para poder ser feita a criação de um DataFrame relacionando as duas colunas, é necessário transformá-las em Series primeiramente, e então usar o 'concat' para criar a variável 'DataFrameTotalQAnos'. Após essas etapas, foram colocados nomes novos nas colunas, colocado os valores em ordem do maior para o menor e colocados novos índices crescentes, começando do 0."
      ]
    },
    {
      "cell_type": "code",
      "metadata": {
        "id": "mZgL6UWEqIXo",
        "colab": {
          "base_uri": "https://localhost:8080/",
          "height": 359
        },
        "outputId": "b4df99d5-45c3-4db5-bc29-3a4bee56cf03"
      },
      "source": [
        "SiglasEstados = pd.Series(QueimadasUC['Coordenação Regional do ICMBio'].apply(lambda x: x[-2:]).value_counts().index)\n",
        "SomaTotal = pd.Series(SomaTotal)\n",
        "\n",
        "DataFrameTotalQAnos = pd.concat([SiglasEstados, SomaTotal], axis=1)\n",
        "DataFrameTotalQAnos.columns = ['Sigla', 'Área queimada (2012-2018)']\n",
        "DataFrameTotalQAnos.sort_values(by=['Área queimada (2012-2018)'], inplace=True,ascending=False)\n",
        "DataFrameTotalQAnos.reset_index(drop=True) # consertando os índices para ficarem em ordem"
      ],
      "execution_count": null,
      "outputs": [
        {
          "output_type": "execute_result",
          "data": {
            "text/html": [
              "<div>\n",
              "<style scoped>\n",
              "    .dataframe tbody tr th:only-of-type {\n",
              "        vertical-align: middle;\n",
              "    }\n",
              "\n",
              "    .dataframe tbody tr th {\n",
              "        vertical-align: top;\n",
              "    }\n",
              "\n",
              "    .dataframe thead th {\n",
              "        text-align: right;\n",
              "    }\n",
              "</style>\n",
              "<table border=\"1\" class=\"dataframe\">\n",
              "  <thead>\n",
              "    <tr style=\"text-align: right;\">\n",
              "      <th></th>\n",
              "      <th>Sigla</th>\n",
              "      <th>Área queimada (2012-2018)</th>\n",
              "    </tr>\n",
              "  </thead>\n",
              "  <tbody>\n",
              "    <tr>\n",
              "      <th>0</th>\n",
              "      <td>PI</td>\n",
              "      <td>3105377.3</td>\n",
              "    </tr>\n",
              "    <tr>\n",
              "      <th>1</th>\n",
              "      <td>MT</td>\n",
              "      <td>2010848.9</td>\n",
              "    </tr>\n",
              "    <tr>\n",
              "      <th>2</th>\n",
              "      <td>MG</td>\n",
              "      <td>806230.9</td>\n",
              "    </tr>\n",
              "    <tr>\n",
              "      <th>3</th>\n",
              "      <td>PA</td>\n",
              "      <td>396893.6</td>\n",
              "    </tr>\n",
              "    <tr>\n",
              "      <th>4</th>\n",
              "      <td>RO</td>\n",
              "      <td>384665.2</td>\n",
              "    </tr>\n",
              "    <tr>\n",
              "      <th>5</th>\n",
              "      <td>AM</td>\n",
              "      <td>177617.0</td>\n",
              "    </tr>\n",
              "    <tr>\n",
              "      <th>6</th>\n",
              "      <td>SC</td>\n",
              "      <td>106311.7</td>\n",
              "    </tr>\n",
              "    <tr>\n",
              "      <th>7</th>\n",
              "      <td>BA</td>\n",
              "      <td>57764.1</td>\n",
              "    </tr>\n",
              "    <tr>\n",
              "      <th>8</th>\n",
              "      <td>RJ</td>\n",
              "      <td>6429.1</td>\n",
              "    </tr>\n",
              "    <tr>\n",
              "      <th>9</th>\n",
              "      <td>PB</td>\n",
              "      <td>3821.1</td>\n",
              "    </tr>\n",
              "  </tbody>\n",
              "</table>\n",
              "</div>"
            ],
            "text/plain": [
              "  Sigla  Área queimada (2012-2018)\n",
              "0    PI                  3105377.3\n",
              "1    MT                  2010848.9\n",
              "2    MG                   806230.9\n",
              "3    PA                   396893.6\n",
              "4    RO                   384665.2\n",
              "5    AM                   177617.0\n",
              "6    SC                   106311.7\n",
              "7    BA                    57764.1\n",
              "8    RJ                     6429.1\n",
              "9    PB                     3821.1"
            ]
          },
          "metadata": {
            "tags": []
          },
          "execution_count": 343
        }
      ]
    },
    {
      "cell_type": "markdown",
      "metadata": {
        "id": "BJtG6wrXNnPu"
      },
      "source": [
        "Gráfico extra, para melhor visualização de informações:"
      ]
    },
    {
      "cell_type": "code",
      "metadata": {
        "id": "X4xEyRwPNVtQ",
        "colab": {
          "base_uri": "https://localhost:8080/",
          "height": 454
        },
        "outputId": "51fd3f59-3b04-495e-c2c8-48c328fae864"
      },
      "source": [
        "DataFrameTotalQAnos.plot.bar(x='Sigla', y='Área queimada (2012-2018)', legend=False)\n",
        "plt.title(\"Total de áreas queimadas (2012-2018)\")"
      ],
      "execution_count": null,
      "outputs": [
        {
          "output_type": "execute_result",
          "data": {
            "text/plain": [
              "Text(0.5, 1.0, 'Total de áreas queimadas (2012-2018)')"
            ]
          },
          "metadata": {
            "tags": []
          },
          "execution_count": 344
        },
        {
          "output_type": "display_data",
          "data": {
            "image/png": "[encoded data removed]",
            "text/plain": [
              "<Figure size 600x400 with 1 Axes>"
            ]
          },
          "metadata": {
            "tags": [],
            "needs_background": "light"
          }
        }
      ]
    },
    {
      "cell_type": "markdown",
      "metadata": {
        "id": "JhdhnQ8iMYwL"
      },
      "source": [
        "#Parte II: Desmatamentos em unidades de conservação ambiental no Brasil\n",
        "\n",
        "##O segundo conjunto de dados link 2 traz dados sobre desmatamento em unidades de conservação ambiental (UC).\n",
        "##Para essa conjunto de dados, observe-o, e elabore seis perguntas que você possa responder usando os dados desse conjunto. Responda cada uma delas, analisando os resultados obtidos, e, se possível, use gráficos, medidas e tabelas para ilustrar sua discussão."
      ]
    },
    {
      "cell_type": "markdown",
      "metadata": {
        "id": "5MzqWppt7Zxq"
      },
      "source": [
        "Importando dataframe:"
      ]
    },
    {
      "cell_type": "code",
      "metadata": {
        "id": "QeefRYiiRL3p"
      },
      "source": [
        "DesmatamentosUC = pd.read_csv(\"/content/DIMIF_desmatamento.csv\", sep=';')"
      ],
      "execution_count": null,
      "outputs": []
    },
    {
      "cell_type": "markdown",
      "metadata": {
        "id": "tQnftSD8zMP-"
      },
      "source": [
        "Removendo uma linha e 3 colunas que não tem informações relevantes:\n"
      ]
    },
    {
      "cell_type": "code",
      "metadata": {
        "id": "n8kCh_qAuSwX"
      },
      "source": [
        "DesmatamentosUC = DesmatamentosUC.drop(index=0, columns=['Unnamed: 21', 'Unnamed: 31', 'Unnamed: 32'])          "
      ],
      "execution_count": null,
      "outputs": []
    },
    {
      "cell_type": "markdown",
      "metadata": {
        "id": "ohDW3Fwrz-v3"
      },
      "source": [
        "*   # 2.1 - Com uma tabela, mostre a quantidade de areas desmatadas em cada ano e em cada estado."
      ]
    },
    {
      "cell_type": "markdown",
      "metadata": {
        "id": "yWgJlikr7w04"
      },
      "source": [
        "Função que recebe a coluna de estados com o nome completo e remove toda a informação, fora a sigla do estado. O retorno da função já é dado como uma Series."
      ]
    },
    {
      "cell_type": "code",
      "metadata": {
        "id": "Z0kOtZdNej2X"
      },
      "source": [
        "def estadosCorrespondentes(EstadosColuna): # cria lista com Estados correspondentes de cada área Desmatada obtida anteriormente\n",
        "\n",
        "  Estados = EstadosColuna.apply(lambda x: x[-2:])\n",
        "  Estados = pd.Series(Estados)\n",
        "  return Estados"
      ],
      "execution_count": null,
      "outputs": []
    },
    {
      "cell_type": "markdown",
      "metadata": {
        "id": "bxFznNU87xaj"
      },
      "source": [
        "A função a seguir utiliza a função \"ajustes\" da questão anterior para consertar os valores de área desmatada, que contém vírgulas como separador de decimal e pontos para unidades de milhar. Após isso, utiliza a função anteiror para criar uma Serie com o nome de todos os estados por sigla.\n",
        "\n",
        "Então, utiliza as duas series feitas para criarem um dataframe, contendo os anos e sigla de estados, a partir da concatenação (.concat) na vertical (axis=1). As funções .dropna e reset_index são utilizadas para remover a ocorrência de valores NaN e recolocar os índices em ordem crescente novamente, respectivamente."
      ]
    },
    {
      "cell_type": "code",
      "metadata": {
        "id": "cQ60l_2GenLV"
      },
      "source": [
        "def CriandoDataframe(AnoDesmatada): # Cria duas Series com as informações anteriores e cria um DataFrame\n",
        "\n",
        "  AreaD = ajustes(AnoDesmatada) #Consertando os índices, pois estão variados\n",
        "  EstadoAreaD = estadosCorrespondentes(DesmatamentosUC['Coordenação Regional do ICMBio'])\n",
        "  Area = pd.concat([EstadoAreaD, AreaD], axis=1)\n",
        "  Area = Area.dropna().reset_index(drop=True) # removendo NaN e consertando os índices para ficarem em ordem\n",
        "  \n",
        "  return Area"
      ],
      "execution_count": null,
      "outputs": []
    },
    {
      "cell_type": "markdown",
      "metadata": {
        "id": "OhgfRama7x14"
      },
      "source": [
        "Nesta função é criada um dataframe com a função anterior, contendo ano e quantidade de área devastada por estado. A seguir, é feita uma lista contendo 10 posições, onde serão armazenadas a soma da quantidade de área devastada de acordo com a sigla do estado. Para isso, foi criado um for que compara se a sigla do estado é igual a do que se quer encontrar, então, se é feita a soma na posição certa, seguindo a ordem de estados presente dentro do for. Quando toda a operação do for é feita, tem-se uma lista com os valores da soma da área total devastada por estado."
      ]
    },
    {
      "cell_type": "code",
      "metadata": {
        "id": "4SWKBiZoeqxB"
      },
      "source": [
        "def somandoDesmatamentoEstados(DataframeDesmatamentos, AreaDesmatamento):\n",
        "\n",
        "  Area = CriandoDataframe(DataframeDesmatamentos)\n",
        "  SomaFinal = [0]*10\n",
        "  \n",
        "  for i in range(len(Area[AreaDesmatamento].values)):\n",
        "\n",
        "    if Area['Coordenação Regional do ICMBio'][i] == 'PA': SomaFinal[0] += Area[AreaDesmatamento][i]\n",
        "    elif Area['Coordenação Regional do ICMBio'][i] == 'SC': SomaFinal[1] += Area[AreaDesmatamento][i]\n",
        "    elif Area['Coordenação Regional do ICMBio'][i] == 'RO': SomaFinal[2] += Area[AreaDesmatamento][i]\n",
        "    elif Area['Coordenação Regional do ICMBio'][i] == 'RJ': SomaFinal[3] += Area[AreaDesmatamento][i]\n",
        "    elif Area['Coordenação Regional do ICMBio'][i] == 'PB': SomaFinal[4] += Area[AreaDesmatamento][i]\n",
        "    elif Area['Coordenação Regional do ICMBio'][i] == 'BA': SomaFinal[5] += Area[AreaDesmatamento][i]\n",
        "    elif Area['Coordenação Regional do ICMBio'][i] == 'MG': SomaFinal[6] += Area[AreaDesmatamento][i]\n",
        "    elif Area['Coordenação Regional do ICMBio'][i] == 'AM': SomaFinal[7] += Area[AreaDesmatamento][i]\n",
        "    elif Area['Coordenação Regional do ICMBio'][i] == 'PI': SomaFinal[8] += Area[AreaDesmatamento][i]\n",
        "    elif Area['Coordenação Regional do ICMBio'][i] == 'MT': SomaFinal[9] += Area[AreaDesmatamento][i]\n",
        "\n",
        "  return SomaFinal"
      ],
      "execution_count": null,
      "outputs": []
    },
    {
      "cell_type": "markdown",
      "metadata": {
        "id": "7TX_VxLs7ygV"
      },
      "source": [
        "Aqui são criadas 20 variáveis contendo uma lista com a soma de área queimada por estado. Cada variável armazenará um ano ou mais."
      ]
    },
    {
      "cell_type": "code",
      "metadata": {
        "id": "Yv3egW8GexOJ"
      },
      "source": [
        "SomaAreaD2018 = pd.Series(somandoDesmatamentoEstados(DesmatamentosUC['PRODES 2018'], 'PRODES 2018'))\n",
        "SomaAreaD2017 = pd.Series(somandoDesmatamentoEstados(DesmatamentosUC['PRODES 2017'], 'PRODES 2017'))\n",
        "SomaAreaD2016 = pd.Series(somandoDesmatamentoEstados(DesmatamentosUC['PRODES 2016'], 'PRODES 2016'))\n",
        "SomaAreaD2015 = pd.Series(somandoDesmatamentoEstados(DesmatamentosUC['PRODES 2015'], 'PRODES 2015'))\n",
        "SomaAreaD2014 = pd.Series(somandoDesmatamentoEstados(DesmatamentosUC['PRODES 2014'], 'PRODES 2014'))\n",
        "SomaAreaD2013 = pd.Series(somandoDesmatamentoEstados(DesmatamentosUC['PRODES 2013'], 'PRODES 2013'))\n",
        "SomaAreaD2012 = pd.Series(somandoDesmatamentoEstados(DesmatamentosUC['PRODES 2012'], 'PRODES 2012'))\n",
        "SomaAreaD2011 = pd.Series(somandoDesmatamentoEstados(DesmatamentosUC['PRODES 2011'], 'PRODES 2011'))\n",
        "SomaAreaD2010 = pd.Series(somandoDesmatamentoEstados(DesmatamentosUC['PRODES 2010'], 'PRODES 2010'))\n",
        "SomaAreaD2009 = pd.Series(somandoDesmatamentoEstados(DesmatamentosUC['PRODES 2009'], 'PRODES 2009'))\n",
        "SomaAreaD2008 = pd.Series(somandoDesmatamentoEstados(DesmatamentosUC['PRODES 2008'], 'PRODES 2008'))\n",
        "SomaAreaD2007 = pd.Series(somandoDesmatamentoEstados(DesmatamentosUC['PRODES 2007'], 'PRODES 2007'))\n",
        "SomaAreaD2006 = pd.Series(somandoDesmatamentoEstados(DesmatamentosUC['PRODES 2006'], 'PRODES 2006'))\n",
        "SomaAreaD2005 = pd.Series(somandoDesmatamentoEstados(DesmatamentosUC['PRODES 2005'], 'PRODES 2005'))\n",
        "SomaAreaD2004 = pd.Series(somandoDesmatamentoEstados(DesmatamentosUC['PRODES 2004'], 'PRODES 2004'))\n",
        "SomaAreaD2003 = pd.Series(somandoDesmatamentoEstados(DesmatamentosUC['PRODES 2003'], 'PRODES 2003'))\n",
        "SomaAreaD2002 = pd.Series(somandoDesmatamentoEstados(DesmatamentosUC['PRODES 2002'], 'PRODES 2002'))\n",
        "SomaAreaD2001 = pd.Series(somandoDesmatamentoEstados(DesmatamentosUC['PRODES 2001'], 'PRODES 2001'))\n",
        "SomaAreaD2000 = pd.Series(somandoDesmatamentoEstados(DesmatamentosUC['PRODES (1998 até 2000)'], 'PRODES (1998 até 2000)'))\n",
        "SomaAreaD1997 = pd.Series(somandoDesmatamentoEstados(DesmatamentosUC['PRODES (acumulado até 1997)'], 'PRODES (acumulado até 1997)'))"
      ],
      "execution_count": null,
      "outputs": []
    },
    {
      "cell_type": "markdown",
      "metadata": {
        "id": "bLCM7GPs7zYn"
      },
      "source": [
        "Nessa etapa, se é criada uma variável para armazenar a sigla de todos estados. Após isso é feito um dataframe concatenando todas as variáveis criadas anteriormente, consertando as colunas para melhor entendimento de informações."
      ]
    },
    {
      "cell_type": "code",
      "metadata": {
        "id": "BNDozlietYGx",
        "colab": {
          "base_uri": "https://localhost:8080/",
          "height": 359
        },
        "outputId": "f3510da3-d995-4f8f-ed50-447d79dc7f6a"
      },
      "source": [
        "SiglasEstados = pd.Series(DesmatamentosUC['Coordenação Regional do ICMBio'].apply(lambda x: x[-2:]).value_counts().index)\n",
        "\n",
        "DataFrameTotalDAnos = pd.concat([SiglasEstados,SomaAreaD1997,SomaAreaD2000,SomaAreaD2001,SomaAreaD2002,SomaAreaD2003,SomaAreaD2004,SomaAreaD2005,SomaAreaD2006,SomaAreaD2007,SomaAreaD2008,SomaAreaD2009,SomaAreaD2010,SomaAreaD2011,SomaAreaD2012,SomaAreaD2013,SomaAreaD2014,SomaAreaD2015,SomaAreaD2016,SomaAreaD2017,SomaAreaD2018], axis=1)\n",
        "\n",
        "DataFrameTotalDAnos.columns = ['Sigla', 'Até 1997',\"1998 até 2000\",\"2001\",\"2002\",\"2003\",\"2004\",\"2005\",\"2006\",\"2007\",\"2008\",\"2009\",\"2010\",\"2011\",\"2012\",\"2013\",\"2014\",\"2015\",\"2016\",\"2017\",\"2018\"]\n",
        "DataFrameTotalDAnos"
      ],
      "execution_count": null,
      "outputs": [
        {
          "output_type": "execute_result",
          "data": {
            "text/html": [
              "<div>\n",
              "<style scoped>\n",
              "    .dataframe tbody tr th:only-of-type {\n",
              "        vertical-align: middle;\n",
              "    }\n",
              "\n",
              "    .dataframe tbody tr th {\n",
              "        vertical-align: top;\n",
              "    }\n",
              "\n",
              "    .dataframe thead th {\n",
              "        text-align: right;\n",
              "    }\n",
              "</style>\n",
              "<table border=\"1\" class=\"dataframe\">\n",
              "  <thead>\n",
              "    <tr style=\"text-align: right;\">\n",
              "      <th></th>\n",
              "      <th>Sigla</th>\n",
              "      <th>Até 1997</th>\n",
              "      <th>1998 até 2000</th>\n",
              "      <th>2001</th>\n",
              "      <th>2002</th>\n",
              "      <th>2003</th>\n",
              "      <th>2004</th>\n",
              "      <th>2005</th>\n",
              "      <th>2006</th>\n",
              "      <th>2007</th>\n",
              "      <th>2008</th>\n",
              "      <th>2009</th>\n",
              "      <th>2010</th>\n",
              "      <th>2011</th>\n",
              "      <th>2012</th>\n",
              "      <th>2013</th>\n",
              "      <th>2014</th>\n",
              "      <th>2015</th>\n",
              "      <th>2016</th>\n",
              "      <th>2017</th>\n",
              "      <th>2018</th>\n",
              "    </tr>\n",
              "  </thead>\n",
              "  <tbody>\n",
              "    <tr>\n",
              "      <th>0</th>\n",
              "      <td>PA</td>\n",
              "      <td>221080.2</td>\n",
              "      <td>51709.9</td>\n",
              "      <td>76108.7</td>\n",
              "      <td>51902.6</td>\n",
              "      <td>64140.7</td>\n",
              "      <td>86849.8</td>\n",
              "      <td>41875.3</td>\n",
              "      <td>20455.7</td>\n",
              "      <td>28776.5</td>\n",
              "      <td>24910.2</td>\n",
              "      <td>23683.0</td>\n",
              "      <td>10835.1</td>\n",
              "      <td>8279.3</td>\n",
              "      <td>14252.9</td>\n",
              "      <td>15567.4</td>\n",
              "      <td>14725.3</td>\n",
              "      <td>19266.3</td>\n",
              "      <td>16982.4</td>\n",
              "      <td>12555.9</td>\n",
              "      <td>19512.7</td>\n",
              "    </tr>\n",
              "    <tr>\n",
              "      <th>1</th>\n",
              "      <td>RO</td>\n",
              "      <td>0.0</td>\n",
              "      <td>0.0</td>\n",
              "      <td>0.0</td>\n",
              "      <td>0.0</td>\n",
              "      <td>0.0</td>\n",
              "      <td>0.0</td>\n",
              "      <td>0.0</td>\n",
              "      <td>0.0</td>\n",
              "      <td>0.0</td>\n",
              "      <td>0.0</td>\n",
              "      <td>0.0</td>\n",
              "      <td>0.0</td>\n",
              "      <td>0.0</td>\n",
              "      <td>0.0</td>\n",
              "      <td>0.0</td>\n",
              "      <td>0.0</td>\n",
              "      <td>0.0</td>\n",
              "      <td>0.0</td>\n",
              "      <td>0.0</td>\n",
              "      <td>0.0</td>\n",
              "    </tr>\n",
              "    <tr>\n",
              "      <th>2</th>\n",
              "      <td>SC</td>\n",
              "      <td>66448.2</td>\n",
              "      <td>21451.1</td>\n",
              "      <td>7272.2</td>\n",
              "      <td>5928.0</td>\n",
              "      <td>16903.6</td>\n",
              "      <td>12571.3</td>\n",
              "      <td>15353.2</td>\n",
              "      <td>9799.5</td>\n",
              "      <td>8039.0</td>\n",
              "      <td>6968.3</td>\n",
              "      <td>2086.7</td>\n",
              "      <td>4716.3</td>\n",
              "      <td>4669.3</td>\n",
              "      <td>4150.1</td>\n",
              "      <td>3834.5</td>\n",
              "      <td>4093.2</td>\n",
              "      <td>2461.4</td>\n",
              "      <td>4492.6</td>\n",
              "      <td>4451.5</td>\n",
              "      <td>4953.5</td>\n",
              "    </tr>\n",
              "    <tr>\n",
              "      <th>3</th>\n",
              "      <td>RJ</td>\n",
              "      <td>0.0</td>\n",
              "      <td>3608.0</td>\n",
              "      <td>3.7</td>\n",
              "      <td>3.7</td>\n",
              "      <td>0.0</td>\n",
              "      <td>0.0</td>\n",
              "      <td>1.8</td>\n",
              "      <td>1.8</td>\n",
              "      <td>0.0</td>\n",
              "      <td>0.0</td>\n",
              "      <td>0.0</td>\n",
              "      <td>0.0</td>\n",
              "      <td>0.0</td>\n",
              "      <td>0.0</td>\n",
              "      <td>4.4</td>\n",
              "      <td>0.0</td>\n",
              "      <td>0.1</td>\n",
              "      <td>0.0</td>\n",
              "      <td>0.0</td>\n",
              "      <td>0.0</td>\n",
              "    </tr>\n",
              "    <tr>\n",
              "      <th>4</th>\n",
              "      <td>PB</td>\n",
              "      <td>0.0</td>\n",
              "      <td>0.0</td>\n",
              "      <td>0.0</td>\n",
              "      <td>0.0</td>\n",
              "      <td>0.0</td>\n",
              "      <td>0.0</td>\n",
              "      <td>0.0</td>\n",
              "      <td>0.0</td>\n",
              "      <td>0.0</td>\n",
              "      <td>0.0</td>\n",
              "      <td>0.0</td>\n",
              "      <td>0.0</td>\n",
              "      <td>0.0</td>\n",
              "      <td>0.0</td>\n",
              "      <td>0.0</td>\n",
              "      <td>0.0</td>\n",
              "      <td>0.0</td>\n",
              "      <td>0.0</td>\n",
              "      <td>0.0</td>\n",
              "      <td>0.0</td>\n",
              "    </tr>\n",
              "    <tr>\n",
              "      <th>5</th>\n",
              "      <td>AM</td>\n",
              "      <td>0.0</td>\n",
              "      <td>4729.8</td>\n",
              "      <td>68.4</td>\n",
              "      <td>68.4</td>\n",
              "      <td>719.2</td>\n",
              "      <td>719.2</td>\n",
              "      <td>231.1</td>\n",
              "      <td>231.1</td>\n",
              "      <td>335.7</td>\n",
              "      <td>335.7</td>\n",
              "      <td>75.6</td>\n",
              "      <td>75.6</td>\n",
              "      <td>118.7</td>\n",
              "      <td>118.7</td>\n",
              "      <td>3.8</td>\n",
              "      <td>3.6</td>\n",
              "      <td>11.6</td>\n",
              "      <td>25.5</td>\n",
              "      <td>5.1</td>\n",
              "      <td>243.9</td>\n",
              "    </tr>\n",
              "    <tr>\n",
              "      <th>6</th>\n",
              "      <td>BA</td>\n",
              "      <td>0.0</td>\n",
              "      <td>346667.8</td>\n",
              "      <td>4695.8</td>\n",
              "      <td>4695.8</td>\n",
              "      <td>22500.5</td>\n",
              "      <td>22500.5</td>\n",
              "      <td>7650.0</td>\n",
              "      <td>7650.0</td>\n",
              "      <td>4458.6</td>\n",
              "      <td>4458.6</td>\n",
              "      <td>3707.8</td>\n",
              "      <td>3707.8</td>\n",
              "      <td>3453.2</td>\n",
              "      <td>3453.2</td>\n",
              "      <td>5404.7</td>\n",
              "      <td>6148.2</td>\n",
              "      <td>2114.0</td>\n",
              "      <td>1378.7</td>\n",
              "      <td>2287.1</td>\n",
              "      <td>2414.7</td>\n",
              "    </tr>\n",
              "    <tr>\n",
              "      <th>7</th>\n",
              "      <td>MG</td>\n",
              "      <td>28228.8</td>\n",
              "      <td>8680.1</td>\n",
              "      <td>5043.6</td>\n",
              "      <td>2010.2</td>\n",
              "      <td>1491.2</td>\n",
              "      <td>518.2</td>\n",
              "      <td>725.9</td>\n",
              "      <td>435.6</td>\n",
              "      <td>488.0</td>\n",
              "      <td>1374.2</td>\n",
              "      <td>526.7</td>\n",
              "      <td>2059.1</td>\n",
              "      <td>604.0</td>\n",
              "      <td>171.9</td>\n",
              "      <td>385.9</td>\n",
              "      <td>895.4</td>\n",
              "      <td>137.7</td>\n",
              "      <td>596.0</td>\n",
              "      <td>398.3</td>\n",
              "      <td>424.6</td>\n",
              "    </tr>\n",
              "    <tr>\n",
              "      <th>8</th>\n",
              "      <td>PI</td>\n",
              "      <td>0.0</td>\n",
              "      <td>22771.1</td>\n",
              "      <td>3366.6</td>\n",
              "      <td>3366.6</td>\n",
              "      <td>4701.6</td>\n",
              "      <td>4701.6</td>\n",
              "      <td>2978.4</td>\n",
              "      <td>2978.4</td>\n",
              "      <td>5478.7</td>\n",
              "      <td>5478.7</td>\n",
              "      <td>1852.8</td>\n",
              "      <td>1852.8</td>\n",
              "      <td>3633.4</td>\n",
              "      <td>3633.4</td>\n",
              "      <td>2744.7</td>\n",
              "      <td>4013.9</td>\n",
              "      <td>3983.3</td>\n",
              "      <td>845.9</td>\n",
              "      <td>1109.4</td>\n",
              "      <td>4046.0</td>\n",
              "    </tr>\n",
              "    <tr>\n",
              "      <th>9</th>\n",
              "      <td>MT</td>\n",
              "      <td>9020.0</td>\n",
              "      <td>5865.0</td>\n",
              "      <td>520.8</td>\n",
              "      <td>542.7</td>\n",
              "      <td>267.3</td>\n",
              "      <td>288.8</td>\n",
              "      <td>695.1</td>\n",
              "      <td>71.1</td>\n",
              "      <td>1966.2</td>\n",
              "      <td>1928.6</td>\n",
              "      <td>77.3</td>\n",
              "      <td>120.4</td>\n",
              "      <td>135.4</td>\n",
              "      <td>599.0</td>\n",
              "      <td>690.3</td>\n",
              "      <td>144.6</td>\n",
              "      <td>55.8</td>\n",
              "      <td>7.9</td>\n",
              "      <td>10.0</td>\n",
              "      <td>265.6</td>\n",
              "    </tr>\n",
              "  </tbody>\n",
              "</table>\n",
              "</div>"
            ],
            "text/plain": [
              "  Sigla  Até 1997  1998 até 2000     2001  ...     2015     2016     2017     2018\n",
              "0    PA  221080.2        51709.9  76108.7  ...  19266.3  16982.4  12555.9  19512.7\n",
              "1    RO       0.0            0.0      0.0  ...      0.0      0.0      0.0      0.0\n",
              "2    SC   66448.2        21451.1   7272.2  ...   2461.4   4492.6   4451.5   4953.5\n",
              "3    RJ       0.0         3608.0      3.7  ...      0.1      0.0      0.0      0.0\n",
              "4    PB       0.0            0.0      0.0  ...      0.0      0.0      0.0      0.0\n",
              "5    AM       0.0         4729.8     68.4  ...     11.6     25.5      5.1    243.9\n",
              "6    BA       0.0       346667.8   4695.8  ...   2114.0   1378.7   2287.1   2414.7\n",
              "7    MG   28228.8         8680.1   5043.6  ...    137.7    596.0    398.3    424.6\n",
              "8    PI       0.0        22771.1   3366.6  ...   3983.3    845.9   1109.4   4046.0\n",
              "9    MT    9020.0         5865.0    520.8  ...     55.8      7.9     10.0    265.6\n",
              "\n",
              "[10 rows x 21 columns]"
            ]
          },
          "metadata": {
            "tags": []
          },
          "execution_count": 351
        }
      ]
    },
    {
      "cell_type": "markdown",
      "metadata": {
        "id": "ejcImD25ORiO"
      },
      "source": [
        "*   # 2.2 - Quais os estados com mais áreas contendo UC's ?\n"
      ]
    },
    {
      "cell_type": "markdown",
      "metadata": {
        "id": "CjKANCoU70iY"
      },
      "source": [
        "Criando Series com a soma de toda a área contendo UC's com a função \"somandoDesmatamentoEstados\", criada anteriormente, e convertendo para inteiros. Então, criando um dataframe contendo as siglas de cada estado correspondente e o valor de área de UC's. Para visualização correta dos dados foram colocadas nome nas colunas, ordenados os dados pela quantidade de área e resetando o índices para ficarem novamente em ordem."
      ]
    },
    {
      "cell_type": "code",
      "metadata": {
        "id": "AwB_QluhtTVv",
        "colab": {
          "base_uri": "https://localhost:8080/",
          "height": 359
        },
        "outputId": "418e36dd-528f-4e0f-dae1-cc2b5c2e9f2c"
      },
      "source": [
        "EstadosAreasUC = pd.Series(somandoDesmatamentoEstados(DesmatamentosUC['Área estimada da UC (ha)'], 'Área estimada da UC (ha)')).astype('int64')\n",
        "\n",
        "DataFrameTotalDAreas = pd.concat([SiglasEstados, EstadosAreasUC], axis=1)\n",
        "\n",
        "DataFrameTotalDAreas.columns = ['Sigla', 'Área de UCs (ha)(1997-2018)']\n",
        "DataFrameTotalDAreas.sort_values(by=['Área de UCs (ha)(1997-2018)'], inplace=True,ascending=False)\n",
        "DataFrameTotalDAreas.reset_index(drop=True) # consertando os índices para ficarem em ordem"
      ],
      "execution_count": null,
      "outputs": [
        {
          "output_type": "execute_result",
          "data": {
            "text/html": [
              "<div>\n",
              "<style scoped>\n",
              "    .dataframe tbody tr th:only-of-type {\n",
              "        vertical-align: middle;\n",
              "    }\n",
              "\n",
              "    .dataframe tbody tr th {\n",
              "        vertical-align: top;\n",
              "    }\n",
              "\n",
              "    .dataframe thead th {\n",
              "        text-align: right;\n",
              "    }\n",
              "</style>\n",
              "<table border=\"1\" class=\"dataframe\">\n",
              "  <thead>\n",
              "    <tr style=\"text-align: right;\">\n",
              "      <th></th>\n",
              "      <th>Sigla</th>\n",
              "      <th>Área de UCs (ha)(1997-2018)</th>\n",
              "    </tr>\n",
              "  </thead>\n",
              "  <tbody>\n",
              "    <tr>\n",
              "      <th>0</th>\n",
              "      <td>PA</td>\n",
              "      <td>27289947</td>\n",
              "    </tr>\n",
              "    <tr>\n",
              "      <th>1</th>\n",
              "      <td>SC</td>\n",
              "      <td>20442548</td>\n",
              "    </tr>\n",
              "    <tr>\n",
              "      <th>2</th>\n",
              "      <td>MG</td>\n",
              "      <td>16754848</td>\n",
              "    </tr>\n",
              "    <tr>\n",
              "      <th>3</th>\n",
              "      <td>PI</td>\n",
              "      <td>4869580</td>\n",
              "    </tr>\n",
              "    <tr>\n",
              "      <th>4</th>\n",
              "      <td>RO</td>\n",
              "      <td>2460002</td>\n",
              "    </tr>\n",
              "    <tr>\n",
              "      <th>5</th>\n",
              "      <td>BA</td>\n",
              "      <td>2179002</td>\n",
              "    </tr>\n",
              "    <tr>\n",
              "      <th>6</th>\n",
              "      <td>PB</td>\n",
              "      <td>1800683</td>\n",
              "    </tr>\n",
              "    <tr>\n",
              "      <th>7</th>\n",
              "      <td>MT</td>\n",
              "      <td>1565043</td>\n",
              "    </tr>\n",
              "    <tr>\n",
              "      <th>8</th>\n",
              "      <td>RJ</td>\n",
              "      <td>1541694</td>\n",
              "    </tr>\n",
              "    <tr>\n",
              "      <th>9</th>\n",
              "      <td>AM</td>\n",
              "      <td>920338</td>\n",
              "    </tr>\n",
              "  </tbody>\n",
              "</table>\n",
              "</div>"
            ],
            "text/plain": [
              "  Sigla  Área de UCs (ha)(1997-2018)\n",
              "0    PA                     27289947\n",
              "1    SC                     20442548\n",
              "2    MG                     16754848\n",
              "3    PI                      4869580\n",
              "4    RO                      2460002\n",
              "5    BA                      2179002\n",
              "6    PB                      1800683\n",
              "7    MT                      1565043\n",
              "8    RJ                      1541694\n",
              "9    AM                       920338"
            ]
          },
          "metadata": {
            "tags": []
          },
          "execution_count": 352
        }
      ]
    },
    {
      "cell_type": "markdown",
      "metadata": {
        "id": "8gRo9hi_708-"
      },
      "source": [
        "Gráfico para uma melhor visualização dos dados acima criados."
      ]
    },
    {
      "cell_type": "code",
      "metadata": {
        "id": "Ix4tG0h0zC4b",
        "colab": {
          "base_uri": "https://localhost:8080/",
          "height": 452
        },
        "outputId": "a96fbd09-472c-486a-f045-180cb4b9ead0"
      },
      "source": [
        "DataFrameTotalDAreas.plot.bar(x='Sigla', y='Área de UCs (ha)(1997-2018)', legend=False)\n",
        "plt.title(\"Total de áreas com UCs (1997-2018)\")"
      ],
      "execution_count": null,
      "outputs": [
        {
          "output_type": "execute_result",
          "data": {
            "text/plain": [
              "Text(0.5, 1.0, 'Total de áreas com UCs (1997-2018)')"
            ]
          },
          "metadata": {
            "tags": []
          },
          "execution_count": 353
        },
        {
          "output_type": "display_data",
          "data": {
            "image/png": "[encoded data removed]",
            "text/plain": [
              "<Figure size 600x400 with 1 Axes>"
            ]
          },
          "metadata": {
            "tags": [],
            "needs_background": "light"
          }
        }
      ]
    },
    {
      "cell_type": "markdown",
      "metadata": {
        "id": "xkDXs6vDOVY5"
      },
      "source": [
        "*   # 2.3 - Qual o **bioma** que mais e o que menos tem unidades de conservação ? Quais são os mais e menos monitorados ?\n",
        "\n"
      ]
    },
    {
      "cell_type": "markdown",
      "metadata": {
        "id": "3zjy9Vh276nu"
      },
      "source": [
        "Primeiro, temos uma lista que receberá todos os biomas que tem monitoramento PRODES."
      ]
    },
    {
      "cell_type": "code",
      "metadata": {
        "id": "utKv5st-F2AW"
      },
      "source": [
        "QuantBUMP = []\n",
        "\n",
        "for i in range(1, len(DesmatamentosUC['Monitoramento PRODES'])):\n",
        "  if (DesmatamentosUC['Monitoramento PRODES'][i] == \"Sim\"): \n",
        "    QuantBUMP.append(DesmatamentosUC['Bioma referencial'][i])"
      ],
      "execution_count": null,
      "outputs": []
    },
    {
      "cell_type": "markdown",
      "metadata": {
        "id": "l8SHTErxH6tZ"
      },
      "source": [
        "Com essa lista será criado uma series com todos os biomas da lista anterior.\n",
        "Então, serão criadas mais duas Series, uma com todos os nomes dos biomas no dataframe e outro com a quantidade que eles aparecem.\n",
        "\n",
        "Após isso serão concatenadas as informações para a criação do dataframe que irá comparar a quantidade de UC's existentes com a quantidade de UC's monitoradas."
      ]
    },
    {
      "cell_type": "code",
      "metadata": {
        "id": "XYjDwX9X--px",
        "colab": {
          "base_uri": "https://localhost:8080/",
          "height": 266
        },
        "outputId": "7025762e-aed5-428a-cb09-8d48c5a0b9f0"
      },
      "source": [
        "QuantBUMP = pd.Series(QuantBUMP)\n",
        "QuantBUMP = pd.Series(QuantBUMP.value_counts().values)\n",
        "Biomas = pd.Series(DesmatamentosUC['Bioma referencial'].value_counts().index)\n",
        "QuantBiomasTotais = pd.Series(DesmatamentosUC['Bioma referencial'].value_counts().values)\n",
        "\n",
        "DataFrameBiomas = pd.concat([Biomas, QuantBiomasTotais, QuantBUMP], axis=1)\n",
        "DataFrameBiomas.columns = ['Biomas', 'Total de UCs', 'Total de UCs monitoradas']\n",
        "DataFrameBiomas"
      ],
      "execution_count": null,
      "outputs": [
        {
          "output_type": "execute_result",
          "data": {
            "text/html": [
              "<div>\n",
              "<style scoped>\n",
              "    .dataframe tbody tr th:only-of-type {\n",
              "        vertical-align: middle;\n",
              "    }\n",
              "\n",
              "    .dataframe tbody tr th {\n",
              "        vertical-align: top;\n",
              "    }\n",
              "\n",
              "    .dataframe thead th {\n",
              "        text-align: right;\n",
              "    }\n",
              "</style>\n",
              "<table border=\"1\" class=\"dataframe\">\n",
              "  <thead>\n",
              "    <tr style=\"text-align: right;\">\n",
              "      <th></th>\n",
              "      <th>Biomas</th>\n",
              "      <th>Total de UCs</th>\n",
              "      <th>Total de UCs monitoradas</th>\n",
              "    </tr>\n",
              "  </thead>\n",
              "  <tbody>\n",
              "    <tr>\n",
              "      <th>0</th>\n",
              "      <td>Amazônia</td>\n",
              "      <td>128</td>\n",
              "      <td>125.0</td>\n",
              "    </tr>\n",
              "    <tr>\n",
              "      <th>1</th>\n",
              "      <td>Mata Atlântica</td>\n",
              "      <td>92</td>\n",
              "      <td>43.0</td>\n",
              "    </tr>\n",
              "    <tr>\n",
              "      <th>2</th>\n",
              "      <td>Cerrado</td>\n",
              "      <td>45</td>\n",
              "      <td>3.0</td>\n",
              "    </tr>\n",
              "    <tr>\n",
              "      <th>3</th>\n",
              "      <td>Marinho-Costeiro</td>\n",
              "      <td>33</td>\n",
              "      <td>2.0</td>\n",
              "    </tr>\n",
              "    <tr>\n",
              "      <th>4</th>\n",
              "      <td>Caatinga</td>\n",
              "      <td>24</td>\n",
              "      <td>1.0</td>\n",
              "    </tr>\n",
              "    <tr>\n",
              "      <th>5</th>\n",
              "      <td>Pampas</td>\n",
              "      <td>3</td>\n",
              "      <td>NaN</td>\n",
              "    </tr>\n",
              "    <tr>\n",
              "      <th>6</th>\n",
              "      <td>Pantanal</td>\n",
              "      <td>2</td>\n",
              "      <td>NaN</td>\n",
              "    </tr>\n",
              "  </tbody>\n",
              "</table>\n",
              "</div>"
            ],
            "text/plain": [
              "             Biomas  Total de UCs  Total de UCs monitoradas\n",
              "0          Amazônia           128                     125.0\n",
              "1    Mata Atlântica            92                      43.0\n",
              "2           Cerrado            45                       3.0\n",
              "3  Marinho-Costeiro            33                       2.0\n",
              "4          Caatinga            24                       1.0\n",
              "5            Pampas             3                       NaN\n",
              "6          Pantanal             2                       NaN"
            ]
          },
          "metadata": {
            "tags": []
          },
          "execution_count": 355
        }
      ]
    },
    {
      "cell_type": "markdown",
      "metadata": {
        "id": "0C4Ztq9Y77Ub"
      },
      "source": [
        "Gráfico para uma melhor visualização dos dados acima criados."
      ]
    },
    {
      "cell_type": "code",
      "metadata": {
        "id": "fJZhsfqPwHst",
        "colab": {
          "base_uri": "https://localhost:8080/",
          "height": 646
        },
        "outputId": "ab34a1ab-cf57-4a01-d67e-1ea29fc2d55d"
      },
      "source": [
        "DataFrameBiomas.plot.bar(x='Biomas')\n",
        "plt.legend(bbox_to_anchor=(0.5, 1), loc='lower center') "
      ],
      "execution_count": null,
      "outputs": [
        {
          "output_type": "execute_result",
          "data": {
            "text/plain": [
              "<matplotlib.legend.Legend at 0x7f0431ee84e0>"
            ]
          },
          "metadata": {
            "tags": []
          },
          "execution_count": 356
        },
        {
          "output_type": "display_data",
          "data": {
            "image/png": "[encoded data removed]",
            "text/plain": [
              "<Figure size 600x400 with 1 Axes>"
            ]
          },
          "metadata": {
            "tags": [],
            "needs_background": "light"
          }
        }
      ]
    },
    {
      "cell_type": "markdown",
      "metadata": {
        "id": "kjayvTKaOXed"
      },
      "source": [
        "*   # 2.4 - Qual o **estado** que mais e o que menos tem unidades de monitoramento do PRODES (U.M.P.)?\n",
        "\n"
      ]
    },
    {
      "cell_type": "markdown",
      "metadata": {
        "id": "RMQltlav773e"
      },
      "source": [
        "Seguindo a lógica da questão anterior, temos uma lista que receberá informações, mas dessa vez serão todos os estados que tem monitoramento PRODES. Então, iremos transformar os dados numa Series, depois pegar apenas as siglas dos estados e então fazer a criação do dataframe com a contagem de estados presentes, pois eles já serão a quantidade de estados monitorados."
      ]
    },
    {
      "cell_type": "code",
      "metadata": {
        "id": "EjPYHsvF-_lP",
        "colab": {
          "base_uri": "https://localhost:8080/",
          "height": 297
        },
        "outputId": "5cc2b241-1780-41e0-f9f1-23cbceba0143"
      },
      "source": [
        "QuantEUMP = []\n",
        "\n",
        "for i in range(1, len(DesmatamentosUC['Monitoramento PRODES'])):\n",
        "  if (DesmatamentosUC['Monitoramento PRODES'][i] == \"Sim\"): \n",
        "    QuantEUMP.append(DesmatamentosUC['Coordenação Regional do ICMBio'][i])\n",
        "\n",
        "QuantEUMP = pd.Series(QuantEUMP)\n",
        "QuantEUMP = QuantEUMP.apply(lambda x: x[-2:])\n",
        "QuantEUMP = pd.DataFrame(QuantEUMP.value_counts())\n",
        "QuantEUMP.columns = ['Quant. U.M.P.']\n",
        "QuantEUMP"
      ],
      "execution_count": null,
      "outputs": [
        {
          "output_type": "execute_result",
          "data": {
            "text/html": [
              "<div>\n",
              "<style scoped>\n",
              "    .dataframe tbody tr th:only-of-type {\n",
              "        vertical-align: middle;\n",
              "    }\n",
              "\n",
              "    .dataframe tbody tr th {\n",
              "        vertical-align: top;\n",
              "    }\n",
              "\n",
              "    .dataframe thead th {\n",
              "        text-align: right;\n",
              "    }\n",
              "</style>\n",
              "<table border=\"1\" class=\"dataframe\">\n",
              "  <thead>\n",
              "    <tr style=\"text-align: right;\">\n",
              "      <th></th>\n",
              "      <th>Quant. U.M.P.</th>\n",
              "    </tr>\n",
              "  </thead>\n",
              "  <tbody>\n",
              "    <tr>\n",
              "      <th>PA</th>\n",
              "      <td>62</td>\n",
              "    </tr>\n",
              "    <tr>\n",
              "      <th>RO</th>\n",
              "      <td>40</td>\n",
              "    </tr>\n",
              "    <tr>\n",
              "      <th>AM</th>\n",
              "      <td>27</td>\n",
              "    </tr>\n",
              "    <tr>\n",
              "      <th>MG</th>\n",
              "      <td>22</td>\n",
              "    </tr>\n",
              "    <tr>\n",
              "      <th>PI</th>\n",
              "      <td>11</td>\n",
              "    </tr>\n",
              "    <tr>\n",
              "      <th>MT</th>\n",
              "      <td>8</td>\n",
              "    </tr>\n",
              "    <tr>\n",
              "      <th>RJ</th>\n",
              "      <td>3</td>\n",
              "    </tr>\n",
              "    <tr>\n",
              "      <th>BA</th>\n",
              "      <td>1</td>\n",
              "    </tr>\n",
              "  </tbody>\n",
              "</table>\n",
              "</div>"
            ],
            "text/plain": [
              "    Quant. U.M.P.\n",
              "PA             62\n",
              "RO             40\n",
              "AM             27\n",
              "MG             22\n",
              "PI             11\n",
              "MT              8\n",
              "RJ              3\n",
              "BA              1"
            ]
          },
          "metadata": {
            "tags": []
          },
          "execution_count": 357
        }
      ]
    },
    {
      "cell_type": "markdown",
      "metadata": {
        "id": "ZdPNxB81780o"
      },
      "source": [
        "Gráfico para uma melhor visualização dos dados acima criados."
      ]
    },
    {
      "cell_type": "code",
      "metadata": {
        "id": "qwJjUO9jdHlQ",
        "colab": {
          "base_uri": "https://localhost:8080/",
          "height": 427
        },
        "outputId": "710a2af3-32d6-4629-b7ab-1d2cb30f8269"
      },
      "source": [
        "QuantUMP.plot.bar(legend=False)\n",
        "plt.title('Quantidade U.M.P.')"
      ],
      "execution_count": null,
      "outputs": [
        {
          "output_type": "execute_result",
          "data": {
            "text/plain": [
              "Text(0.5, 1.0, 'Quantidade U.M.P.')"
            ]
          },
          "metadata": {
            "tags": []
          },
          "execution_count": 358
        },
        {
          "output_type": "display_data",
          "data": {
            "image/png": "[encoded data removed]",
            "text/plain": [
              "<Figure size 600x400 with 1 Axes>"
            ]
          },
          "metadata": {
            "tags": [],
            "needs_background": "light"
          }
        }
      ]
    },
    {
      "cell_type": "markdown",
      "metadata": {
        "id": "-5DO5BDUOY4c"
      },
      "source": [
        "*   # 2.5 - Qual categoria de UC é mais presente em cada estado ?\n"
      ]
    },
    {
      "cell_type": "markdown",
      "metadata": {
        "id": "WGiP2guJ7_H7"
      },
      "source": [
        "Aqui utilizaremos a função 'crosstab' para criarmos um DataFrame unindo informações entre duas colunas do DataFrame original, um contendo a sigla das UCs e outra a sigla dos estados. Após isso, utilizaremos o Dataframe criado como base para criação do gráfico, que será na horizontal (plot.barh) para melhor visualisação das informações. Também empilharemos as informações em comuns (Stacked=True), para poupar espaço e ajudar na leitura. E então, colocaremos o gráfico na parte esquerda da legenda, para não haver informações sobrepostas e adicionaremos um título (.title)."
      ]
    },
    {
      "cell_type": "code",
      "metadata": {
        "id": "h0B3BGCY_AMb",
        "colab": {
          "base_uri": "https://localhost:8080/",
          "height": 413
        },
        "outputId": "4d008063-18ce-46a9-e29f-f3d67955a08f"
      },
      "source": [
        "TabelaUC = pd.crosstab(DesmatamentosUC['Categoria da UC: sigla federal'], DesmatamentosUC['Coordenação Regional do ICMBio'].apply(lambda x: x[-2:])) \n",
        "TabelaUC.plot.barh(stacked=True) \n",
        "plt.legend(bbox_to_anchor=(1.05, 1), loc='upper left') \n",
        "plt.title(\"Quant. de UC's por estados\") "
      ],
      "execution_count": null,
      "outputs": [
        {
          "output_type": "execute_result",
          "data": {
            "text/plain": [
              "Text(0.5, 1.0, \"Quant. de UC's por estados\")"
            ]
          },
          "metadata": {
            "tags": []
          },
          "execution_count": 359
        },
        {
          "output_type": "display_data",
          "data": {
            "image/png": "[encoded data removed]",
            "text/plain": [
              "<Figure size 600x400 with 1 Axes>"
            ]
          },
          "metadata": {
            "tags": [],
            "needs_background": "light"
          }
        }
      ]
    },
    {
      "cell_type": "markdown",
      "metadata": {
        "id": "P4X0B4HbObfo"
      },
      "source": [
        "*   # 2.6 - Qual presidente estava em vigência quando ouveram as maiores quantidades de desmatamento entre 2001 e 2018 ?"
      ]
    },
    {
      "cell_type": "markdown",
      "metadata": {
        "id": "7MlleSA_8FBu"
      },
      "source": [
        "Primeiramente, há a criação de uma lista contendo a soma das variáveis criadas anteriormente, que continham as somas de área desmatada em cada estado e em cada ano, então transforma-se ela numa Series. Também se cria uma Series contendo os anos de 2001 até 2018.\n",
        "\n",
        "Após isso é feita uma lista com os nomes dos presidentes que estavam em governo em cada ano, passando como parâmetro para a função \"presidente\", criada anteriormente, os anos da Series \"TAnos\", e então se cria uma Series. \n",
        "\n",
        "Então, é criado um dataframe unindo as informações criadas, nomes de presidentes, anos correspondentes ao seu governo e área devastada em tal ano. \n",
        "Para entendimento das informações, são colocados nomes nas respectivas colunas, ordenamento no dataframe, seguindo a ordem de área devastada, e corrigido os índices de forma a ficarem crescentes novamente, iniciando do 0."
      ]
    },
    {
      "cell_type": "code",
      "metadata": {
        "id": "_PbxGe8H_CsV",
        "colab": {
          "base_uri": "https://localhost:8080/",
          "height": 607
        },
        "outputId": "c5a54c54-105a-44a4-e519-514a327a41d0"
      },
      "source": [
        "SomaTotalDesmatada = [SomaAreaD2001.sum(), SomaAreaD2002.sum(), SomaAreaD2003.sum(), SomaAreaD2004.sum(), SomaAreaD2005.sum(), SomaAreaD2006.sum(), SomaAreaD2007.sum(), SomaAreaD2008.sum(), SomaAreaD2009.sum(), SomaAreaD2010.sum(), SomaAreaD2011.sum(), SomaAreaD2012.sum(), SomaAreaD2013.sum(), SomaAreaD2014.sum(), SomaAreaD2015.sum(), SomaAreaD2016.sum(), SomaAreaD2017.sum(), SomaAreaD2018.sum()]\n",
        "SomaTotalDesmatada = pd.Series(SomaTotalDesmatada)\n",
        "\n",
        "TAnos = pd.Series([2001,2002,2003,2004,2005,2006,2007,2008,2009,2010,2011,2012,2013,2014,2015,2016,2017,2018])\n",
        "\n",
        "PresidentesD = []\n",
        "for i in range(len(TAnos)): PresidentesD.append(presidente(TAnos[i]))\n",
        "PresidentesD = pd.Series(PresidentesD)\n",
        "\n",
        "DataFrameTotal = pd.concat([PresidentesD, TAnos, SomaTotalDesmatada], axis=1)\n",
        "\n",
        "DataFrameTotal.columns = ['Presidentes', 'Anos', 'Área total devastada (ha)']\n",
        "DataFrameTotal.sort_values(by=['Área total devastada (ha)'], inplace=True,ascending=False)\n",
        "DataFrameTotal.reset_index(drop=True) # consertando os índices para ficarem em ordem "
      ],
      "execution_count": null,
      "outputs": [
        {
          "output_type": "execute_result",
          "data": {
            "text/html": [
              "<div>\n",
              "<style scoped>\n",
              "    .dataframe tbody tr th:only-of-type {\n",
              "        vertical-align: middle;\n",
              "    }\n",
              "\n",
              "    .dataframe tbody tr th {\n",
              "        vertical-align: top;\n",
              "    }\n",
              "\n",
              "    .dataframe thead th {\n",
              "        text-align: right;\n",
              "    }\n",
              "</style>\n",
              "<table border=\"1\" class=\"dataframe\">\n",
              "  <thead>\n",
              "    <tr style=\"text-align: right;\">\n",
              "      <th></th>\n",
              "      <th>Presidentes</th>\n",
              "      <th>Anos</th>\n",
              "      <th>Área total devastada (ha)</th>\n",
              "    </tr>\n",
              "  </thead>\n",
              "  <tbody>\n",
              "    <tr>\n",
              "      <th>0</th>\n",
              "      <td>Luiz Inácio Lula da Silva</td>\n",
              "      <td>2004</td>\n",
              "      <td>128149.4</td>\n",
              "    </tr>\n",
              "    <tr>\n",
              "      <th>1</th>\n",
              "      <td>Luiz Inácio Lula da Silva</td>\n",
              "      <td>2003</td>\n",
              "      <td>110724.1</td>\n",
              "    </tr>\n",
              "    <tr>\n",
              "      <th>2</th>\n",
              "      <td>Fernando Henrique Cardoso</td>\n",
              "      <td>2001</td>\n",
              "      <td>97079.8</td>\n",
              "    </tr>\n",
              "    <tr>\n",
              "      <th>3</th>\n",
              "      <td>Luiz Inácio Lula da Silva</td>\n",
              "      <td>2005</td>\n",
              "      <td>69510.8</td>\n",
              "    </tr>\n",
              "    <tr>\n",
              "      <th>4</th>\n",
              "      <td>Fernando Henrique Cardoso</td>\n",
              "      <td>2002</td>\n",
              "      <td>68518.0</td>\n",
              "    </tr>\n",
              "    <tr>\n",
              "      <th>5</th>\n",
              "      <td>Luiz Inácio Lula da Silva</td>\n",
              "      <td>2007</td>\n",
              "      <td>49542.7</td>\n",
              "    </tr>\n",
              "    <tr>\n",
              "      <th>6</th>\n",
              "      <td>Luiz Inácio Lula da Silva</td>\n",
              "      <td>2008</td>\n",
              "      <td>45454.3</td>\n",
              "    </tr>\n",
              "    <tr>\n",
              "      <th>7</th>\n",
              "      <td>Luiz Inácio Lula da Silva</td>\n",
              "      <td>2006</td>\n",
              "      <td>41623.2</td>\n",
              "    </tr>\n",
              "    <tr>\n",
              "      <th>8</th>\n",
              "      <td>Luiz Inácio Lula da Silva</td>\n",
              "      <td>2009</td>\n",
              "      <td>32009.9</td>\n",
              "    </tr>\n",
              "    <tr>\n",
              "      <th>9</th>\n",
              "      <td>Michel Temer</td>\n",
              "      <td>2018</td>\n",
              "      <td>31861.0</td>\n",
              "    </tr>\n",
              "    <tr>\n",
              "      <th>10</th>\n",
              "      <td>Dilma Rousseff</td>\n",
              "      <td>2014</td>\n",
              "      <td>30024.2</td>\n",
              "    </tr>\n",
              "    <tr>\n",
              "      <th>11</th>\n",
              "      <td>Dilma Rousseff</td>\n",
              "      <td>2013</td>\n",
              "      <td>28635.7</td>\n",
              "    </tr>\n",
              "    <tr>\n",
              "      <th>12</th>\n",
              "      <td>Dilma Rousseff</td>\n",
              "      <td>2015</td>\n",
              "      <td>28030.2</td>\n",
              "    </tr>\n",
              "    <tr>\n",
              "      <th>13</th>\n",
              "      <td>Dilma Rousseff</td>\n",
              "      <td>2012</td>\n",
              "      <td>26379.2</td>\n",
              "    </tr>\n",
              "    <tr>\n",
              "      <th>14</th>\n",
              "      <td>Michel Temer</td>\n",
              "      <td>2016</td>\n",
              "      <td>24329.0</td>\n",
              "    </tr>\n",
              "    <tr>\n",
              "      <th>15</th>\n",
              "      <td>Luiz Inácio Lula da Silva</td>\n",
              "      <td>2010</td>\n",
              "      <td>23367.1</td>\n",
              "    </tr>\n",
              "    <tr>\n",
              "      <th>16</th>\n",
              "      <td>Dilma Rousseff</td>\n",
              "      <td>2011</td>\n",
              "      <td>20893.3</td>\n",
              "    </tr>\n",
              "    <tr>\n",
              "      <th>17</th>\n",
              "      <td>Michel Temer</td>\n",
              "      <td>2017</td>\n",
              "      <td>20817.3</td>\n",
              "    </tr>\n",
              "  </tbody>\n",
              "</table>\n",
              "</div>"
            ],
            "text/plain": [
              "                  Presidentes  Anos  Área total devastada (ha)\n",
              "0   Luiz Inácio Lula da Silva  2004                   128149.4\n",
              "1   Luiz Inácio Lula da Silva  2003                   110724.1\n",
              "2   Fernando Henrique Cardoso  2001                    97079.8\n",
              "3   Luiz Inácio Lula da Silva  2005                    69510.8\n",
              "4   Fernando Henrique Cardoso  2002                    68518.0\n",
              "5   Luiz Inácio Lula da Silva  2007                    49542.7\n",
              "6   Luiz Inácio Lula da Silva  2008                    45454.3\n",
              "7   Luiz Inácio Lula da Silva  2006                    41623.2\n",
              "8   Luiz Inácio Lula da Silva  2009                    32009.9\n",
              "9                Michel Temer  2018                    31861.0\n",
              "10             Dilma Rousseff  2014                    30024.2\n",
              "11             Dilma Rousseff  2013                    28635.7\n",
              "12             Dilma Rousseff  2015                    28030.2\n",
              "13             Dilma Rousseff  2012                    26379.2\n",
              "14               Michel Temer  2016                    24329.0\n",
              "15  Luiz Inácio Lula da Silva  2010                    23367.1\n",
              "16             Dilma Rousseff  2011                    20893.3\n",
              "17               Michel Temer  2017                    20817.3"
            ]
          },
          "metadata": {
            "tags": []
          },
          "execution_count": 360
        }
      ]
    }
  ]
}