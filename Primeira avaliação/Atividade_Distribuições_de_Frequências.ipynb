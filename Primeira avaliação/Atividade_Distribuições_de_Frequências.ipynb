{
  "nbformat": 4,
  "nbformat_minor": 0,
  "metadata": {
    "colab": {
      "name": "Aula 12/03/20 - Atividade Distribuições de Frequências.ipynb",
      "provenance": []
    },
    "kernelspec": {
      "name": "python3",
      "display_name": "Python 3"
    }
  },
  "cells": [
    {
      "cell_type": "code",
      "metadata": {
        "id": "_ZxjXo0a47MG",
        "colab_type": "code",
        "colab": {}
      },
      "source": [
        "import pandas as pd\n",
        "import numpy as np"
      ],
      "execution_count": 0,
      "outputs": []
    },
    {
      "cell_type": "markdown",
      "metadata": {
        "id": "-ExSrqkD4lz4",
        "colab_type": "text"
      },
      "source": [
        "##Atividade 1.1 - "
      ]
    },
    {
      "cell_type": "markdown",
      "metadata": {
        "id": "YAV7LOwj4imC",
        "colab_type": "text"
      },
      "source": [
        "O texto a seguir foi extraído da página do IBOPE na Internet:\n",
        "www.ibope.com.br. Aí temos parte da descrição da pesquisa sociodemográfica\n",
        "realizada por esse instituto. Identifique as variáveis pesquisadas, classificando-as como qualitativas ou quantitativas.\n",
        "\n",
        "“O Levantamento Socioeconômico (LSE) é a pesquisa do IBOPE Mídia que mapeia as características sociais, demográficas e\n",
        "econômicas das famílias das principais regiões metropolitanas do\n",
        "país. Oferece também outros dados essenciais para traçar a estratégia de marketing para um produto. Com uma base de dados\n",
        "estendida em relação às outras pesquisas do IBOPE Mídia, o LSE\n",
        "serve de base para outros estudos.\n",
        "São levantados dados sobre a condição do domicílio entrevistado (condição da rua, tipo de imóvel) e sobre a condição socioeconômica do domicílio (informações sobre renda e classificação\n",
        "econômica). Também são pesquisados o número de pessoas no\n",
        "domicílio, a presença e a quantidade de crianças e adolescentes,\n",
        "a idade, grau de instrução e condição de atividade do chefe da\n",
        "casa e da dona-de-casa. A pesquisa levanta também dados sobre\n",
        "a posse de bens, como geladeira, máquina de lavar, automóvel,\n",
        "rádio, computador, telefone, entre outros, e acesso a serviços de\n",
        "mídia, como TV por Assinatura, Internet, etc.”\n"
      ]
    },
    {
      "cell_type": "markdown",
      "metadata": {
        "id": "VUomfjN05mAY",
        "colab_type": "text"
      },
      "source": [
        "Variáveis qualitativas:\n",
        "\n",
        "* condição do domicílio entrevistado (condição da rua, tipo de imóvel);\n",
        "* Grau de instrução;\n",
        "* Idade;\n",
        "* Presença de crianças;\n",
        "* Se possuem bens.\n",
        "\n",
        "Variáveis quantitativas:\n",
        "\n",
        "* condição socioeconômica do domicílio (informações sobre renda e classificação econômica);\n",
        "* Número de pessoas no domicílio; \n",
        "* Quantidade de crianças e adolescentes;\n",
        "* Quantidade de bens."
      ]
    },
    {
      "cell_type": "markdown",
      "metadata": {
        "id": "0e0sVtR-4uc5",
        "colab_type": "text"
      },
      "source": [
        "## Atividade 1.2 -"
      ]
    },
    {
      "cell_type": "markdown",
      "metadata": {
        "id": "9mSriCn4_XvM",
        "colab_type": "text"
      },
      "source": [
        "Para o Departamento Financeiro, obteve-se a seguinte informação sobre\n",
        "o sexo dos 23 funcionários:\n",
        "\n",
        "M F F M M M F F M M M M M F M M F F M M M F F\n",
        "\n",
        "onde M = Masculino e F = Feminino. \n",
        "\n",
        "Construa uma tabela de frequências para esses dados."
      ]
    },
    {
      "cell_type": "code",
      "metadata": {
        "id": "9RhW4tD__t93",
        "colab_type": "code",
        "outputId": "0aa43dda-b31b-4e35-8276-13718c1f76c5",
        "colab": {
          "base_uri": "https://localhost:8080/",
          "height": 173
        }
      },
      "source": [
        "# substituindo \"M\" por 0 e \"F\" por 1, temos:\n",
        "dados = [0,1,1,0,0,0,1,1,0,0,0,0,0,1,0,0,1,1,0,0,0,1,1]\n",
        "\n",
        "sex = ['Masculino', 'Feminino']\n",
        "\n",
        "fi, classes = np.histogram(dados, bins=2)\n",
        "fr = np.around(fi/fi.sum()*100,decimals=2)\n",
        "fc = np.cumsum(fi).astype(int)\n",
        "\n",
        "Tabela = pd.DataFrame({'Classes':sex,'fi': fi,'fr(%)': fr,'Fc': fc}).set_index('Classes')\n",
        "Tabela.loc['Total'] = [Tabela['fi'].sum(axis=0), Tabela['fr(%)'].sum(axis=0), '-']\n",
        "Tabela"
      ],
      "execution_count": 22,
      "outputs": [
        {
          "output_type": "execute_result",
          "data": {
            "text/html": [
              "<div>\n",
              "<style scoped>\n",
              "    .dataframe tbody tr th:only-of-type {\n",
              "        vertical-align: middle;\n",
              "    }\n",
              "\n",
              "    .dataframe tbody tr th {\n",
              "        vertical-align: top;\n",
              "    }\n",
              "\n",
              "    .dataframe thead th {\n",
              "        text-align: right;\n",
              "    }\n",
              "</style>\n",
              "<table border=\"1\" class=\"dataframe\">\n",
              "  <thead>\n",
              "    <tr style=\"text-align: right;\">\n",
              "      <th></th>\n",
              "      <th>fi</th>\n",
              "      <th>fr(%)</th>\n",
              "      <th>Fc</th>\n",
              "    </tr>\n",
              "    <tr>\n",
              "      <th>Classes</th>\n",
              "      <th></th>\n",
              "      <th></th>\n",
              "      <th></th>\n",
              "    </tr>\n",
              "  </thead>\n",
              "  <tbody>\n",
              "    <tr>\n",
              "      <th>Masculino</th>\n",
              "      <td>14</td>\n",
              "      <td>60.87</td>\n",
              "      <td>14</td>\n",
              "    </tr>\n",
              "    <tr>\n",
              "      <th>Feminino</th>\n",
              "      <td>9</td>\n",
              "      <td>39.13</td>\n",
              "      <td>23</td>\n",
              "    </tr>\n",
              "    <tr>\n",
              "      <th>Total</th>\n",
              "      <td>23</td>\n",
              "      <td>100.00</td>\n",
              "      <td>-</td>\n",
              "    </tr>\n",
              "  </tbody>\n",
              "</table>\n",
              "</div>"
            ],
            "text/plain": [
              "           fi   fr(%)  Fc\n",
              "Classes                  \n",
              "Masculino  14   60.87  14\n",
              "Feminino    9   39.13  23\n",
              "Total      23  100.00   -"
            ]
          },
          "metadata": {
            "tags": []
          },
          "execution_count": 22
        }
      ]
    },
    {
      "cell_type": "markdown",
      "metadata": {
        "id": "7cuE9j4g5p8B",
        "colab_type": "text"
      },
      "source": [
        "## Atividade 1.3 - \n",
        "\n",
        "Execute todos os exemplos até aqui usando as funções do Python trabalhadas em sala. Ver o notebook de exemplo."
      ]
    },
    {
      "cell_type": "markdown",
      "metadata": {
        "id": "yP0SZun06r1q",
        "colab_type": "text"
      },
      "source": [
        "Exemplo 1.1:"
      ]
    },
    {
      "cell_type": "code",
      "metadata": {
        "id": "yD8E957n5wqr",
        "colab_type": "code",
        "colab": {
          "base_uri": "https://localhost:8080/",
          "height": 173
        },
        "outputId": "b44bb128-14f0-469e-d857-0025529cfee9"
      },
      "source": [
        "# Usando sexo masculino como 0 e feminino como 1, temos:\n",
        "sex = ['Masculino', 'Feminino']\n",
        "dados = [0,0,1,1,1,0,0,1,1,0,1,0,0,0,1]\n",
        "\n",
        "fi, classes = np.histogram(dados, bins=2)\n",
        "fr = np.around(fi/fi.sum()*100,decimals=2)\n",
        "fc = np.cumsum(fi).astype(int)\n",
        "\n",
        "Tabela = pd.DataFrame({'Sexo':sex,'fi': fi,'fr(%)': fr,'Fc': fc}).set_index('Sexo')\n",
        "Tabela.loc['Total'] = [Tabela['fi'].sum(axis=0), Tabela['fr(%)'].sum(axis=0), '-']\n",
        "Tabela"
      ],
      "execution_count": 23,
      "outputs": [
        {
          "output_type": "execute_result",
          "data": {
            "text/html": [
              "<div>\n",
              "<style scoped>\n",
              "    .dataframe tbody tr th:only-of-type {\n",
              "        vertical-align: middle;\n",
              "    }\n",
              "\n",
              "    .dataframe tbody tr th {\n",
              "        vertical-align: top;\n",
              "    }\n",
              "\n",
              "    .dataframe thead th {\n",
              "        text-align: right;\n",
              "    }\n",
              "</style>\n",
              "<table border=\"1\" class=\"dataframe\">\n",
              "  <thead>\n",
              "    <tr style=\"text-align: right;\">\n",
              "      <th></th>\n",
              "      <th>fi</th>\n",
              "      <th>fr(%)</th>\n",
              "      <th>Fc</th>\n",
              "    </tr>\n",
              "    <tr>\n",
              "      <th>Sexo</th>\n",
              "      <th></th>\n",
              "      <th></th>\n",
              "      <th></th>\n",
              "    </tr>\n",
              "  </thead>\n",
              "  <tbody>\n",
              "    <tr>\n",
              "      <th>Masculino</th>\n",
              "      <td>8</td>\n",
              "      <td>53.33</td>\n",
              "      <td>8</td>\n",
              "    </tr>\n",
              "    <tr>\n",
              "      <th>Feminino</th>\n",
              "      <td>7</td>\n",
              "      <td>46.67</td>\n",
              "      <td>15</td>\n",
              "    </tr>\n",
              "    <tr>\n",
              "      <th>Total</th>\n",
              "      <td>15</td>\n",
              "      <td>100.00</td>\n",
              "      <td>-</td>\n",
              "    </tr>\n",
              "  </tbody>\n",
              "</table>\n",
              "</div>"
            ],
            "text/plain": [
              "           fi   fr(%)  Fc\n",
              "Sexo                     \n",
              "Masculino   8   53.33   8\n",
              "Feminino    7   46.67  15\n",
              "Total      15  100.00   -"
            ]
          },
          "metadata": {
            "tags": []
          },
          "execution_count": 23
        }
      ]
    },
    {
      "cell_type": "code",
      "metadata": {
        "id": "UjMBDgywNw59",
        "colab_type": "code",
        "colab": {
          "base_uri": "https://localhost:8080/",
          "height": 235
        },
        "outputId": "a88ce489-0701-4055-ba8e-e29c6d51bfec"
      },
      "source": [
        "# Usando:\n",
        "'''\n",
        "Solteiro = 0\n",
        "Casado = 1\n",
        "Divorciado = 2\n",
        "Viúvo = 3\n",
        "'''\n",
        "Est_Civil = ['Solteiro', 'Casado', 'Divorciado', 'Viúvo']\n",
        "dados = [1,3,1,0,0,1,1,2,1,1,0,2,0,0,0]\n",
        "\n",
        "fi, classes = np.histogram(dados, bins=4)\n",
        "fr = np.around(fi/fi.sum()*100,decimals=2)\n",
        "fc = np.cumsum(fi).astype(int)\n",
        "\n",
        "Tabela = pd.DataFrame({'Estado Civil':Est_Civil, 'fi': fi,'fr(%)': fr,'Fc': fc}).set_index('Estado Civil')\n",
        "Tabela.loc['Total'] = [Tabela['fi'].sum(axis=0), Tabela['fr(%)'].sum(axis=0), '-']\n",
        "Tabela"
      ],
      "execution_count": 24,
      "outputs": [
        {
          "output_type": "execute_result",
          "data": {
            "text/html": [
              "<div>\n",
              "<style scoped>\n",
              "    .dataframe tbody tr th:only-of-type {\n",
              "        vertical-align: middle;\n",
              "    }\n",
              "\n",
              "    .dataframe tbody tr th {\n",
              "        vertical-align: top;\n",
              "    }\n",
              "\n",
              "    .dataframe thead th {\n",
              "        text-align: right;\n",
              "    }\n",
              "</style>\n",
              "<table border=\"1\" class=\"dataframe\">\n",
              "  <thead>\n",
              "    <tr style=\"text-align: right;\">\n",
              "      <th></th>\n",
              "      <th>fi</th>\n",
              "      <th>fr(%)</th>\n",
              "      <th>Fc</th>\n",
              "    </tr>\n",
              "    <tr>\n",
              "      <th>Estado Civil</th>\n",
              "      <th></th>\n",
              "      <th></th>\n",
              "      <th></th>\n",
              "    </tr>\n",
              "  </thead>\n",
              "  <tbody>\n",
              "    <tr>\n",
              "      <th>Solteiro</th>\n",
              "      <td>6</td>\n",
              "      <td>40.00</td>\n",
              "      <td>6</td>\n",
              "    </tr>\n",
              "    <tr>\n",
              "      <th>Casado</th>\n",
              "      <td>6</td>\n",
              "      <td>40.00</td>\n",
              "      <td>12</td>\n",
              "    </tr>\n",
              "    <tr>\n",
              "      <th>Divorciado</th>\n",
              "      <td>2</td>\n",
              "      <td>13.33</td>\n",
              "      <td>14</td>\n",
              "    </tr>\n",
              "    <tr>\n",
              "      <th>Viúvo</th>\n",
              "      <td>1</td>\n",
              "      <td>6.67</td>\n",
              "      <td>15</td>\n",
              "    </tr>\n",
              "    <tr>\n",
              "      <th>Total</th>\n",
              "      <td>15</td>\n",
              "      <td>100.00</td>\n",
              "      <td>-</td>\n",
              "    </tr>\n",
              "  </tbody>\n",
              "</table>\n",
              "</div>"
            ],
            "text/plain": [
              "              fi   fr(%)  Fc\n",
              "Estado Civil                \n",
              "Solteiro       6   40.00   6\n",
              "Casado         6   40.00  12\n",
              "Divorciado     2   13.33  14\n",
              "Viúvo          1    6.67  15\n",
              "Total         15  100.00   -"
            ]
          },
          "metadata": {
            "tags": []
          },
          "execution_count": 24
        }
      ]
    },
    {
      "cell_type": "markdown",
      "metadata": {
        "id": "W8X9wbWtTThh",
        "colab_type": "text"
      },
      "source": [
        "##Atividade 1.4 - \n",
        "Construa a distribuição de frequência para o número de dependentes\n",
        "dos funcionários do Departamento de Recursos Humanos, conforme dados no Exemplo 1."
      ]
    },
    {
      "cell_type": "code",
      "metadata": {
        "id": "OdeaVUlVTT43",
        "colab_type": "code",
        "colab": {
          "base_uri": "https://localhost:8080/",
          "height": 235
        },
        "outputId": "f713a5ee-c97f-4acf-9d8b-dd14ea6cc7d6"
      },
      "source": [
        "N_dependentes = [3,1,0,0,1,3,4,2,2,3,0,2,0,1,0]\n",
        "\n",
        "fa,classes= np.histogram(N_dependentes, bins='sqrt') \n",
        "\n",
        "fa = fa.astype(int)\n",
        "fr = np.around(fa/fa.sum()*100,decimals=2) \n",
        "fc = np.cumsum(fa).astype(int)\n",
        "    \n",
        "classe_str = []\n",
        "for i in range(len(classes)):\n",
        "    if i<=len(classes)-2:\n",
        "        classe_str.append('{:2.2f} |-- {:2.2f}' .format(classes[i],classes[i+1]))\n",
        "    else:\n",
        "        break\n",
        "\n",
        "Tabela = pd.DataFrame({'Classes':classe_str,'fi': fa,'fr(%)': fr,'Fc': fc}).set_index('Classes')\n",
        "Tabela.loc['Total'] = [Tabela['fi'].sum(axis=0), Tabela['fr(%)'].sum(axis=0), '-']\n",
        "\n",
        "Tabela"
      ],
      "execution_count": 25,
      "outputs": [
        {
          "output_type": "execute_result",
          "data": {
            "text/html": [
              "<div>\n",
              "<style scoped>\n",
              "    .dataframe tbody tr th:only-of-type {\n",
              "        vertical-align: middle;\n",
              "    }\n",
              "\n",
              "    .dataframe tbody tr th {\n",
              "        vertical-align: top;\n",
              "    }\n",
              "\n",
              "    .dataframe thead th {\n",
              "        text-align: right;\n",
              "    }\n",
              "</style>\n",
              "<table border=\"1\" class=\"dataframe\">\n",
              "  <thead>\n",
              "    <tr style=\"text-align: right;\">\n",
              "      <th></th>\n",
              "      <th>fi</th>\n",
              "      <th>fr(%)</th>\n",
              "      <th>Fc</th>\n",
              "    </tr>\n",
              "    <tr>\n",
              "      <th>Classes</th>\n",
              "      <th></th>\n",
              "      <th></th>\n",
              "      <th></th>\n",
              "    </tr>\n",
              "  </thead>\n",
              "  <tbody>\n",
              "    <tr>\n",
              "      <th>0.00 |-- 1.00</th>\n",
              "      <td>5</td>\n",
              "      <td>33.33</td>\n",
              "      <td>5</td>\n",
              "    </tr>\n",
              "    <tr>\n",
              "      <th>1.00 |-- 2.00</th>\n",
              "      <td>3</td>\n",
              "      <td>20.00</td>\n",
              "      <td>8</td>\n",
              "    </tr>\n",
              "    <tr>\n",
              "      <th>2.00 |-- 3.00</th>\n",
              "      <td>3</td>\n",
              "      <td>20.00</td>\n",
              "      <td>11</td>\n",
              "    </tr>\n",
              "    <tr>\n",
              "      <th>3.00 |-- 4.00</th>\n",
              "      <td>4</td>\n",
              "      <td>26.67</td>\n",
              "      <td>15</td>\n",
              "    </tr>\n",
              "    <tr>\n",
              "      <th>Total</th>\n",
              "      <td>15</td>\n",
              "      <td>100.00</td>\n",
              "      <td>-</td>\n",
              "    </tr>\n",
              "  </tbody>\n",
              "</table>\n",
              "</div>"
            ],
            "text/plain": [
              "               fi   fr(%)  Fc\n",
              "Classes                      \n",
              "0.00 |-- 1.00   5   33.33   5\n",
              "1.00 |-- 2.00   3   20.00   8\n",
              "2.00 |-- 3.00   3   20.00  11\n",
              "3.00 |-- 4.00   4   26.67  15\n",
              "Total          15  100.00   -"
            ]
          },
          "metadata": {
            "tags": []
          },
          "execution_count": 25
        }
      ]
    },
    {
      "cell_type": "markdown",
      "metadata": {
        "id": "fHIxnI3mV6Dx",
        "colab_type": "text"
      },
      "source": [
        "##Exercícios (Pág. 19)\n",
        "\n",
        "1. Na Tabela 1.4 temos informações sobre o sexo, a matéria predileta\n",
        "(Português, Matemática, História, Geografia ou Ciências) no 2o grau\n",
        "e a nota (número de questões certas) em um teste de múltipla escolha\n",
        "com 10 questões de matemática, ministrado no primeiro dia de aula\n",
        "dos calouros de Administração de uma universidade (dados fictícios).\n",
        "\n",
        "(a) Classifique as variáveis envolvidas."
      ]
    },
    {
      "cell_type": "markdown",
      "metadata": {
        "id": "9dVVoZAVWIfH",
        "colab_type": "text"
      },
      "source": [
        "  * Sexo: Qualitativa\n",
        "  * Matéria predileta: Qualitativa\n",
        "  * Nota: Quantitativa"
      ]
    },
    {
      "cell_type": "markdown",
      "metadata": {
        "id": "V0nJuIB-XehN",
        "colab_type": "text"
      },
      "source": [
        "(b) Construa a tabela de frequências apropriada para cada uma das\n",
        "variáveis."
      ]
    },
    {
      "cell_type": "markdown",
      "metadata": {
        "id": "LdOb5Ht_YAnK",
        "colab_type": "text"
      },
      "source": [
        "Sexo:\n"
      ]
    },
    {
      "cell_type": "code",
      "metadata": {
        "id": "OsIcXKkNXfYj",
        "colab_type": "code",
        "colab": {
          "base_uri": "https://localhost:8080/",
          "height": 173
        },
        "outputId": "542a31e7-f924-48f0-b77f-4f9faca0d308"
      },
      "source": [
        "# substituindo \"M\" por 0 e \"F\" por 1, temos:\n",
        "#[F,M,F,F,M,M,F,F,F,M,F,M,M,M,M,M,F,F,M,M,F,F,M,M,F,F,M,M,F,F,F,M,MF,M,M,F,M,F,F,F,M]\n",
        "\n",
        "dados = [1,0,1,1,0,0,1,1,1,0,1,0,0,0,0,0,1,1,0,0,1,1,0,0,1,1,0,0,1,1,1,0,0,1,0,0,1,0,1,1,1,0]\n",
        "sex = ['Masculino', 'Feminino']\n",
        "\n",
        "fi, classes = np.histogram(dados, bins=2)\n",
        "fr = np.around(fi/fi.sum()*100,decimals=2)\n",
        "fc = np.cumsum(fi).astype(int)\n",
        "\n",
        "Tabela = pd.DataFrame({'Classes':sex, 'fi': fi, 'fr(%)': fr, 'Fc': fc}).set_index('Classes')\n",
        "Tabela.loc['Total'] = [Tabela['fi'].sum(axis=0), Tabela['fr(%)'].sum(axis=0), '-']\n",
        "Tabela"
      ],
      "execution_count": 26,
      "outputs": [
        {
          "output_type": "execute_result",
          "data": {
            "text/html": [
              "<div>\n",
              "<style scoped>\n",
              "    .dataframe tbody tr th:only-of-type {\n",
              "        vertical-align: middle;\n",
              "    }\n",
              "\n",
              "    .dataframe tbody tr th {\n",
              "        vertical-align: top;\n",
              "    }\n",
              "\n",
              "    .dataframe thead th {\n",
              "        text-align: right;\n",
              "    }\n",
              "</style>\n",
              "<table border=\"1\" class=\"dataframe\">\n",
              "  <thead>\n",
              "    <tr style=\"text-align: right;\">\n",
              "      <th></th>\n",
              "      <th>fi</th>\n",
              "      <th>fr(%)</th>\n",
              "      <th>Fc</th>\n",
              "    </tr>\n",
              "    <tr>\n",
              "      <th>Classes</th>\n",
              "      <th></th>\n",
              "      <th></th>\n",
              "      <th></th>\n",
              "    </tr>\n",
              "  </thead>\n",
              "  <tbody>\n",
              "    <tr>\n",
              "      <th>Masculino</th>\n",
              "      <td>21</td>\n",
              "      <td>50.0</td>\n",
              "      <td>21</td>\n",
              "    </tr>\n",
              "    <tr>\n",
              "      <th>Feminino</th>\n",
              "      <td>21</td>\n",
              "      <td>50.0</td>\n",
              "      <td>42</td>\n",
              "    </tr>\n",
              "    <tr>\n",
              "      <th>Total</th>\n",
              "      <td>42</td>\n",
              "      <td>100.0</td>\n",
              "      <td>-</td>\n",
              "    </tr>\n",
              "  </tbody>\n",
              "</table>\n",
              "</div>"
            ],
            "text/plain": [
              "           fi  fr(%)  Fc\n",
              "Classes                 \n",
              "Masculino  21   50.0  21\n",
              "Feminino   21   50.0  42\n",
              "Total      42  100.0   -"
            ]
          },
          "metadata": {
            "tags": []
          },
          "execution_count": 26
        }
      ]
    },
    {
      "cell_type": "markdown",
      "metadata": {
        "id": "X18GR2Q1aFnK",
        "colab_type": "text"
      },
      "source": [
        "Matéria predileta:"
      ]
    },
    {
      "cell_type": "code",
      "metadata": {
        "id": "Glu0IHHVaKAA",
        "colab_type": "code",
        "colab": {
          "base_uri": "https://localhost:8080/",
          "height": 266
        },
        "outputId": "6502af47-54e1-4467-867c-b1dabc8ffd67"
      },
      "source": [
        "# Usando:\n",
        "'''\n",
        "Português = 0\n",
        "Matemática = 1\n",
        "História = 2\n",
        "Geografia = 3\n",
        "Ciências = 4\n",
        "'''\n",
        "Materias = ['Português', 'Matemática', 'História', 'Geografia', 'Ciências']\n",
        "dados = [2,1,0,2,4,2,1,0,2,4,0,1,3,3,1,1,0,3,3,0,1,3,2,1,0,3,4,2,1,0,1,3,2,1,0,3,1,0,1,1,0,1]\n",
        "\n",
        "fi, classes = np.histogram(dados, bins=5)\n",
        "fr = np.around(fi/fi.sum()*100,decimals=2)\n",
        "fc = np.cumsum(fi).astype(int)\n",
        "\n",
        "Tabela = pd.DataFrame({'Materias':Materias, 'fi': fi,'fr(%)': fr,'Fc': fc}).set_index('Materias')\n",
        "Tabela.loc['Total'] = [Tabela['fi'].sum(axis=0), Tabela['fr(%)'].sum(axis=0), '-']\n",
        "Tabela"
      ],
      "execution_count": 27,
      "outputs": [
        {
          "output_type": "execute_result",
          "data": {
            "text/html": [
              "<div>\n",
              "<style scoped>\n",
              "    .dataframe tbody tr th:only-of-type {\n",
              "        vertical-align: middle;\n",
              "    }\n",
              "\n",
              "    .dataframe tbody tr th {\n",
              "        vertical-align: top;\n",
              "    }\n",
              "\n",
              "    .dataframe thead th {\n",
              "        text-align: right;\n",
              "    }\n",
              "</style>\n",
              "<table border=\"1\" class=\"dataframe\">\n",
              "  <thead>\n",
              "    <tr style=\"text-align: right;\">\n",
              "      <th></th>\n",
              "      <th>fi</th>\n",
              "      <th>fr(%)</th>\n",
              "      <th>Fc</th>\n",
              "    </tr>\n",
              "    <tr>\n",
              "      <th>Materias</th>\n",
              "      <th></th>\n",
              "      <th></th>\n",
              "      <th></th>\n",
              "    </tr>\n",
              "  </thead>\n",
              "  <tbody>\n",
              "    <tr>\n",
              "      <th>Português</th>\n",
              "      <td>10</td>\n",
              "      <td>23.81</td>\n",
              "      <td>10</td>\n",
              "    </tr>\n",
              "    <tr>\n",
              "      <th>Matemática</th>\n",
              "      <td>14</td>\n",
              "      <td>33.33</td>\n",
              "      <td>24</td>\n",
              "    </tr>\n",
              "    <tr>\n",
              "      <th>História</th>\n",
              "      <td>7</td>\n",
              "      <td>16.67</td>\n",
              "      <td>31</td>\n",
              "    </tr>\n",
              "    <tr>\n",
              "      <th>Geografia</th>\n",
              "      <td>8</td>\n",
              "      <td>19.05</td>\n",
              "      <td>39</td>\n",
              "    </tr>\n",
              "    <tr>\n",
              "      <th>Ciências</th>\n",
              "      <td>3</td>\n",
              "      <td>7.14</td>\n",
              "      <td>42</td>\n",
              "    </tr>\n",
              "    <tr>\n",
              "      <th>Total</th>\n",
              "      <td>42</td>\n",
              "      <td>100.00</td>\n",
              "      <td>-</td>\n",
              "    </tr>\n",
              "  </tbody>\n",
              "</table>\n",
              "</div>"
            ],
            "text/plain": [
              "            fi   fr(%)  Fc\n",
              "Materias                  \n",
              "Português   10   23.81  10\n",
              "Matemática  14   33.33  24\n",
              "História     7   16.67  31\n",
              "Geografia    8   19.05  39\n",
              "Ciências     3    7.14  42\n",
              "Total       42  100.00   -"
            ]
          },
          "metadata": {
            "tags": []
          },
          "execution_count": 27
        }
      ]
    },
    {
      "cell_type": "markdown",
      "metadata": {
        "id": "MgT5-VrNfNuv",
        "colab_type": "text"
      },
      "source": [
        "Nota:"
      ]
    },
    {
      "cell_type": "code",
      "metadata": {
        "id": "dNXhU3RSfPIl",
        "colab_type": "code",
        "colab": {
          "base_uri": "https://localhost:8080/",
          "height": 328
        },
        "outputId": "2291518a-abff-4a72-d675-75d6855e1818"
      },
      "source": [
        "Notas = [5,8,8,6,5,6,8,4,2,6,8,2,4,9,7,1,8,5,9,5,8,6,3,5,5,5,7,4,7,7,6,6,9,8,5,6,7,5,5,5,9,8]\n",
        "\n",
        "fa,classes= np.histogram(Notas, bins='sturges') \n",
        "\n",
        "fa = fa.astype(int)\n",
        "fr = np.around(fa/fa.sum()*100,decimals=2) \n",
        "fc = np.cumsum(fa).astype(int)\n",
        "    \n",
        "classe_str = []\n",
        "for i in range(len(classes)):\n",
        "    if i<=len(classes)-2:\n",
        "        classe_str.append('{:2.2f} |-- {:2.2f}' .format(classes[i],classes[i+1]))\n",
        "    else:\n",
        "        break\n",
        "\n",
        "Tabela = pd.DataFrame({'Classes':classe_str,'fi': fa,'fr(%)': fr,'Fc': fc}).set_index('Classes')\n",
        "Tabela.loc['Total'] = [Tabela['fi'].sum(axis=0), Tabela['fr(%)'].sum(axis=0), '-']\n",
        "Tabela"
      ],
      "execution_count": 28,
      "outputs": [
        {
          "output_type": "execute_result",
          "data": {
            "text/html": [
              "<div>\n",
              "<style scoped>\n",
              "    .dataframe tbody tr th:only-of-type {\n",
              "        vertical-align: middle;\n",
              "    }\n",
              "\n",
              "    .dataframe tbody tr th {\n",
              "        vertical-align: top;\n",
              "    }\n",
              "\n",
              "    .dataframe thead th {\n",
              "        text-align: right;\n",
              "    }\n",
              "</style>\n",
              "<table border=\"1\" class=\"dataframe\">\n",
              "  <thead>\n",
              "    <tr style=\"text-align: right;\">\n",
              "      <th></th>\n",
              "      <th>fi</th>\n",
              "      <th>fr(%)</th>\n",
              "      <th>Fc</th>\n",
              "    </tr>\n",
              "    <tr>\n",
              "      <th>Classes</th>\n",
              "      <th></th>\n",
              "      <th></th>\n",
              "      <th></th>\n",
              "    </tr>\n",
              "  </thead>\n",
              "  <tbody>\n",
              "    <tr>\n",
              "      <th>1.00 |-- 2.14</th>\n",
              "      <td>3</td>\n",
              "      <td>7.14</td>\n",
              "      <td>3</td>\n",
              "    </tr>\n",
              "    <tr>\n",
              "      <th>2.14 |-- 3.29</th>\n",
              "      <td>1</td>\n",
              "      <td>2.38</td>\n",
              "      <td>4</td>\n",
              "    </tr>\n",
              "    <tr>\n",
              "      <th>3.29 |-- 4.43</th>\n",
              "      <td>3</td>\n",
              "      <td>7.14</td>\n",
              "      <td>7</td>\n",
              "    </tr>\n",
              "    <tr>\n",
              "      <th>4.43 |-- 5.57</th>\n",
              "      <td>11</td>\n",
              "      <td>26.19</td>\n",
              "      <td>18</td>\n",
              "    </tr>\n",
              "    <tr>\n",
              "      <th>5.57 |-- 6.71</th>\n",
              "      <td>7</td>\n",
              "      <td>16.67</td>\n",
              "      <td>25</td>\n",
              "    </tr>\n",
              "    <tr>\n",
              "      <th>6.71 |-- 7.86</th>\n",
              "      <td>5</td>\n",
              "      <td>11.90</td>\n",
              "      <td>30</td>\n",
              "    </tr>\n",
              "    <tr>\n",
              "      <th>7.86 |-- 9.00</th>\n",
              "      <td>12</td>\n",
              "      <td>28.57</td>\n",
              "      <td>42</td>\n",
              "    </tr>\n",
              "    <tr>\n",
              "      <th>Total</th>\n",
              "      <td>42</td>\n",
              "      <td>99.99</td>\n",
              "      <td>-</td>\n",
              "    </tr>\n",
              "  </tbody>\n",
              "</table>\n",
              "</div>"
            ],
            "text/plain": [
              "               fi  fr(%)  Fc\n",
              "Classes                     \n",
              "1.00 |-- 2.14   3   7.14   3\n",
              "2.14 |-- 3.29   1   2.38   4\n",
              "3.29 |-- 4.43   3   7.14   7\n",
              "4.43 |-- 5.57  11  26.19  18\n",
              "5.57 |-- 6.71   7  16.67  25\n",
              "6.71 |-- 7.86   5  11.90  30\n",
              "7.86 |-- 9.00  12  28.57  42\n",
              "Total          42  99.99   -"
            ]
          },
          "metadata": {
            "tags": []
          },
          "execution_count": 28
        }
      ]
    },
    {
      "cell_type": "markdown",
      "metadata": {
        "id": "NYl1baJjmnce",
        "colab_type": "text"
      },
      "source": [
        "3. Na Tabela 1.6 temos as frequências acumuladas do número de sinistros por apólice de seguro do ramo Automóveis. Complete a tabela,\n",
        "calculando as frequências simples absolutas e relativas e também as\n",
        "frequências acumuladas relativas."
      ]
    },
    {
      "cell_type": "code",
      "metadata": {
        "id": "4HuCTW--5flS",
        "colab_type": "code",
        "colab": {
          "base_uri": "https://localhost:8080/",
          "height": 266
        },
        "outputId": "ec6d4166-201f-435f-dba1-db80ec17eefd"
      },
      "source": [
        "N_sinistros = ['0', '<= 1', '<= 2', '<= 3', '<= 4']\n",
        "dados = pd.read_csv('https://raw.githubusercontent.com/RafaelMunizz/Dados-Estat-stica/master/atividade.csv')\n",
        "\n",
        "fi, classes = np.histogram(dados, bins=5)\n",
        "fr = np.around(fi/fi.sum()*100,decimals=2)\n",
        "fc = np.cumsum(fi).astype(int)\n",
        "\n",
        "Tabela = pd.DataFrame({'Numero de sinistros': N_sinistros, 'fi': fi,'fr(%)': fr,'Fc': fc}).set_index('Numero de sinistros')\n",
        "Tabela.loc['Total'] = [Tabela['fi'].sum(axis=0), Tabela['fr(%)'].sum(axis=0), '-']\n",
        "Tabela"
      ],
      "execution_count": 29,
      "outputs": [
        {
          "output_type": "execute_result",
          "data": {
            "text/html": [
              "<div>\n",
              "<style scoped>\n",
              "    .dataframe tbody tr th:only-of-type {\n",
              "        vertical-align: middle;\n",
              "    }\n",
              "\n",
              "    .dataframe tbody tr th {\n",
              "        vertical-align: top;\n",
              "    }\n",
              "\n",
              "    .dataframe thead th {\n",
              "        text-align: right;\n",
              "    }\n",
              "</style>\n",
              "<table border=\"1\" class=\"dataframe\">\n",
              "  <thead>\n",
              "    <tr style=\"text-align: right;\">\n",
              "      <th></th>\n",
              "      <th>fi</th>\n",
              "      <th>fr(%)</th>\n",
              "      <th>Fc</th>\n",
              "    </tr>\n",
              "    <tr>\n",
              "      <th>Numero de sinistros</th>\n",
              "      <th></th>\n",
              "      <th></th>\n",
              "      <th></th>\n",
              "    </tr>\n",
              "  </thead>\n",
              "  <tbody>\n",
              "    <tr>\n",
              "      <th>0</th>\n",
              "      <td>2913</td>\n",
              "      <td>13.14</td>\n",
              "      <td>2913</td>\n",
              "    </tr>\n",
              "    <tr>\n",
              "      <th>&lt;= 1</th>\n",
              "      <td>4500</td>\n",
              "      <td>20.30</td>\n",
              "      <td>7413</td>\n",
              "    </tr>\n",
              "    <tr>\n",
              "      <th>&lt;= 2</th>\n",
              "      <td>4826</td>\n",
              "      <td>21.77</td>\n",
              "      <td>12239</td>\n",
              "    </tr>\n",
              "    <tr>\n",
              "      <th>&lt;= 3</th>\n",
              "      <td>4928</td>\n",
              "      <td>22.23</td>\n",
              "      <td>17167</td>\n",
              "    </tr>\n",
              "    <tr>\n",
              "      <th>&lt;= 4</th>\n",
              "      <td>5000</td>\n",
              "      <td>22.56</td>\n",
              "      <td>22167</td>\n",
              "    </tr>\n",
              "    <tr>\n",
              "      <th>Total</th>\n",
              "      <td>22167</td>\n",
              "      <td>100.00</td>\n",
              "      <td>-</td>\n",
              "    </tr>\n",
              "  </tbody>\n",
              "</table>\n",
              "</div>"
            ],
            "text/plain": [
              "                        fi   fr(%)     Fc\n",
              "Numero de sinistros                      \n",
              "0                     2913   13.14   2913\n",
              "<= 1                  4500   20.30   7413\n",
              "<= 2                  4826   21.77  12239\n",
              "<= 3                  4928   22.23  17167\n",
              "<= 4                  5000   22.56  22167\n",
              "Total                22167  100.00      -"
            ]
          },
          "metadata": {
            "tags": []
          },
          "execution_count": 29
        }
      ]
    },
    {
      "cell_type": "markdown",
      "metadata": {
        "id": "WyKpycU55UW1",
        "colab_type": "text"
      },
      "source": [
        "##Atividade 2.1"
      ]
    },
    {
      "cell_type": "markdown",
      "metadata": {
        "id": "T_YhGNCsmqGb",
        "colab_type": "text"
      },
      "source": [
        "Na Tabela 2.2 temos as informações sobre idade e salário para os 15\n",
        "funcionários do Departamento de Recursos Humanos. Construa uma tabela\n",
        "de frequências para a idade, levando em conta as mesmas faixas etárias utilizadas acima."
      ]
    },
    {
      "cell_type": "code",
      "metadata": {
        "id": "mO1GV2Y5nBQL",
        "colab_type": "code",
        "colab": {
          "base_uri": "https://localhost:8080/",
          "height": 266
        },
        "outputId": "7d74b052-eee8-4a88-b848-ecc53c6434e6"
      },
      "source": [
        "Idades = [36,51,26,25,29,53,42,38,35,45,26,37,24,31,29]\n",
        "\n",
        "fa,classes= np.histogram(Idades, bins='auto') \n",
        "\n",
        "fa = fa.astype(int)\n",
        "fr = np.around(fa/fa.sum()*100,decimals=2) \n",
        "fc = np.cumsum(fa).astype(int)\n",
        "    \n",
        "classe_str = []\n",
        "for i in range(len(classes)):\n",
        "    if i<=len(classes)-2:\n",
        "        classe_str.append('{:2.2f} |-- {:2.2f}' .format(classes[i],classes[i+1]))\n",
        "    else:\n",
        "        break\n",
        "\n",
        "Tabela = pd.DataFrame({'Idades':classe_str,'fi': fa,'fr(%)': fr,'Fc': fc}).set_index('Idades')\n",
        "Tabela.loc['Total'] = [Tabela['fi'].sum(axis=0), Tabela['fr(%)'].sum(axis=0), '-']\n",
        "Tabela"
      ],
      "execution_count": 30,
      "outputs": [
        {
          "output_type": "execute_result",
          "data": {
            "text/html": [
              "<div>\n",
              "<style scoped>\n",
              "    .dataframe tbody tr th:only-of-type {\n",
              "        vertical-align: middle;\n",
              "    }\n",
              "\n",
              "    .dataframe tbody tr th {\n",
              "        vertical-align: top;\n",
              "    }\n",
              "\n",
              "    .dataframe thead th {\n",
              "        text-align: right;\n",
              "    }\n",
              "</style>\n",
              "<table border=\"1\" class=\"dataframe\">\n",
              "  <thead>\n",
              "    <tr style=\"text-align: right;\">\n",
              "      <th></th>\n",
              "      <th>fi</th>\n",
              "      <th>fr(%)</th>\n",
              "      <th>Fc</th>\n",
              "    </tr>\n",
              "    <tr>\n",
              "      <th>Idades</th>\n",
              "      <th></th>\n",
              "      <th></th>\n",
              "      <th></th>\n",
              "    </tr>\n",
              "  </thead>\n",
              "  <tbody>\n",
              "    <tr>\n",
              "      <th>24.00 |-- 29.80</th>\n",
              "      <td>6</td>\n",
              "      <td>40.00</td>\n",
              "      <td>6</td>\n",
              "    </tr>\n",
              "    <tr>\n",
              "      <th>29.80 |-- 35.60</th>\n",
              "      <td>2</td>\n",
              "      <td>13.33</td>\n",
              "      <td>8</td>\n",
              "    </tr>\n",
              "    <tr>\n",
              "      <th>35.60 |-- 41.40</th>\n",
              "      <td>3</td>\n",
              "      <td>20.00</td>\n",
              "      <td>11</td>\n",
              "    </tr>\n",
              "    <tr>\n",
              "      <th>41.40 |-- 47.20</th>\n",
              "      <td>2</td>\n",
              "      <td>13.33</td>\n",
              "      <td>13</td>\n",
              "    </tr>\n",
              "    <tr>\n",
              "      <th>47.20 |-- 53.00</th>\n",
              "      <td>2</td>\n",
              "      <td>13.33</td>\n",
              "      <td>15</td>\n",
              "    </tr>\n",
              "    <tr>\n",
              "      <th>Total</th>\n",
              "      <td>15</td>\n",
              "      <td>99.99</td>\n",
              "      <td>-</td>\n",
              "    </tr>\n",
              "  </tbody>\n",
              "</table>\n",
              "</div>"
            ],
            "text/plain": [
              "                 fi  fr(%)  Fc\n",
              "Idades                        \n",
              "24.00 |-- 29.80   6  40.00   6\n",
              "29.80 |-- 35.60   2  13.33   8\n",
              "35.60 |-- 41.40   3  20.00  11\n",
              "41.40 |-- 47.20   2  13.33  13\n",
              "47.20 |-- 53.00   2  13.33  15\n",
              "Total            15  99.99   -"
            ]
          },
          "metadata": {
            "tags": []
          },
          "execution_count": 30
        }
      ]
    },
    {
      "cell_type": "markdown",
      "metadata": {
        "id": "CrXsZeY55Huv",
        "colab_type": "text"
      },
      "source": [
        "##Atividade 2.2"
      ]
    },
    {
      "cell_type": "markdown",
      "metadata": {
        "id": "Jk8b_dpkoe3E",
        "colab_type": "text"
      },
      "source": [
        "Construa uma distribuição de frequências agrupadas em 5 classes de\n",
        "mesmo comprimento para os dados de salários da Tabela 2.2."
      ]
    },
    {
      "cell_type": "code",
      "metadata": {
        "id": "hB0ll2zPogtW",
        "colab_type": "code",
        "colab": {
          "base_uri": "https://localhost:8080/",
          "height": 266
        },
        "outputId": "254df052-2d45-469f-a066-d70f2ac9281c"
      },
      "source": [
        "Salarios = [6300,5700,4500,3800,3200,7300,7100,5600,6400,7000,3700,6500,4000,5100,4500]\n",
        "\n",
        "fa,classes= np.histogram(Salarios, bins=5) \n",
        "\n",
        "fa = fa.astype(int)\n",
        "fr = np.around(fa/fa.sum()*100,decimals=2) \n",
        "fc = np.cumsum(fa).astype(int)\n",
        "    \n",
        "classe_str = []\n",
        "for i in range(len(classes)):\n",
        "    if i<=len(classes)-2:\n",
        "        classe_str.append('{:2.2f} |-- {:2.2f}' .format(classes[i],classes[i+1]))\n",
        "    else:\n",
        "        break\n",
        "\n",
        "Tabela = pd.DataFrame({'Salarios':classe_str,'fi': fa,'fr(%)': fr,'Fc': fc}).set_index('Salarios')\n",
        "Tabela.loc['Total'] = [Tabela['fi'].sum(axis=0), Tabela['fr(%)'].sum(axis=0), '-']\n",
        "Tabela"
      ],
      "execution_count": 31,
      "outputs": [
        {
          "output_type": "execute_result",
          "data": {
            "text/html": [
              "<div>\n",
              "<style scoped>\n",
              "    .dataframe tbody tr th:only-of-type {\n",
              "        vertical-align: middle;\n",
              "    }\n",
              "\n",
              "    .dataframe tbody tr th {\n",
              "        vertical-align: top;\n",
              "    }\n",
              "\n",
              "    .dataframe thead th {\n",
              "        text-align: right;\n",
              "    }\n",
              "</style>\n",
              "<table border=\"1\" class=\"dataframe\">\n",
              "  <thead>\n",
              "    <tr style=\"text-align: right;\">\n",
              "      <th></th>\n",
              "      <th>fi</th>\n",
              "      <th>fr(%)</th>\n",
              "      <th>Fc</th>\n",
              "    </tr>\n",
              "    <tr>\n",
              "      <th>Salarios</th>\n",
              "      <th></th>\n",
              "      <th></th>\n",
              "      <th></th>\n",
              "    </tr>\n",
              "  </thead>\n",
              "  <tbody>\n",
              "    <tr>\n",
              "      <th>3200.00 |-- 4020.00</th>\n",
              "      <td>4</td>\n",
              "      <td>26.67</td>\n",
              "      <td>4</td>\n",
              "    </tr>\n",
              "    <tr>\n",
              "      <th>4020.00 |-- 4840.00</th>\n",
              "      <td>2</td>\n",
              "      <td>13.33</td>\n",
              "      <td>6</td>\n",
              "    </tr>\n",
              "    <tr>\n",
              "      <th>4840.00 |-- 5660.00</th>\n",
              "      <td>2</td>\n",
              "      <td>13.33</td>\n",
              "      <td>8</td>\n",
              "    </tr>\n",
              "    <tr>\n",
              "      <th>5660.00 |-- 6480.00</th>\n",
              "      <td>3</td>\n",
              "      <td>20.00</td>\n",
              "      <td>11</td>\n",
              "    </tr>\n",
              "    <tr>\n",
              "      <th>6480.00 |-- 7300.00</th>\n",
              "      <td>4</td>\n",
              "      <td>26.67</td>\n",
              "      <td>15</td>\n",
              "    </tr>\n",
              "    <tr>\n",
              "      <th>Total</th>\n",
              "      <td>15</td>\n",
              "      <td>100.00</td>\n",
              "      <td>-</td>\n",
              "    </tr>\n",
              "  </tbody>\n",
              "</table>\n",
              "</div>"
            ],
            "text/plain": [
              "                     fi   fr(%)  Fc\n",
              "Salarios                           \n",
              "3200.00 |-- 4020.00   4   26.67   4\n",
              "4020.00 |-- 4840.00   2   13.33   6\n",
              "4840.00 |-- 5660.00   2   13.33   8\n",
              "5660.00 |-- 6480.00   3   20.00  11\n",
              "6480.00 |-- 7300.00   4   26.67  15\n",
              "Total                15  100.00   -"
            ]
          },
          "metadata": {
            "tags": []
          },
          "execution_count": 31
        }
      ]
    },
    {
      "cell_type": "markdown",
      "metadata": {
        "id": "OSfiJKWi4-48",
        "colab_type": "text"
      },
      "source": [
        "#Exercícios (Pág. 37)"
      ]
    },
    {
      "cell_type": "markdown",
      "metadata": {
        "id": "9yA7UhcvqdQi",
        "colab_type": "text"
      },
      "source": [
        "1. Num estudo sobre a jornada de trabalho das empresas de Produtos\n",
        "Alimentares foram levantados os dados da Tabela 2.6 relativos ao\n",
        "total de horas trabalhadas pelos funcionários no mês de agosto (dados fictícios). Construa uma tabela de frequências usando 5 classes\n",
        "de mesmo tamanho;\n",
        "\n",
        "Construa outras tabelas usando outras métricas para cálculo da quantidade de classes. Comente sobre as diferenças nas distribuições obtidas."
      ]
    },
    {
      "cell_type": "code",
      "metadata": {
        "id": "XsC1pOERq1Uw",
        "colab_type": "code",
        "colab": {}
      },
      "source": [
        "Salarios = [3960, 5016, 13015, 8008, 6930, 5544, 4224, 6138, 118800, 57904, 72600, 100100, 55935, 7223, 3775, 4224,3216, 7392, 2530, 6930, 1815, 4338, 8065, 10910, 8408, 8624, 6864, 5742, 5749, 8514, 2631, 5236, 8527, 3010, 5914, 11748, 8501, 6512, 11458, 10094, 6721, 2631, 7082, 10318, 8008, 3590, 7128, 7929,10450, 6780, 5060, 5544, 6178, 13763, 9623, 14883,17864, 34848, 25300, 52800, 17732, 63923, 30360, 18876,30800, 19562, 49240, 49434, 26950, 22308, 21146, 14212,25520, 49251, 30976, 23338, 43648, 26796, 44880, 30008,30769, 16907, 33911, 27034, 16500, 14445, 28160, 42442,16507, 36960, 67760, 84084, 89888, 65340, 82280, 86152,91080, 99792, 77836, 76032]\n",
        "\n",
        "fa,classes= np.histogram(Salarios, bins=5)\n",
        "#fa,classes= np.histogram(Salarios, bins='auto')\n",
        "#fa,classes= np.histogram(Salarios, bins='fd') \n",
        "#fa,classes= np.histogram(Salarios, bins='doane') \n",
        "#fa,classes= np.histogram(Salarios, bins='scott') \n",
        "#fa,classes= np.histogram(Salarios, bins='stone') \n",
        "#fa,classes= np.histogram(Salarios, bins='rice') \n",
        "#fa,classes= np.histogram(Salarios, bins='sturges') \n",
        "#fa,classes= np.histogram(Salarios, bins='sqrt')  "
      ],
      "execution_count": 0,
      "outputs": []
    },
    {
      "cell_type": "markdown",
      "metadata": {
        "id": "Sl2x_4Btt710",
        "colab_type": "text"
      },
      "source": [
        "Se os compartimentos forem int, ele definirá o número de compartimentos de largura igual no intervalo especificado (10, por padrão).\n",
        "\n",
        "* 'auto'\n",
        "\n",
        "Máximo de estimadores de 'sturges' e 'fd'. Oferece bom desempenho em todos os aspectos.\n",
        "\n",
        "* 'Fd' (estimador de diaconis de Freedman)\n",
        "\n",
        "Estimador robusto que leva em consideração a variabilidade e o tamanho dos dados.\n",
        "\n",
        "* 'Doane'\n",
        "\n",
        "Uma versão aprimorada do estimador de Sturges que funciona melhor com conjuntos de dados não normais.\n",
        "\n",
        "* 'Scott'\n",
        "\n",
        "Estimador menos robusto que leva em consideração a variabilidade e o tamanho dos dados.\n",
        "\n",
        "* 'stone'\n",
        "\n",
        "Estimador com base na estimativa de validação cruzada de exclusão única do erro quadrado integrado. Pode ser considerado como uma generalização da regra de Scott.\n",
        "\n",
        "* 'rice'\n",
        "\n",
        "O estimador não leva em consideração a variabilidade, apenas o tamanho dos dados. Geralmente superestima o número de posições necessárias.\n",
        "\n",
        "* 'sturges'\n",
        "\n",
        "O método padrão de R, considera apenas o tamanho dos dados. Somente ideal para dados gaussianos e subestima o número de posições para grandes conjuntos de dados não gaussianos.\n",
        "\n",
        "* 'Sqrt'\n",
        "\n",
        "Estimador de raiz quadrada (de tamanho de dados), usado pelo Excel e outros programas por sua velocidade e simplicidade."
      ]
    },
    {
      "cell_type": "code",
      "metadata": {
        "id": "zCJ5z6t_uP5r",
        "colab_type": "code",
        "colab": {
          "base_uri": "https://localhost:8080/",
          "height": 266
        },
        "outputId": "815ae30a-eff0-4b2e-8f56-b4871685658c"
      },
      "source": [
        "fa = fa.astype(int)\n",
        "fr = np.around(fa/fa.sum()*100,decimals=2) \n",
        "fc = np.cumsum(fa).astype(int)\n",
        "    \n",
        "classe_str = []\n",
        "for i in range(len(classes)):\n",
        "    if i<=len(classes)-2:\n",
        "        classe_str.append('{:2.2f} |-- {:2.2f}' .format(classes[i],classes[i+1]))\n",
        "    else:\n",
        "        break\n",
        "\n",
        "Tabela = pd.DataFrame({'Horas_Trabalhadas':classe_str,'fi': fa,'fr(%)': fr,'Fc': fc}).set_index('Horas_Trabalhadas')\n",
        "Tabela.loc['Total'] = [Tabela['fi'].sum(axis=0), Tabela['fr(%)'].sum(axis=0), '-']\n",
        "Tabela"
      ],
      "execution_count": 33,
      "outputs": [
        {
          "output_type": "execute_result",
          "data": {
            "text/html": [
              "<div>\n",
              "<style scoped>\n",
              "    .dataframe tbody tr th:only-of-type {\n",
              "        vertical-align: middle;\n",
              "    }\n",
              "\n",
              "    .dataframe tbody tr th {\n",
              "        vertical-align: top;\n",
              "    }\n",
              "\n",
              "    .dataframe thead th {\n",
              "        text-align: right;\n",
              "    }\n",
              "</style>\n",
              "<table border=\"1\" class=\"dataframe\">\n",
              "  <thead>\n",
              "    <tr style=\"text-align: right;\">\n",
              "      <th></th>\n",
              "      <th>fi</th>\n",
              "      <th>fr(%)</th>\n",
              "      <th>Fc</th>\n",
              "    </tr>\n",
              "    <tr>\n",
              "      <th>Horas_Trabalhadas</th>\n",
              "      <th></th>\n",
              "      <th></th>\n",
              "      <th></th>\n",
              "    </tr>\n",
              "  </thead>\n",
              "  <tbody>\n",
              "    <tr>\n",
              "      <th>1815.00 |-- 25212.00</th>\n",
              "      <td>63</td>\n",
              "      <td>63.0</td>\n",
              "      <td>63</td>\n",
              "    </tr>\n",
              "    <tr>\n",
              "      <th>25212.00 |-- 48609.00</th>\n",
              "      <td>17</td>\n",
              "      <td>17.0</td>\n",
              "      <td>80</td>\n",
              "    </tr>\n",
              "    <tr>\n",
              "      <th>48609.00 |-- 72006.00</th>\n",
              "      <td>9</td>\n",
              "      <td>9.0</td>\n",
              "      <td>89</td>\n",
              "    </tr>\n",
              "    <tr>\n",
              "      <th>72006.00 |-- 95403.00</th>\n",
              "      <td>8</td>\n",
              "      <td>8.0</td>\n",
              "      <td>97</td>\n",
              "    </tr>\n",
              "    <tr>\n",
              "      <th>95403.00 |-- 118800.00</th>\n",
              "      <td>3</td>\n",
              "      <td>3.0</td>\n",
              "      <td>100</td>\n",
              "    </tr>\n",
              "    <tr>\n",
              "      <th>Total</th>\n",
              "      <td>100</td>\n",
              "      <td>100.0</td>\n",
              "      <td>-</td>\n",
              "    </tr>\n",
              "  </tbody>\n",
              "</table>\n",
              "</div>"
            ],
            "text/plain": [
              "                         fi  fr(%)   Fc\n",
              "Horas_Trabalhadas                      \n",
              "1815.00 |-- 25212.00     63   63.0   63\n",
              "25212.00 |-- 48609.00    17   17.0   80\n",
              "48609.00 |-- 72006.00     9    9.0   89\n",
              "72006.00 |-- 95403.00     8    8.0   97\n",
              "95403.00 |-- 118800.00    3    3.0  100\n",
              "Total                   100  100.0    -"
            ]
          },
          "metadata": {
            "tags": []
          },
          "execution_count": 33
        }
      ]
    },
    {
      "cell_type": "markdown",
      "metadata": {
        "id": "OdRuX8qEw5jd",
        "colab_type": "text"
      },
      "source": [
        "2. Na Tabela 2.7 temos a população dos municípios de MG com mais de 50.000 habitantes, com base nos dados do Censo Demográfico 2000.\n",
        "Construa uma tabela de frequências para a distribuição da população.\n"
      ]
    },
    {
      "cell_type": "code",
      "metadata": {
        "id": "9hE9ZGOiw-sP",
        "colab_type": "code",
        "colab": {
          "base_uri": "https://localhost:8080/",
          "height": 450
        },
        "outputId": "383f59c3-4656-4dfc-dfce-11d8d869c5fc"
      },
      "source": [
        "Populacao = [50097, 50300, 51024, 51497, 53957, 55303, 58335, 61651, 62907, 63605, 63980, 64387, 64854, 65291, 66277, 66690, 66957, 67123, 67512, 70033, 71478, 73007, 73130, 75216, 76422, 76862, 77789, 78616, 78772, 78997, 84135, 85065, 89091, 92101, 97211, 97451, 98322, 101974, 102836, 106766, 108998, 114126, 115352, 123881, 129424, 133044, 135627, 183962, 184871, 184903, 212496, 246846, 247131, 252051, 306675, 306947, 456796, 501214, 538017, 2238526]\n",
        "\n",
        "fa, classes= np.histogram(Populacao, bins = 'auto') \n",
        "\n",
        "fa = fa.astype(int)\n",
        "fr = np.around(fa/fa.sum()*100,decimals=2) \n",
        "fc = np.cumsum(fa).astype(int)\n",
        "    \n",
        "classe_str = []\n",
        "for i in range(len(classes)):\n",
        "    if i<=len(classes)-2:\n",
        "        classe_str.append('{:2.2f} |-- {:2.2f}' .format(classes[i],classes[i+1]))\n",
        "    else:\n",
        "        break\n",
        "\n",
        "Tabela = pd.DataFrame({'População':classe_str,'fi': fa,'fr(%)': fr,'Fc': fc}).set_index('População')\n",
        "Tabela.loc['Total'] = [Tabela['fi'].sum(axis=0), Tabela['fr(%)'].sum(axis=0), '-']\n",
        "Tabela"
      ],
      "execution_count": 34,
      "outputs": [
        {
          "output_type": "execute_result",
          "data": {
            "text/html": [
              "<div>\n",
              "<style scoped>\n",
              "    .dataframe tbody tr th:only-of-type {\n",
              "        vertical-align: middle;\n",
              "    }\n",
              "\n",
              "    .dataframe tbody tr th {\n",
              "        vertical-align: top;\n",
              "    }\n",
              "\n",
              "    .dataframe thead th {\n",
              "        text-align: right;\n",
              "    }\n",
              "</style>\n",
              "<table border=\"1\" class=\"dataframe\">\n",
              "  <thead>\n",
              "    <tr style=\"text-align: right;\">\n",
              "      <th></th>\n",
              "      <th>fi</th>\n",
              "      <th>fr(%)</th>\n",
              "      <th>Fc</th>\n",
              "    </tr>\n",
              "    <tr>\n",
              "      <th>População</th>\n",
              "      <th></th>\n",
              "      <th></th>\n",
              "      <th></th>\n",
              "    </tr>\n",
              "  </thead>\n",
              "  <tbody>\n",
              "    <tr>\n",
              "      <th>50097.00 |-- 82279.78</th>\n",
              "      <td>30</td>\n",
              "      <td>50.00</td>\n",
              "      <td>30</td>\n",
              "    </tr>\n",
              "    <tr>\n",
              "      <th>82279.78 |-- 114462.56</th>\n",
              "      <td>12</td>\n",
              "      <td>20.00</td>\n",
              "      <td>42</td>\n",
              "    </tr>\n",
              "    <tr>\n",
              "      <th>114462.56 |-- 146645.34</th>\n",
              "      <td>5</td>\n",
              "      <td>8.33</td>\n",
              "      <td>47</td>\n",
              "    </tr>\n",
              "    <tr>\n",
              "      <th>146645.34 |-- 178828.12</th>\n",
              "      <td>0</td>\n",
              "      <td>0.00</td>\n",
              "      <td>47</td>\n",
              "    </tr>\n",
              "    <tr>\n",
              "      <th>178828.12 |-- 211010.90</th>\n",
              "      <td>3</td>\n",
              "      <td>5.00</td>\n",
              "      <td>50</td>\n",
              "    </tr>\n",
              "    <tr>\n",
              "      <th>...</th>\n",
              "      <td>...</td>\n",
              "      <td>...</td>\n",
              "      <td>...</td>\n",
              "    </tr>\n",
              "    <tr>\n",
              "      <th>2109794.88 |-- 2141977.66</th>\n",
              "      <td>0</td>\n",
              "      <td>0.00</td>\n",
              "      <td>59</td>\n",
              "    </tr>\n",
              "    <tr>\n",
              "      <th>2141977.66 |-- 2174160.44</th>\n",
              "      <td>0</td>\n",
              "      <td>0.00</td>\n",
              "      <td>59</td>\n",
              "    </tr>\n",
              "    <tr>\n",
              "      <th>2174160.44 |-- 2206343.22</th>\n",
              "      <td>0</td>\n",
              "      <td>0.00</td>\n",
              "      <td>59</td>\n",
              "    </tr>\n",
              "    <tr>\n",
              "      <th>2206343.22 |-- 2238526.00</th>\n",
              "      <td>1</td>\n",
              "      <td>1.67</td>\n",
              "      <td>60</td>\n",
              "    </tr>\n",
              "    <tr>\n",
              "      <th>Total</th>\n",
              "      <td>60</td>\n",
              "      <td>100.01</td>\n",
              "      <td>-</td>\n",
              "    </tr>\n",
              "  </tbody>\n",
              "</table>\n",
              "<p>69 rows × 3 columns</p>\n",
              "</div>"
            ],
            "text/plain": [
              "                           fi   fr(%)  Fc\n",
              "População                                \n",
              "50097.00 |-- 82279.78      30   50.00  30\n",
              "82279.78 |-- 114462.56     12   20.00  42\n",
              "114462.56 |-- 146645.34     5    8.33  47\n",
              "146645.34 |-- 178828.12     0    0.00  47\n",
              "178828.12 |-- 211010.90     3    5.00  50\n",
              "...                        ..     ...  ..\n",
              "2109794.88 |-- 2141977.66   0    0.00  59\n",
              "2141977.66 |-- 2174160.44   0    0.00  59\n",
              "2174160.44 |-- 2206343.22   0    0.00  59\n",
              "2206343.22 |-- 2238526.00   1    1.67  60\n",
              "Total                      60  100.01   -\n",
              "\n",
              "[69 rows x 3 columns]"
            ]
          },
          "metadata": {
            "tags": []
          },
          "execution_count": 34
        }
      ]
    }
  ]
}