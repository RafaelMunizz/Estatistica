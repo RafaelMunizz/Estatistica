{
  "nbformat": 4,
  "nbformat_minor": 0,
  "metadata": {
    "colab": {
      "name": "DataCamp Thinking probabilistically-- Continuous variables.ipynb",
      "provenance": []
    },
    "kernelspec": {
      "name": "python3",
      "display_name": "Python 3"
    }
  },
  "cells": [
    {
      "cell_type": "code",
      "metadata": {
        "id": "5j8WMiFebA5r"
      },
      "source": [
        "import numpy as np\r\n",
        "import matplotlib.pyplot as plt\r\n",
        "import seaborn as sns"
      ],
      "execution_count": 3,
      "outputs": []
    },
    {
      "cell_type": "markdown",
      "metadata": {
        "id": "NVfL-YjJblVC"
      },
      "source": [
        "#The Normal PDF\r\n",
        "\r\n",
        "In this exercise, you will explore the Normal PDF and also learn a way to plot a PDF of a known distribution using hacker statistics. Specifically, you will plot a Normal PDF for various values of the variance."
      ]
    },
    {
      "cell_type": "markdown",
      "metadata": {
        "id": "9-GAQ81Ob2i4"
      },
      "source": [
        "####Instructions\r\n",
        "\r\n",
        "* Draw 100,000 samples from a Normal distribution that has a mean of 20 and a standard deviation of 1. Do the same for Normal distributions with standard deviations of 3 and 10, each still with a mean of 20. Assign the results to samples_std1, samples_std3 and samples_std10, respectively.\r\n",
        "\r\n",
        "* Plot a histograms of each of the samples; for each, use 100 bins, also using the keyword arguments normed=True and histtype='step'. The latter keyword argument makes the plot look much like the smooth theoretical PDF. You will need to make 3 plt.hist( ) calls.\r\n",
        "\r\n",
        "* Hit 'Submit Answer' to make a legend, showing which standard deviations you used, and show your plot! There is no need to label the axes because we have not defined what is being described by the Normal distribution; we are just looking at shapes of PDFs.\r\n"
      ]
    },
    {
      "cell_type": "code",
      "metadata": {
        "id": "f9-wm6C8cDGc"
      },
      "source": [
        "# Draw 100000 samples from Normal distribution with stds of interest: samples_std1, samples_std3, samples_std10\r\n",
        "samples_std1 = np.random.normal(20, 1, size=100000)\r\n",
        "samples_std3 = np.random.normal(20, 3, size=100000)\r\n",
        "samples_std10 = np.random.normal(20, 10, size=100000)\r\n",
        "\r\n",
        "# Make histograms\r\n",
        "_ = plt.hist(samples_std1, bins=100, density=True, histtype='step')\r\n",
        "_ = plt.hist(samples_std3, bins=100, density=True, histtype='step')\r\n",
        "_ = plt.hist(samples_std10, bins=100, density=True, histtype='step')\r\n",
        "\r\n",
        "# Make a legend, set limits and show plot\r\n",
        "_ = plt.legend(('std = 1', 'std = 3', 'std = 10'))\r\n",
        "plt.ylim(-0.01, 0.42)\r\n",
        "plt.show()"
      ],
      "execution_count": null,
      "outputs": []
    },
    {
      "cell_type": "markdown",
      "metadata": {
        "id": "WnVIjJ-ucgv4"
      },
      "source": [
        "#The Normal CDF\r\n",
        "\r\n",
        "Now that you have a feel for how the Normal PDF looks, let's consider its CDF. Using the samples you generated in the last exercise (in your namespace as samples_std1, samples_std3, and samples_std10), generate and plot the CDFs."
      ]
    },
    {
      "cell_type": "markdown",
      "metadata": {
        "id": "_4Bd5XNhcikT"
      },
      "source": [
        "####Instructions\r\n",
        "\r\n",
        "* Use your ecdf() function to generate x and y values for CDFs: x_std1, y_std1, x_std3, y_std3 and x_std10, y_std10, respectively.\r\n",
        "\r\n",
        "* Plot all three CDFs as dots (do not forget the marker and linestyle keyword arguments!).\r\n",
        "\r\n",
        "* Hit submit to make a legend, showing which standard deviations you used, and to show your plot. There is no need to label the axes because we have not defined what is being described by the Normal distribution; we are just looking at shapes of CDFs.\r\n"
      ]
    },
    {
      "cell_type": "code",
      "metadata": {
        "id": "hiRwgMBPdBAh"
      },
      "source": [
        "def ecdf(data):\r\n",
        "    \"\"\"Compute ECDF for a one-dimensional array of measurements.\"\"\"\r\n",
        "    # Number of data points: n\r\n",
        "    n = len(data)\r\n",
        "\r\n",
        "    # x-data for the ECDF: x\r\n",
        "    x = np.sort(data)\r\n",
        "\r\n",
        "    # y-data for the ECDF: y\r\n",
        "    y = np.arange(1, n + 1) / n\r\n",
        "\r\n",
        "    return x, y"
      ],
      "execution_count": 7,
      "outputs": []
    },
    {
      "cell_type": "code",
      "metadata": {
        "id": "k6fvyKqRcwvP"
      },
      "source": [
        "# Generate CDFs\r\n",
        "x_std1, y_std1 = ecdf(samples_std1)\r\n",
        "x_std3, y_std3 = ecdf(samples_std3)\r\n",
        "x_std10, y_std10 = ecdf(samples_std10)\r\n",
        "\r\n",
        "# Plot CDFs\r\n",
        "_ = plt.plot(x_std1, y_std1, marker='.', linestyle='none')\r\n",
        "_ = plt.plot(x_std3, y_std3, marker='.', linestyle='none')\r\n",
        "_ = plt.plot(x_std10, y_std10, marker='.', linestyle='none')\r\n",
        "\r\n",
        "# Make a legend and show the plot\r\n",
        "_ = plt.legend(('std = 1', 'std = 3', 'std = 10'), loc='lower right')\r\n",
        "plt.show()"
      ],
      "execution_count": null,
      "outputs": []
    },
    {
      "cell_type": "markdown",
      "metadata": {
        "id": "njPJvqNLdMAP"
      },
      "source": [
        "#Are the Belmont Stakes results Normally distributed?\r\n",
        "\r\n",
        "Since 1926, the Belmont Stakes is a 1.5 mile-long race of 3-year old thoroughbred horses. Secretariat ran the fastest Belmont Stakes in history in 1973. While that was the fastest year, 1970 was the slowest because of unusually wet and sloppy conditions. With these two outliers removed from the data set, compute the mean and standard deviation of the Belmont winners' times. Sample out of a Normal distribution with this mean and standard deviation using the np.random.normal() function and plot a CDF. Overlay the ECDF from the winning Belmont times. Are these close to Normally distributed?\r\n",
        "\r\n",
        "Note: Justin scraped the data concerning the Belmont Stakes from the Belmont Wikipedia page."
      ]
    },
    {
      "cell_type": "markdown",
      "metadata": {
        "id": "uqZzFp-hdY0R"
      },
      "source": [
        "####Instructions\r\n",
        "\r\n",
        "* Compute mean and standard deviation of Belmont winners' times with the two outliers removed. The NumPy array belmont_no_outliers has these data.\r\n",
        "\r\n",
        "* Take 10,000 samples out of a normal distribution with this mean and standard deviation using np.random.normal().\r\n",
        "\r\n",
        "* Compute the CDF of the theoretical samples and the ECDF of the Belmont winners' data, assigning the results to x_theor, y_theor and x, y, respectively.\r\n",
        "\r\n",
        "* Hit submit to plot the CDF of your samples with the ECDF, label your axes and show the plot."
      ]
    },
    {
      "cell_type": "code",
      "metadata": {
        "id": "NCtTNMOmgWlM"
      },
      "source": [
        "belmont_no_outliers = [148.51,146.65,148.52,150.7,150.42000000000002,150.88,151.57,147.54,149.65,148.74,147.86,148.75,147.5,148.26,149.71,146.56,151.19,147.88,149.16,148.82,148.96,152.02,146.82,149.97,146.13,148.1,147.2,146.0,146.4,148.2,149.8,147.0,147.2,147.8,148.2,149.0,149.8,148.6,146.8,149.6,149.0,148.2,149.2,148.0,150.4,148.8,147.2,148.8,149.6,148.4,148.4,150.2,148.8,149.2,149.2,148.4,150.2,146.6,149.8,149.0,150.8,148.6,150.2,149.0,148.6,150.2,148.2,149.4,150.8,150.2,152.2,148.2,149.2,151.0,149.6,149.6,149.4,148.6,150.0,150.6,149.2,152.6,152.8,149.6,151.6,152.8,153.2,152.4,152.2]"
      ],
      "execution_count": 10,
      "outputs": []
    },
    {
      "cell_type": "code",
      "metadata": {
        "id": "sRno_ftXeh6O"
      },
      "source": [
        "# Compute mean and standard deviation: mu, sigma\r\n",
        "mu = np.mean(belmont_no_outliers)\r\n",
        "sigma = np.std(belmont_no_outliers)\r\n",
        "\r\n",
        "# Sample out of a normal distribution with this mu and sigma: samples\r\n",
        "samples = np.random.normal(mu, sigma, size=10000)\r\n",
        "\r\n",
        "# Get the CDF of the samples and of the data\r\n",
        "x_theor, y_theor = ecdf(samples)\r\n",
        "x, y = ecdf(belmont_no_outliers)\r\n",
        "\r\n",
        "# Plot the CDFs and show the plot\r\n",
        "_ = plt.plot(x_theor, y_theor)\r\n",
        "_ = plt.plot(x, y, marker='.', linestyle='none')\r\n",
        "_ = plt.xlabel('Belmont winning time (sec.)')\r\n",
        "_ = plt.ylabel('CDF')\r\n",
        "plt.show()"
      ],
      "execution_count": null,
      "outputs": []
    },
    {
      "cell_type": "markdown",
      "metadata": {
        "id": "FN7xNkQShTQn"
      },
      "source": [
        "#What are the chances of a horse matching or beating Secretariat's record?\r\n",
        "\r\n",
        "Assume that the Belmont winners' times are Normally distributed (with the 1970 and 1973 years removed), what is the probability that the winner of a given Belmont Stakes will run it as fast or faster than Secretariat?"
      ]
    },
    {
      "cell_type": "markdown",
      "metadata": {
        "id": "dUBRk-G_hWiF"
      },
      "source": [
        "####Instructions\r\n",
        "\r\n",
        "* Take 1,000,000 samples from the normal distribution using the np.random.normal() function. The mean mu and standard deviation sigma are already loaded into the namespace of your IPython instance.\r\n",
        "\r\n",
        "* Compute the fraction of samples that have a time less than or equal to Secretariat's time of 144 seconds.\r\n",
        "\r\n",
        "* Print the result."
      ]
    },
    {
      "cell_type": "code",
      "metadata": {
        "colab": {
          "base_uri": "https://localhost:8080/"
        },
        "id": "-DvNkM0Fhfqi",
        "outputId": "968bbdb5-e9c7-4f75-ca06-001346144de2"
      },
      "source": [
        "# Take a million samples out of the Normal distribution: samples\r\n",
        "samples = np.random.normal(mu, sigma, size=1000000)\r\n",
        "\r\n",
        "# Compute the fraction that are faster than 144 seconds: prob\r\n",
        "prob = np.sum(samples <= 144) / len(samples)\r\n",
        "\r\n",
        "# Print the result\r\n",
        "print('Probability of besting Secretariat:', prob)"
      ],
      "execution_count": 12,
      "outputs": [
        {
          "output_type": "stream",
          "text": [
            "Probability of besting Secretariat: 0.000627\n"
          ],
          "name": "stdout"
        }
      ]
    },
    {
      "cell_type": "markdown",
      "metadata": {
        "id": "MUNS3LJxht5X"
      },
      "source": [
        "#If you have a story, you can simulate it!\r\n",
        "\r\n",
        "Sometimes, the story describing our probability distribution does not have a named distribution to go along with it. In these cases, fear not! You can always simulate it. We'll do that in this and the next exercise.\r\n",
        "\r\n",
        "In earlier exercises, we looked at the rare event of no-hitters in Major League Baseball. Hitting the cycle is another rare baseball event. When a batter hits the cycle, he gets all four kinds of hits, a single, double, triple, and home run, in a single game. Like no-hitters, this can be modeled as a Poisson process, so the time between hits of the cycle are also Exponentially distributed.\r\n",
        "\r\n",
        "How long must we wait to see both a no-hitter and then a batter hit the cycle? The idea is that we have to wait some time for the no-hitter, and then after the no-hitter, we have to wait for hitting the cycle. Stated another way, what is the total waiting time for the arrival of two different Poisson processes? The total waiting time is the time waited for the no-hitter, plus the time waited for the hitting the cycle.\r\n",
        "\r\n",
        "Now, you will write a function to sample out of the distribution described by this story."
      ]
    },
    {
      "cell_type": "markdown",
      "metadata": {
        "id": "HkDKnXlXhyEt"
      },
      "source": [
        "####Instructions\r\n",
        "\r\n",
        "Define a function with call signature successive_poisson(tau1, tau2, size=1) that samples the waiting time for a no-hitter and a hit of the cycle.\r\n",
        "\r\n",
        "* Draw waiting times tau1 (size number of samples) for the no-hitter out of an exponential distribution and assign to t1.\r\n",
        "\r\n",
        "* Draw waiting times tau2 (size number of samples) for hitting the cycle out of an exponential distribution and assign to t2.\r\n",
        "\r\n",
        "* The function returns the sum of the waiting times for the two events."
      ]
    },
    {
      "cell_type": "code",
      "metadata": {
        "id": "Kog2UDd9iC3V"
      },
      "source": [
        "def successive_poisson(tau1, tau2, size=1):\r\n",
        "    \"\"\"Compute time for arrival of 2 successive Poisson processes.\"\"\"\r\n",
        "    # Draw samples out of first exponential distribution: t1\r\n",
        "    t1 = np.random.exponential(tau1, size=size)\r\n",
        "\r\n",
        "    # Draw samples out of second exponential distribution: t2\r\n",
        "    t2 = np.random.exponential(tau2, size=size)\r\n",
        "\r\n",
        "    return t1 + t2"
      ],
      "execution_count": 13,
      "outputs": []
    },
    {
      "cell_type": "markdown",
      "metadata": {
        "id": "SGXCrpwYiLDj"
      },
      "source": [
        "#Distribution of no-hitters and cycles\r\n",
        "\r\n",
        "Now, you'll use your sampling function to compute the waiting time to observe a no-hitter and hitting of the cycle. The mean waiting time for a no-hitter is 764 games, and the mean waiting time for hitting the cycle is 715 games."
      ]
    },
    {
      "cell_type": "markdown",
      "metadata": {
        "id": "VS6ceVLNiNuM"
      },
      "source": [
        "####Instructions\r\n",
        "\r\n",
        "* Use your successive_poisson() function to draw 100,000 out of the distribution of waiting times for observing a no-hitter and a hitting of the cycle.\r\n",
        "\r\n",
        "* Plot the PDF of the waiting times using the step histogram technique of a previous exercise. Don't forget the necessary keyword arguments. You should use bins=100, normed=True, and histtype='step'.\r\n",
        "\r\n",
        "* Label the axes.\r\n",
        "\r\n",
        "* Show your plot."
      ]
    },
    {
      "cell_type": "code",
      "metadata": {
        "id": "QO0-WdX5iXYT"
      },
      "source": [
        "# Draw samples of waiting times\r\n",
        "waiting_times = successive_poisson(764, 715, size=100000)\r\n",
        "\r\n",
        "# Make the histogram\r\n",
        "_ = plt.hist(waiting_times, bins=100, histtype='step',\r\n",
        "             density=True)\r\n",
        "\r\n",
        "# Label axes\r\n",
        "_ = plt.xlabel('total waiting time (games)')\r\n",
        "_ = plt.ylabel('PDF')\r\n",
        "\r\n",
        "# Show the plot\r\n",
        "plt.show()"
      ],
      "execution_count": null,
      "outputs": []
    }
  ]
}