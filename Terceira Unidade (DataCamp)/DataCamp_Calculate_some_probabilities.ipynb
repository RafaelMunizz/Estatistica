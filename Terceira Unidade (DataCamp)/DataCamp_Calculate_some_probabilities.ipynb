{
  "nbformat": 4,
  "nbformat_minor": 0,
  "metadata": {
    "colab": {
      "name": "DataCamp - Calculate some probabilities.ipynb",
      "provenance": [],
      "collapsed_sections": []
    },
    "kernelspec": {
      "name": "python3",
      "display_name": "Python 3"
    }
  },
  "cells": [
    {
      "cell_type": "code",
      "metadata": {
        "id": "dK0Qajetq7rc"
      },
      "source": [
        "from scipy.stats import binom\n",
        "from scipy.stats import find_repeats\n",
        "from scipy.stats import relfreq"
      ],
      "execution_count": 25,
      "outputs": []
    },
    {
      "cell_type": "markdown",
      "metadata": {
        "id": "XWz6RPCJqXcq"
      },
      "source": [
        "#Measuring a sample\n",
        "\n",
        "Let's work with a sample of coin flips to calculate some probabilities. You will calculate absolute and relative frequency and check the theoretical value from the distribution of the sample data.\n",
        "\n",
        "The array sample_of_two_coin_flips has 1,000 experiments, each consisting of two fair coin flips. For each experiment, we record the number of heads out of the two coin flips: 0, 1, or 2.\n",
        "\n",
        "We've preloaded the binom object and the find_repeats() and relfreq() methods from the scipy.stats library for you. You'll need these to calculate the probabilities in this exercise."
      ]
    },
    {
      "cell_type": "markdown",
      "metadata": {
        "id": "vu10DsMSqmZK"
      },
      "source": [
        "Instructions "
      ]
    },
    {
      "cell_type": "markdown",
      "metadata": {
        "id": "7Zt7pfqHqgvC"
      },
      "source": [
        "1\n",
        "From the provided samples in sample_of_two_coin_flips, get the probability of having 2 heads out of the 1,000 trials."
      ]
    },
    {
      "cell_type": "code",
      "metadata": {
        "id": "q_zW6xpKrNYF"
      },
      "source": [
        "sample_of_two_coin_flips = [1, 2, 1, 1, 0, 0, 0, 2, 1, 1, 0, 2, 2, 0, 0, 0, 1, 1, 1, 1, 1, 0, 1, 1, 1, 2, 0, 1, 1, 0, 1, 0, 0, 2, 2, 2, 1, 0, 1, 1, 0, 1, 0, 2, 1, 1, 1, 1, 1, 0, 2, 2, 2, 2, 1, 2, 0, 0, 0, 1, 1, 1, 2, 1, 1, 1, 0, 2, 0, 2, 2, 0, 0, 2, 1, 1, 2, 0, 1, 0, 2, 1, 1, 0, 1, 1, 1, 1, 2, 1, 0, 1, 2, 1, 2, 1, 1, 1, 0, 0, 0, 1, 1, 1, 2, 0, 1, 2, 0, 0, 1, 0, 2, 2, 1, 2, 2, 0, 2, 1, 2, 2, 1, 0, 0, 1, 2, 2, 0, 1, 1, 0, 0, 1, 2, 1, 1, 1, 1, 2, 2, 1, 1, 1, 1, 0, 1, 1, 0, 1, 2, 0, 0, 1, 2, 0, 1, 2, 0, 1, 1, 1, 1, 1, 0, 2, 1, 0, 0, 1, 1, 0, 1, 0, 1, 0, 1, 1, 2, 0, 1, 0, 2, 2, 1, 1, 2, 1, 1, 0, 0, 2, 2, 1, 1, 1, 1, 2, 2, 2, 1, 0, 0, 2, 1, 0, 0, 1, 0, 0, 1, 1, 1, 0, 1, 0, 1, 1, 1, 2, 1, 1, 0, 1, 1, 0, 2, 1, 2, 1, 2, 1, 1, 1, 0, 1, 1, 0, 1, 0, 2, 2, 2, 1, 0, 2, 1, 2, 2, 2, 1, 1, 2, 1, 0, 1, 2, 1, 1, 0, 1, 2, 0, 1, 2, 1, 1, 1, 1, 1, 2, 2, 2, 2, 1, 1, 2, 1, 1, 2, 2, 1, 1, 0, 1, 0, 1, 1, 1, 1, 0, 0, 2, 1, 0, 1, 2, 0, 1, 0, 0, 1, 1, 1, 1, 2, 1, 1, 2, 1, 1, 0, 0, 2, 2, 1, 1, 0, 0, 1, 1, 1, 1, 1, 2, 1, 1, 1, 1, 0, 1, 2, 0, 0, 0, 0, 2, 1, 1, 0, 1, 1, 0, 1, 1, 1, 1, 0, 1, 1, 1, 2, 1, 0, 0, 1, 0, 1, 2, 1, 1, 1, 1, 1, 2, 1, 2, 2, 0, 0, 0, 0, 0, 1, 0, 1, 2, 0, 2, 1, 0, 1, 1, 2, 1, 2, 1, 0, 2, 2, 2, 1, 1, 2, 1, 2, 2, 1, 2, 2, 0, 2, 1, 2, 1, 2, 1, 0, 2, 0, 1, 2, 2, 1, 1, 1, 1, 1, 1, 2, 2, 2, 0, 1, 0, 1, 1, 2, 1, 0, 0, 2, 1, 0, 0, 1, 0, 2, 1, 0, 0, 2, 1, 1, 2, 2, 2, 2, 1, 0, 2, 1, 1, 2, 0, 1, 0, 1, 0, 0, 0, 1, 1, 1, 2, 1, 1, 2, 0, 2, 0, 2, 0, 2, 1, 2, 0, 1, 2, 1, 1, 1, 1, 1, 1, 2, 0, 1, 2, 2, 1, 1, 1, 0, 1, 1, 1, 0, 2, 2, 1, 1, 1, 2, 1, 0, 2, 2, 2, 1, 1, 1, 2, 2, 0, 0, 1, 2, 2, 0, 1, 1, 2, 2, 2, 1, 1, 1, 0, 2, 2, 2, 2, 1, 2, 2, 2, 0, 1, 0, 2, 1, 0, 1, 1, 1, 0, 1, 1, 2, 1, 2, 1, 1, 2, 1, 0, 0, 2, 1, 1, 0, 0, 0, 1, 1, 1, 1, 2, 1, 1, 2, 1, 1, 2, 2, 0, 2, 1, 1, 1, 2, 1, 1, 1, 0, 0, 0, 0, 0, 0, 1, 0, 1, 2, 1, 1, 0, 0, 0, 0, 1, 0, 0, 0, 1, 0, 1, 1, 1, 0, 2, 1, 0, 2, 2, 0, 1, 2, 1, 0, 0, 1, 1, 1, 1, 1, 1, 0, 1, 1, 2, 1, 1, 0, 1, 1, 0, 1, 1, 0, 1, 0, 1, 0, 2, 1, 1, 2, 1, 0, 1, 1, 1, 1, 0, 1, 1, 1, 1, 1, 2, 1, 0, 0, 0, 0, 0, 0, 1, 0, 2, 0, 1, 1, 2, 0, 1, 2, 2, 2, 1, 0, 1, 2, 1, 1, 1, 2, 0, 1, 1, 1, 0, 0, 1, 1, 1, 0, 1, 1, 0, 1, 0, 0, 2, 1, 2, 1, 1, 2, 1, 1, 1, 1, 2, 2, 2, 0, 1, 2, 0, 0, 1, 1, 2, 0, 2, 0, 0, 0, 2, 1, 1, 1, 2, 1, 2, 1, 1, 1, 1, 1, 1, 0, 2, 1, 1, 2, 1, 0, 2, 1, 1, 0, 2, 1, 1, 2, 2, 0, 1, 0, 1, 0, 1, 2, 2, 1, 2, 0, 2, 0, 1, 2, 0, 0, 1, 1, 1, 1, 1, 1, 1, 0, 2, 1, 1, 1, 2, 0, 1, 1, 1, 0, 2, 2, 1, 1, 2, 1, 0, 1, 1, 1, 1, 2, 2, 1, 0, 2, 2, 0, 2, 2, 1, 1, 1, 0, 1, 2, 0, 1, 1, 1, 2, 1, 1, 1, 1, 0, 1, 0, 0, 1, 1, 2, 1, 1, 1, 0, 1, 0, 2, 0, 1, 0, 2, 1, 1, 0, 1, 0, 2, 0, 0, 0, 1, 1, 0, 2, 1, 1, 1, 1, 1, 0, 0, 2, 2, 1, 1, 1, 1, 0, 0, 1, 1, 0, 0, 0, 1, 0, 0, 2, 0, 1, 0, 0, 0, 1, 2, 2, 1, 1, 0, 1, 2, 0, 0, 0, 0, 0, 1, 1, 2, 2, 1, 1, 1, 1, 1, 1, 1, 1, 1, 1, 2, 2, 0, 2, 1, 2, 2, 1, 0, 1, 1, 1, 1, 0, 2, 2, 1, 0, 1, 0, 2, 0, 1, 1, 1, 1, 2, 0, 0, 0, 2, 2, 1, 1, 1, 0, 2, 1, 1, 1, 0, 0, 1, 0, 1, 0, 1, 1, 1, 1, 1, 1, 1, 1, 2, 1, 0, 0, 1, 1, 0, 1, 1, 1, 2, 0, 0, 1, 1, 1, 1, 0, 2, 2, 1, 1, 1, 1, 0, 2, 0, 2, 1]"
      ],
      "execution_count": 26,
      "outputs": []
    },
    {
      "cell_type": "code",
      "metadata": {
        "colab": {
          "base_uri": "https://localhost:8080/"
        },
        "id": "GgyroPEx-7j9",
        "outputId": "71d96cac-9610-478e-b82b-9e0d2b34c147"
      },
      "source": [
        "# Count how many times you got 2 heads from the sample data\n",
        "count_2_heads = find_repeats(sample_of_two_coin_flips).counts[2]\n",
        "\n",
        "# Divide the number of heads by the total number of draws\n",
        "prob_2_heads = count_2_heads / 1000\n",
        "\n",
        "# Display the result\n",
        "print(prob_2_heads)"
      ],
      "execution_count": 27,
      "outputs": [
        {
          "output_type": "stream",
          "text": [
            "0.243\n"
          ],
          "name": "stdout"
        }
      ]
    },
    {
      "cell_type": "markdown",
      "metadata": {
        "id": "IQuBY7NmtbNa"
      },
      "source": [
        "2\n",
        "Calculate the relative frequency from sample_of_two_coin_flips, set numbins as 3, and extract frequency."
      ]
    },
    {
      "cell_type": "code",
      "metadata": {
        "colab": {
          "base_uri": "https://localhost:8080/"
        },
        "id": "wMv0cx3dtjnI",
        "outputId": "ffab4d38-05c7-4f5b-8416-0b2db123f0a5"
      },
      "source": [
        "# Get the relative frequency from sample_of_two_coin_flips\n",
        "# Set numbins as 3\n",
        "# Extract frequency\n",
        "rel_freq = relfreq(sample_of_two_coin_flips, numbins=3).frequency\n",
        "print(rel_freq)"
      ],
      "execution_count": 28,
      "outputs": [
        {
          "output_type": "stream",
          "text": [
            "[0.269 0.488 0.243]\n"
          ],
          "name": "stdout"
        }
      ]
    },
    {
      "cell_type": "markdown",
      "metadata": {
        "id": "A4dNvJ--uT8E"
      },
      "source": [
        "3\n",
        "Calculate the probability of getting 0, 1, or 2 from a binomial distribution with n=2 and p=0.5."
      ]
    },
    {
      "cell_type": "code",
      "metadata": {
        "colab": {
          "base_uri": "https://localhost:8080/"
        },
        "id": "SijNgApyuVY_",
        "outputId": "3422a7f9-81e5-40f9-f37d-3ddbbd90f893"
      },
      "source": [
        "# Probability of getting 0, 1, or 2 from the distribution\n",
        "probabilities = binom.pmf([0, 1, 2], n=2, p=0.5)\n",
        "print(probabilities)"
      ],
      "execution_count": 29,
      "outputs": [
        {
          "output_type": "stream",
          "text": [
            "[0.25 0.5  0.25]\n"
          ],
          "name": "stdout"
        }
      ]
    },
    {
      "cell_type": "markdown",
      "metadata": {
        "id": "EqWvSPq1vZw3"
      },
      "source": [
        "#Joint probabilities"
      ]
    },
    {
      "cell_type": "markdown",
      "metadata": {
        "id": "8axEjCfjvTr7"
      },
      "source": [
        "\n",
        "In this exercise we're going to calculate joint probabilities using the following table:\n",
        "\n",
        "Joint probability table\n",
        "\n",
        "Take the values from the table, create variables, and calculate the probability of the event in each step."
      ]
    },
    {
      "cell_type": "markdown",
      "metadata": {
        "id": "33e6qA-yy3a3"
      },
      "source": [
        "Instructions"
      ]
    },
    {
      "cell_type": "markdown",
      "metadata": {
        "id": "LgxQUpslzFWP"
      },
      "source": [
        "1\n",
        "Calculate the probability that the engine and gear box both work."
      ]
    },
    {
      "cell_type": "code",
      "metadata": {
        "id": "XDJX8HL8yXUZ",
        "colab": {
          "base_uri": "https://localhost:8080/"
        },
        "outputId": "e4da920f-bd61-410d-b54a-3fb8173af418"
      },
      "source": [
        "# Individual probabilities\n",
        "P_Eng_works = 0.99\n",
        "P_GearB_works = 0.995\n",
        "\n",
        "# Joint probability calculation\n",
        "P_both_works = P_Eng_works * P_GearB_works\n",
        "\n",
        "print(P_both_works)"
      ],
      "execution_count": 30,
      "outputs": [
        {
          "output_type": "stream",
          "text": [
            "0.98505\n"
          ],
          "name": "stdout"
        }
      ]
    },
    {
      "cell_type": "markdown",
      "metadata": {
        "id": "iCBuBsfNy_Jp"
      },
      "source": [
        "2\n",
        "Calculate the probability that one fails -- either engine or gear box -- but not both."
      ]
    },
    {
      "cell_type": "code",
      "metadata": {
        "colab": {
          "base_uri": "https://localhost:8080/"
        },
        "id": "905mS1BizW_-",
        "outputId": "2ab5afdb-7299-4d28-a72d-51e0e9645a1e"
      },
      "source": [
        "# Individual probabilities\n",
        "P_Eng_fails = 0.01\n",
        "P_Eng_works = 0.99\n",
        "P_GearB_fails = 0.005\n",
        "P_GearB_works = 0.995\n",
        "\n",
        "# Joint probability calculation\n",
        "P_only_GearB_fails = P_GearB_fails * P_Eng_works\n",
        "P_only_Eng_fails = P_Eng_fails * P_GearB_works\n",
        "\n",
        "# Calculate result\n",
        "P_one_fails = P_only_GearB_fails + P_only_Eng_fails\n",
        "\n",
        "print(P_one_fails)"
      ],
      "execution_count": 31,
      "outputs": [
        {
          "output_type": "stream",
          "text": [
            "0.0149\n"
          ],
          "name": "stdout"
        }
      ]
    },
    {
      "cell_type": "markdown",
      "metadata": {
        "id": "Ih3KC3lQy8xX"
      },
      "source": [
        "3\n",
        "What is the probability that either both work or both fail?"
      ]
    },
    {
      "cell_type": "code",
      "metadata": {
        "id": "EybRWJROzXft",
        "colab": {
          "base_uri": "https://localhost:8080/"
        },
        "outputId": "93db4615-4809-4226-f535-37524e364dcd"
      },
      "source": [
        "# Individual probabilities\n",
        "P_Eng_fails = 0.01\n",
        "P_Eng_works = 0.99\n",
        "P_GearB_fails = 0.005\n",
        "P_GearB_works = 0.995\n",
        "\n",
        "# Joint probability calculation\n",
        "P_EngW_GearBW = P_Eng_works * P_GearB_works\n",
        "P_EngF_GearBF = P_Eng_fails * P_GearB_fails\n",
        "\n",
        "# Calculate result\n",
        "P_fails_or_works = P_EngW_GearBW + P_EngF_GearBF\n",
        "\n",
        "print(P_fails_or_works)"
      ],
      "execution_count": 32,
      "outputs": [
        {
          "output_type": "stream",
          "text": [
            "0.9851\n"
          ],
          "name": "stdout"
        }
      ]
    },
    {
      "cell_type": "markdown",
      "metadata": {
        "id": "V9F84bxLFQ8w"
      },
      "source": [
        "#Deck of cards"
      ]
    },
    {
      "cell_type": "markdown",
      "metadata": {
        "id": "uhx8QuHGE4l9"
      },
      "source": [
        "\n",
        "In this exercise, you'll use the following deck of cards to calculate some probabilities in each step:\n",
        "\n",
        "Deck of cards"
      ]
    },
    {
      "cell_type": "markdown",
      "metadata": {
        "id": "lV6vs9z4E4g8"
      },
      "source": [
        "Instructions"
      ]
    },
    {
      "cell_type": "markdown",
      "metadata": {
        "id": "hIK11c6XEzsj"
      },
      "source": [
        "1\n",
        "Calculate the probability of not getting an Ace."
      ]
    },
    {
      "cell_type": "code",
      "metadata": {
        "id": "ycjVmVJDFXBo",
        "colab": {
          "base_uri": "https://localhost:8080/"
        },
        "outputId": "37d2965d-0ae7-4c64-da6b-122a827f185d"
      },
      "source": [
        "# Ace probability\n",
        "P_Ace = 4/52\n",
        "\n",
        "# Not Ace probability\n",
        "P_not_Ace = 1 - P_Ace\n",
        "\n",
        "print(P_not_Ace)"
      ],
      "execution_count": 33,
      "outputs": [
        {
          "output_type": "stream",
          "text": [
            "0.9230769230769231\n"
          ],
          "name": "stdout"
        }
      ]
    },
    {
      "cell_type": "markdown",
      "metadata": {
        "id": "w4wFonirEzii"
      },
      "source": [
        "2\n",
        "Calculate the probability of getting a red card.\n",
        "\n"
      ]
    },
    {
      "cell_type": "code",
      "metadata": {
        "id": "p1NLDZFIFYJC",
        "colab": {
          "base_uri": "https://localhost:8080/"
        },
        "outputId": "68f4ef5e-f180-4ece-d423-cd517ca837ba"
      },
      "source": [
        "# Figure probabilities\n",
        "P_Hearts = 13/52\n",
        "P_Diamonds = 13/52\n",
        "\n",
        "# Probability of red calculation\n",
        "P_Red = P_Hearts + P_Diamonds\n",
        "\n",
        "print(P_Red)"
      ],
      "execution_count": 34,
      "outputs": [
        {
          "output_type": "stream",
          "text": [
            "0.5\n"
          ],
          "name": "stdout"
        }
      ]
    },
    {
      "cell_type": "markdown",
      "metadata": {
        "id": "dxhkiXMGEzZS"
      },
      "source": [
        "3\n",
        "Calculate the probability of getting a Jack or a spade.\n",
        "\n"
      ]
    },
    {
      "cell_type": "code",
      "metadata": {
        "id": "jWa1MgX6FYmM",
        "colab": {
          "base_uri": "https://localhost:8080/"
        },
        "outputId": "e5159aed-aa2c-4896-bf8d-6da5f331d201"
      },
      "source": [
        "# Figure probabilities\n",
        "P_Jack = 4/52\n",
        "P_Spade = 13/52\n",
        "\n",
        "# Joint probability\n",
        "P_Jack_n_Spade = 1/52\n",
        "\n",
        "# Probability of Jack or spade\n",
        "P_Jack_or_Spade = P_Jack + P_Spade - P_Jack_n_Spade\n",
        "\n",
        "print(P_Jack_or_Spade)"
      ],
      "execution_count": 35,
      "outputs": [
        {
          "output_type": "stream",
          "text": [
            "0.3076923076923077\n"
          ],
          "name": "stdout"
        }
      ]
    },
    {
      "cell_type": "markdown",
      "metadata": {
        "id": "NiKynvtpEy0n"
      },
      "source": [
        "4\n",
        "Calculate the probability of getting a King or a Queen."
      ]
    },
    {
      "cell_type": "code",
      "metadata": {
        "id": "QSh9zTcUFZGg",
        "colab": {
          "base_uri": "https://localhost:8080/"
        },
        "outputId": "1384cfc9-a6ca-43d9-8871-191ad87b6cfb"
      },
      "source": [
        "# Figure probabilities\n",
        "P_King = 4/52\n",
        "P_Queen = 4/52\n",
        "\n",
        "# Joint probability\n",
        "P_King_n_Queen = 0\n",
        "\n",
        "# Probability of King or Queen\n",
        "P_King_or_Queen = P_King + P_Queen - P_King_n_Queen\n",
        "\n",
        "print(P_King_or_Queen)"
      ],
      "execution_count": 36,
      "outputs": [
        {
          "output_type": "stream",
          "text": [
            "0.15384615384615385\n"
          ],
          "name": "stdout"
        }
      ]
    },
    {
      "cell_type": "markdown",
      "metadata": {
        "id": "YxL92en6Jd-L"
      },
      "source": [
        "#Delayed flights"
      ]
    },
    {
      "cell_type": "markdown",
      "metadata": {
        "id": "Mg4OWFkcJgrc"
      },
      "source": [
        "A certain airline offers flights departing to New York on Tuesdays and Fridays, but sometimes the flights are delayed:\n",
        "\n",
        "Delayed\tOn time\tTotal\n",
        "Tuesday\t24\t114\t138\n",
        "Friday\t11\t127\t138\n",
        "Total\t35\t241\t276\n",
        "At the bottom of the Delayed column you have a total of 35, which means there were 35 delayed flights out of the total of 276 departures in the sample. Of these, 24 were on Tuesday and 11 on Friday.\n",
        "\n",
        "Given the table, answer the following questions:"
      ]
    },
    {
      "cell_type": "markdown",
      "metadata": {
        "id": "QplTdyfJJnwO"
      },
      "source": [
        "1\n",
        "What is the probability of a flight being on time?"
      ]
    },
    {
      "cell_type": "code",
      "metadata": {
        "colab": {
          "base_uri": "https://localhost:8080/"
        },
        "id": "we0QhNqrJ4_Z",
        "outputId": "98430207-f5f4-4aa2-9310-a89d89bc9e47"
      },
      "source": [
        "# Needed quantities\n",
        "On_time = 241\n",
        "Total_departures = 276\n",
        "\n",
        "# Probability calculation\n",
        "P_On_time = On_time / Total_departures\n",
        "\n",
        "print(P_On_time)"
      ],
      "execution_count": 37,
      "outputs": [
        {
          "output_type": "stream",
          "text": [
            "0.8731884057971014\n"
          ],
          "name": "stdout"
        }
      ]
    },
    {
      "cell_type": "markdown",
      "metadata": {
        "id": "5zyHu_f8Ju7e"
      },
      "source": [
        "2\n",
        "Every departure is on time with probability P_On_time. What is the probability of a flight being delayed?"
      ]
    },
    {
      "cell_type": "code",
      "metadata": {
        "colab": {
          "base_uri": "https://localhost:8080/"
        },
        "id": "0-KP_QHjJ5jM",
        "outputId": "51884f8a-7b0e-492b-c9fa-598ede351104"
      },
      "source": [
        "# Needed quantities\n",
        "P_On_time = 241 / 276\n",
        "\n",
        "# Probability calculation\n",
        "P_Delayed = 1 - P_On_time\n",
        "\n",
        "print(P_Delayed)\n"
      ],
      "execution_count": 38,
      "outputs": [
        {
          "output_type": "stream",
          "text": [
            "0.12681159420289856\n"
          ],
          "name": "stdout"
        }
      ]
    },
    {
      "cell_type": "markdown",
      "metadata": {
        "id": "iBRTHmeoJxqq"
      },
      "source": [
        "\n",
        "3\n",
        "Given that it's Tuesday, what is the probability of a flight being delayed (P(Delayed|Tuesday))?"
      ]
    },
    {
      "cell_type": "code",
      "metadata": {
        "colab": {
          "base_uri": "https://localhost:8080/"
        },
        "id": "JXY_OWaIJ6CE",
        "outputId": "3a9ba57b-ba44-41b7-aae8-77237670f82a"
      },
      "source": [
        "# Needed quantities\n",
        "Delayed_on_Tuesday = 24\n",
        "On_Tuesday = 138\n",
        "\n",
        "# Probability calculation\n",
        "P_Delayed_g_Tuesday = Delayed_on_Tuesday / On_Tuesday\n",
        "\n",
        "print(P_Delayed_g_Tuesday)"
      ],
      "execution_count": 39,
      "outputs": [
        {
          "output_type": "stream",
          "text": [
            "0.17391304347826086\n"
          ],
          "name": "stdout"
        }
      ]
    },
    {
      "cell_type": "markdown",
      "metadata": {
        "id": "Cd_-IyRcJ1I-"
      },
      "source": [
        "4\n",
        "Given that it's Friday, what is the probability of a flight being delayed (P(Delayed|Friday))?"
      ]
    },
    {
      "cell_type": "code",
      "metadata": {
        "colab": {
          "base_uri": "https://localhost:8080/"
        },
        "id": "tnaT3mXBJ6n3",
        "outputId": "fa622403-2649-463f-95ec-d733cc5c2c88"
      },
      "source": [
        "# Needed quantities\n",
        "Delayed_on_Friday = 11\n",
        "On_Friday = 138\n",
        "\n",
        "# Probability calculation\n",
        "P_Delayed_g_Friday = Delayed_on_Friday / On_Friday\n",
        "\n",
        "print(P_Delayed_g_Friday)"
      ],
      "execution_count": 40,
      "outputs": [
        {
          "output_type": "stream",
          "text": [
            "0.07971014492753623\n"
          ],
          "name": "stdout"
        }
      ]
    },
    {
      "cell_type": "markdown",
      "metadata": {
        "id": "MgDXL_FCKZn7"
      },
      "source": [
        "#Contingency table"
      ]
    },
    {
      "cell_type": "markdown",
      "metadata": {
        "id": "hYj8GDiGKltK"
      },
      "source": [
        "The following table shows the numbers of red and black cards in a deck that are Aces and non-Aces:\n",
        "\n",
        "              Red   Black  Total\n",
        "\n",
        "    Ace\t    2\t  2\t 4\n",
        "\n",
        "    Non Ace\t24\t24\t48\n",
        "\n",
        "    Total  \t26\t26\t52\n",
        "\n",
        "The total in the Red column is 26, which means there are 26 red cards in the deck. Of these, 2 are Aces and 24 are non-Aces. There are 52 cards in a deck. Use the values in the table to calculate some conditional probabilities."
      ]
    },
    {
      "cell_type": "markdown",
      "metadata": {
        "id": "4MgYX_AmLgQc"
      },
      "source": [
        "\n",
        "1\n",
        "Calculate P(Ace|Red)"
      ]
    },
    {
      "cell_type": "code",
      "metadata": {
        "colab": {
          "base_uri": "https://localhost:8080/"
        },
        "id": "KWMIAcmMLhl6",
        "outputId": "f9a48f00-eb87-43c4-d246-491345e79070"
      },
      "source": [
        "# Individual probabilities\n",
        "P_Red = 26/52\n",
        "P_Red_n_Ace = 2/52\n",
        "\n",
        "# Conditional probability calculation\n",
        "P_Ace_given_Red = P_Red_n_Ace / P_Red\n",
        "\n",
        "print(P_Ace_given_Red)"
      ],
      "execution_count": 41,
      "outputs": [
        {
          "output_type": "stream",
          "text": [
            "0.07692307692307693\n"
          ],
          "name": "stdout"
        }
      ]
    },
    {
      "cell_type": "markdown",
      "metadata": {
        "id": "pIGmEPQTLiNk"
      },
      "source": [
        "\n",
        "2\n",
        "Calculate P(Black|Ace)."
      ]
    },
    {
      "cell_type": "code",
      "metadata": {
        "colab": {
          "base_uri": "https://localhost:8080/"
        },
        "id": "fcfXH4W-LipR",
        "outputId": "eb66a80d-0500-439b-cd5b-286d0c11badb"
      },
      "source": [
        "# Individual probabilities\n",
        "P_Ace = 4/52\n",
        "P_Ace_n_Black = 2/52\n",
        "\n",
        "# Conditional probability calculation\n",
        "P_Black_given_Ace = P_Ace_n_Black / P_Ace\n",
        "\n",
        "print(P_Black_given_Ace)"
      ],
      "execution_count": 42,
      "outputs": [
        {
          "output_type": "stream",
          "text": [
            "0.5\n"
          ],
          "name": "stdout"
        }
      ]
    },
    {
      "cell_type": "markdown",
      "metadata": {
        "id": "2UPpkLJZLj1m"
      },
      "source": [
        "3\n",
        "Calculate P(Non Ace|Black)."
      ]
    },
    {
      "cell_type": "code",
      "metadata": {
        "colab": {
          "base_uri": "https://localhost:8080/"
        },
        "id": "WkJcSqe4LkV7",
        "outputId": "1baba511-1625-47cc-f01d-90708f23cfa6"
      },
      "source": [
        "# Individual probabilities\n",
        "P_Black = 26/52\n",
        "P_Black_n_Non_ace = 24/52\n",
        "\n",
        "# Conditional probability calculation\n",
        "P_Non_ace_given_Black = P_Black_n_Non_ace / P_Black\n",
        "\n",
        "print(P_Non_ace_given_Black)"
      ],
      "execution_count": 43,
      "outputs": [
        {
          "output_type": "stream",
          "text": [
            "0.9230769230769231\n"
          ],
          "name": "stdout"
        }
      ]
    },
    {
      "cell_type": "markdown",
      "metadata": {
        "id": "zKK0RiuMLlTf"
      },
      "source": [
        "4\n",
        "Calculate P(Red|Non Ace)."
      ]
    },
    {
      "cell_type": "code",
      "metadata": {
        "colab": {
          "base_uri": "https://localhost:8080/"
        },
        "id": "e4AZBTdsLl0d",
        "outputId": "4d585ff0-a14d-49d8-99bd-cb04db6e893d"
      },
      "source": [
        "# Individual probabilities\n",
        "P_Non_ace = 48/52\n",
        "P_Non_ace_n_Red = 24/52\n",
        "\n",
        "# Conditional probability calculation\n",
        "P_Red_given_Non_ace = P_Non_ace_n_Red / P_Non_ace\n",
        "\n",
        "print(P_Red_given_Non_ace)"
      ],
      "execution_count": 44,
      "outputs": [
        {
          "output_type": "stream",
          "text": [
            "0.5\n"
          ],
          "name": "stdout"
        }
      ]
    },
    {
      "cell_type": "markdown",
      "metadata": {
        "id": "2BSEPvUbMmDo"
      },
      "source": [
        "#More cards"
      ]
    },
    {
      "cell_type": "markdown",
      "metadata": {
        "id": "1hegGE16MqaM"
      },
      "source": [
        "Now let's use the deck of cards to calculate some conditional probabilities.\n",
        "\n",
        "Deck of cards"
      ]
    },
    {
      "cell_type": "markdown",
      "metadata": {
        "id": "vNwl5mL7MuDI"
      },
      "source": [
        "1\n",
        "Calculate the probability of getting two Jacks (P(Jack and Jack))."
      ]
    },
    {
      "cell_type": "code",
      "metadata": {
        "colab": {
          "base_uri": "https://localhost:8080/"
        },
        "id": "pKUwfyHOM4If",
        "outputId": "022fd54c-ac12-4381-d3af-b924a5d2939d"
      },
      "source": [
        "# Needed probabilities\n",
        "P_first_Jack = 4/52\n",
        "P_Jack_given_Jack = 3/51\n",
        "\n",
        "# Joint probability calculation\n",
        "P_two_Jacks = P_first_Jack * P_Jack_given_Jack\n",
        "\n",
        "print(P_two_Jacks)"
      ],
      "execution_count": 45,
      "outputs": [
        {
          "output_type": "stream",
          "text": [
            "0.004524886877828055\n"
          ],
          "name": "stdout"
        }
      ]
    },
    {
      "cell_type": "markdown",
      "metadata": {
        "id": "6UVCPQVcMwyV"
      },
      "source": [
        "2\n",
        "Calculate P(Ace|Spade).\n"
      ]
    },
    {
      "cell_type": "code",
      "metadata": {
        "colab": {
          "base_uri": "https://localhost:8080/"
        },
        "id": "tpvMu7kYM4vo",
        "outputId": "159e2bb7-1517-46bc-c6a2-3c60866ca8b5"
      },
      "source": [
        "# Needed probabilities\n",
        "P_Spade = 13/52\n",
        "P_Spade_n_Ace = 1/52\n",
        "\n",
        "# Conditional probability calculation\n",
        "P_Ace_given_Spade = P_Spade_n_Ace / P_Spade\n",
        "\n",
        "print(P_Ace_given_Spade)"
      ],
      "execution_count": 46,
      "outputs": [
        {
          "output_type": "stream",
          "text": [
            "0.07692307692307693\n"
          ],
          "name": "stdout"
        }
      ]
    },
    {
      "cell_type": "markdown",
      "metadata": {
        "id": "oVyJ_CSeM1Pb"
      },
      "source": [
        "\n",
        "3\n",
        "Calculate P(Queen|Face card)."
      ]
    },
    {
      "cell_type": "code",
      "metadata": {
        "colab": {
          "base_uri": "https://localhost:8080/"
        },
        "id": "RG672hIqM5dc",
        "outputId": "4acc6496-384c-476d-e717-6d148969f302"
      },
      "source": [
        "# Needed probabilities\n",
        "P_Face_card = 12/52\n",
        "P_Face_card_n_Queen = 4/52\n",
        "\n",
        "# Conditional probability calculation\n",
        "P_Queen_given_Face_card = P_Face_card_n_Queen / P_Face_card\n",
        "\n",
        "print(P_Queen_given_Face_card)"
      ],
      "execution_count": 47,
      "outputs": [
        {
          "output_type": "stream",
          "text": [
            "0.3333333333333333\n"
          ],
          "name": "stdout"
        }
      ]
    },
    {
      "cell_type": "markdown",
      "metadata": {
        "id": "LPLk7ylbNLUm"
      },
      "source": [
        "#Formula 1 engines"
      ]
    },
    {
      "cell_type": "markdown",
      "metadata": {
        "id": "FCiqh58QNNdp"
      },
      "source": [
        "Suppose that two manufacturers, A and B, supply the engines for Formula 1 racing cars, with the following characteristics:\n",
        "\n",
        "99% of the engines from factory A last more than 5,000 km.\n",
        "Factory B manufactures engines that last more than 5,000 km with 95% probability.\n",
        "70% of the engines are from manufacturer A, and the rest are produced by manufacturer B.\n",
        "What is the chance that an engine will last more than 5,000 km?"
      ]
    },
    {
      "cell_type": "markdown",
      "metadata": {
        "id": "52zgKsuANP1z"
      },
      "source": [
        "Calculate the following probabilities:\n",
        "\n",
        "* The manufacturer is A (P_A).\n",
        "\n",
        "* The engine lasts more than 5,000 km given that manufacturer is A (P_last5000_g_A).\n",
        "\n",
        "* The manufacturer is B (P_B).\n",
        "\n",
        "* The engine lasts more than 5,000 km given that manufacturer is B (P_last5000_g_B).\n",
        "\n",
        "* Use the total probability law to calculate the probability that the engine will last more than 5,000 km and store the result into P_last_5000."
      ]
    },
    {
      "cell_type": "code",
      "metadata": {
        "colab": {
          "base_uri": "https://localhost:8080/"
        },
        "id": "ub_s_j16NvwA",
        "outputId": "a7657e11-4dc2-4062-95ff-98744d02e5ce"
      },
      "source": [
        "# Needed probabilities\n",
        "P_A = 0.7\n",
        "P_last5000_g_A = 0.99\n",
        "P_B = 0.3\n",
        "P_last5000_g_B = 0.95\n",
        "\n",
        "# Total probability calculation\n",
        "P_last_5000 = P_A * P_last5000_g_A + P_B * P_last5000_g_B\n",
        "\n",
        "print(P_last_5000)"
      ],
      "execution_count": 48,
      "outputs": [
        {
          "output_type": "stream",
          "text": [
            "0.978\n"
          ],
          "name": "stdout"
        }
      ]
    },
    {
      "cell_type": "markdown",
      "metadata": {
        "id": "IhkjykLnOCpk"
      },
      "source": [
        "#Voters"
      ]
    },
    {
      "cell_type": "markdown",
      "metadata": {
        "id": "yh9mLwwMOERw"
      },
      "source": [
        "Of the total population of three states X, Y, and Z, 43% are from state X, 25% are from state Y, and 32% are from state Z. A poll is taken and the result is the following:\n",
        "\n",
        "* 53% of the voters support John Doe in state X.\n",
        "* 67% of the voters support John Doe in state Y.\n",
        "* 32% of the voters support John Doe in state Z.\n",
        "\n",
        "Given that a voter supports John Doe, answer the following questions."
      ]
    },
    {
      "cell_type": "markdown",
      "metadata": {
        "id": "V_iBbi6bONTi"
      },
      "source": [
        "1\n",
        "What is the probability that the voter lives in state X and supports John Doe?"
      ]
    },
    {
      "cell_type": "code",
      "metadata": {
        "colab": {
          "base_uri": "https://localhost:8080/"
        },
        "id": "onVUX3vsOxF6",
        "outputId": "b4d1cf61-b536-4ca6-9d9b-d984e5503562"
      },
      "source": [
        "# Individual probabilities\n",
        "P_X = 0.43\n",
        "\n",
        "# Conditional probabilities\n",
        "P_Support_g_X = 0.53\n",
        "\n",
        "# Total probability calculation\n",
        "P_X_n_Support = P_X * P_Support_g_X\n",
        "print(P_X_n_Support)"
      ],
      "execution_count": 49,
      "outputs": [
        {
          "output_type": "stream",
          "text": [
            "0.22790000000000002\n"
          ],
          "name": "stdout"
        }
      ]
    },
    {
      "cell_type": "markdown",
      "metadata": {
        "id": "WUq1OtMtOef4"
      },
      "source": [
        "2\n",
        "What is the probability that the voter lives in state Z and does not support John Doe?"
      ]
    },
    {
      "cell_type": "code",
      "metadata": {
        "colab": {
          "base_uri": "https://localhost:8080/"
        },
        "id": "qI1Tn3i0OxlZ",
        "outputId": "41e6ceea-64bb-4b7d-c376-4d86c2295fa0"
      },
      "source": [
        "# Individual probabilities\n",
        "P_Z = 0.32\n",
        "\n",
        "# Conditional probabilities\n",
        "P_Support_g_Z = 0.32\n",
        "P_NoSupport_g_Z = 1 - P_Support_g_Z\n",
        "\n",
        "# Total probability calculation\n",
        "P_Z_n_NoSupport = P_Z * P_NoSupport_g_Z\n",
        "print(P_Z_n_NoSupport)"
      ],
      "execution_count": 50,
      "outputs": [
        {
          "output_type": "stream",
          "text": [
            "0.2176\n"
          ],
          "name": "stdout"
        }
      ]
    },
    {
      "cell_type": "markdown",
      "metadata": {
        "id": "4tx8EbONOffa"
      },
      "source": [
        "3\n",
        "What is the total percentage of voters that support John Doe?"
      ]
    },
    {
      "cell_type": "code",
      "metadata": {
        "colab": {
          "base_uri": "https://localhost:8080/"
        },
        "id": "n9JmiQonOyTg",
        "outputId": "2d711f37-867e-4b9b-ed65-2452e22cddd6"
      },
      "source": [
        "# Individual probabilities\n",
        "P_X = 0.43\n",
        "P_Y = 0.25\n",
        "P_Z = 0.32\n",
        "\n",
        "# Conditional probabilities\n",
        "P_Support_g_X = 0.53\n",
        "P_Support_g_Y = 0.67\n",
        "P_Support_g_Z = 0.32\n",
        "\n",
        "# Total probability calculation\n",
        "P_Support = P_X * P_Support_g_X + P_Y * P_Support_g_Y + P_Z * P_Support_g_Z\n",
        "print(P_Support)"
      ],
      "execution_count": 51,
      "outputs": [
        {
          "output_type": "stream",
          "text": [
            "0.4978\n"
          ],
          "name": "stdout"
        }
      ]
    },
    {
      "cell_type": "markdown",
      "metadata": {
        "id": "oPZBYAIAPOYa"
      },
      "source": [
        "#Factories and parts\n",
        "\n",
        "A certain electronic part is manufactured by three different vendors named V1, V2, and V3.\n",
        "\n",
        "Half of the parts are produced by V1, 25% by V2, and the rest by V3. The probability of a part being damaged given that it was produced by V1 is 1%, while it's 2% for V2 and 3% for V3.\n",
        "\n",
        "If a part taken at random is damaged, answer the following questions."
      ]
    },
    {
      "cell_type": "markdown",
      "metadata": {
        "id": "7rT1-k61PRLF"
      },
      "source": [
        "1\n",
        "What is the probability that the part was manufactured by V1?"
      ]
    },
    {
      "cell_type": "code",
      "metadata": {
        "colab": {
          "base_uri": "https://localhost:8080/"
        },
        "id": "0C0nDnO_PeI4",
        "outputId": "8e0721b5-f308-456b-bc62-ac60229b28fa"
      },
      "source": [
        "# Individual probabilities & conditional probabilities\n",
        "P_V1 = 0.5\n",
        "P_V2 = 0.25\n",
        "P_V3 = 0.25\n",
        "P_D_g_V1 = 0.01\n",
        "P_D_g_V2 = 0.02\n",
        "P_D_g_V3 = 0.03\n",
        "\n",
        "# Probability of Damaged\n",
        "P_Damaged = (P_V1 * P_D_g_V1) + (P_V2 * P_D_g_V2) + (P_V3 * P_D_g_V3)\n",
        "\n",
        "# Bayes' rule for P(V1|D)\n",
        "P_V1_g_D = (P_V1 * P_D_g_V1) / P_Damaged\n",
        "\n",
        "print(P_V1_g_D)\n"
      ],
      "execution_count": 52,
      "outputs": [
        {
          "output_type": "stream",
          "text": [
            "0.2857142857142857\n"
          ],
          "name": "stdout"
        }
      ]
    },
    {
      "cell_type": "markdown",
      "metadata": {
        "id": "mPvgs9zvPXEH"
      },
      "source": [
        "2\n",
        "What is the probability that it was manufactured by V2?"
      ]
    },
    {
      "cell_type": "code",
      "metadata": {
        "colab": {
          "base_uri": "https://localhost:8080/"
        },
        "id": "TqFuhZK5PemK",
        "outputId": "0b9d53cd-7ee0-4190-99c2-e175adce4d8e"
      },
      "source": [
        "# Individual probabilities & conditional probabilities\n",
        "P_V1 = 0.5\n",
        "P_V2 = 0.25\n",
        "P_V3 = 0.25\n",
        "P_D_g_V1 = 0.01\n",
        "P_D_g_V2 = 0.02\n",
        "P_D_g_V3 = 0.03\n",
        "\n",
        "# Probability of Damaged\n",
        "P_Damaged = (P_V1 * P_D_g_V1) + (P_V2 * P_D_g_V2) + (P_V3 * P_D_g_V3)\n",
        "\n",
        "# Bayes' rule for P(V2|D)\n",
        "P_V2_g_D = (P_V2 * P_D_g_V2) / P_Damaged\n",
        "\n",
        "print(P_V2_g_D)"
      ],
      "execution_count": 53,
      "outputs": [
        {
          "output_type": "stream",
          "text": [
            "0.2857142857142857\n"
          ],
          "name": "stdout"
        }
      ]
    },
    {
      "cell_type": "markdown",
      "metadata": {
        "id": "SjVPVTXjPX3x"
      },
      "source": [
        "3\n",
        "What is the probability that the part was manufactured by V3?"
      ]
    },
    {
      "cell_type": "code",
      "metadata": {
        "colab": {
          "base_uri": "https://localhost:8080/"
        },
        "id": "fVo0LwXjPfC7",
        "outputId": "122d655b-70dd-47c4-a5c3-899d6239fdc6"
      },
      "source": [
        "# Individual probabilities & conditional probabilities\n",
        "P_V1 = 0.5\n",
        "P_V2 = 0.25\n",
        "P_V3 = 0.25\n",
        "P_D_g_V1 = 0.01\n",
        "P_D_g_V2 = 0.02\n",
        "P_D_g_V3 = 0.03\n",
        "\n",
        "# Probability of Damaged\n",
        "P_Damaged = (P_V1 * P_D_g_V1) + (P_V2 * P_D_g_V2) + (P_V3 * P_D_g_V3)\n",
        "\n",
        "# Bayes' rule for P(V3|D)\n",
        "P_V3_g_D = (P_V3 * P_D_g_V3) / P_Damaged\n",
        "\n",
        "print(P_V3_g_D)"
      ],
      "execution_count": 54,
      "outputs": [
        {
          "output_type": "stream",
          "text": [
            "0.4285714285714285\n"
          ],
          "name": "stdout"
        }
      ]
    },
    {
      "cell_type": "markdown",
      "metadata": {
        "id": "HBi0L22hPwzH"
      },
      "source": [
        "#Swine flu blood test\n",
        "\n",
        "You go to the doctor about a strong headache. The doctor randomly selects you for a blood test for swine flu, which is suspected to affect 1 in 9,000 people in your city. The accuracy of the test is 99%, meaning that the probability of a false positive is 1%. The probability of a false negative is zero.\n",
        "\n",
        "Given that you test positive, answer the following questions."
      ]
    },
    {
      "cell_type": "markdown",
      "metadata": {
        "id": "JL53zctQPzat"
      },
      "source": [
        "1\n",
        "What is the probability that you have swine flu given that your test outcome is positive?"
      ]
    },
    {
      "cell_type": "code",
      "metadata": {
        "colab": {
          "base_uri": "https://localhost:8080/"
        },
        "id": "6s2YuZ1GQGwU",
        "outputId": "03fc291d-4d2b-4293-a8d7-5c7c4fef77ff"
      },
      "source": [
        "# Probability of having Swine_flu\n",
        "P_Swine_flu = 1./9000\n",
        "# Probability of not having Swine_flu\n",
        "P_no_Swine_flu = 1 - P_Swine_flu\n",
        "# Probability of being positive given that you have Swine_flu\n",
        "P_Positive_g_Swine_flu = 1\n",
        "# Probability of being positive given that you do not have Swine_flu\n",
        "P_Positive_g_no_Swine_flu = 0.01\n",
        "\n",
        "# Probability of Positive\n",
        "P_Positive = (P_Swine_flu * P_Positive_g_Swine_flu) + (P_no_Swine_flu * P_Positive_g_no_Swine_flu)\n",
        "\n",
        "# Bayes' rule for P(Swine_flu|Positive)\n",
        "P_Swine_flu_g_Positive = (P_Swine_flu * P_Positive_g_Swine_flu) / P_Positive\n",
        "\n",
        "print(P_Swine_flu_g_Positive)\n"
      ],
      "execution_count": 55,
      "outputs": [
        {
          "output_type": "stream",
          "text": [
            "0.010990218705352238\n"
          ],
          "name": "stdout"
        }
      ]
    },
    {
      "cell_type": "markdown",
      "metadata": {
        "id": "aRTEXl40P6oG"
      },
      "source": [
        "2\n",
        "You went to Miami and 1 in 350 people came back with swine flu. Calculate the new probability that you'll test positive."
      ]
    },
    {
      "cell_type": "code",
      "metadata": {
        "colab": {
          "base_uri": "https://localhost:8080/"
        },
        "id": "yLMLcSXSQHda",
        "outputId": "a2fb6d8b-8d5e-47f8-e291-a3ec02bdb236"
      },
      "source": [
        "# Individual probabilities & conditional probabilities\n",
        "P_Swine_flu = 1./350\n",
        "P_no_Swine_flu = 1 - P_Swine_flu\n",
        "P_Positive_g_Swine_flu = 1\n",
        "P_Positive_g_no_Swine_flu = 0.01\n",
        "\n",
        "# Probability of Positive\n",
        "P_Positive = (P_Swine_flu * P_Positive_g_Swine_flu) + (P_no_Swine_flu * P_Positive_g_no_Swine_flu)\n",
        "\n",
        "# Bayes' rule for P(Swine_flu|Positive)\n",
        "P_Swine_flu_g_Positive = (P_Swine_flu * P_Positive_g_Swine_flu) / P_Positive\n",
        "\n",
        "print(P_Swine_flu_g_Positive)"
      ],
      "execution_count": 56,
      "outputs": [
        {
          "output_type": "stream",
          "text": [
            "0.22271714922048996\n"
          ],
          "name": "stdout"
        }
      ]
    },
    {
      "cell_type": "markdown",
      "metadata": {
        "id": "QjKBbZTCP7mh"
      },
      "source": [
        "3\n",
        "If the probability of a false positive is 2%, what is the new probability that you have swine flu after your vacation?"
      ]
    },
    {
      "cell_type": "code",
      "metadata": {
        "colab": {
          "base_uri": "https://localhost:8080/"
        },
        "id": "KmToXdvdQIFy",
        "outputId": "d2b62294-8bb7-4af7-a776-3243ea57605b"
      },
      "source": [
        "# Individual probabilities & conditional probabilities\n",
        "P_Swine_flu = 1./350\n",
        "P_no_Swine_flu = 1 - P_Swine_flu\n",
        "P_Positive_g_Swine_flu = 1\n",
        "P_Positive_g_no_Swine_flu = 0.02\n",
        "\n",
        "# Probability of Positive\n",
        "P_Positive = P_Swine_flu * P_Positive_g_Swine_flu + P_no_Swine_flu * P_Positive_g_no_Swine_flu\n",
        "\n",
        "# Bayes' rule for P(Swine_flu|Positive)\n",
        "P_Swine_flu_g_Positive = (P_Swine_flu * P_Positive_g_Swine_flu) / P_Positive\n",
        "\n",
        "print(P_Swine_flu_g_Positive)"
      ],
      "execution_count": 57,
      "outputs": [
        {
          "output_type": "stream",
          "text": [
            "0.12531328320802004\n"
          ],
          "name": "stdout"
        }
      ]
    }
  ]
}