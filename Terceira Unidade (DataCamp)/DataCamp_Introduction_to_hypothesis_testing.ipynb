{
  "nbformat": 4,
  "nbformat_minor": 0,
  "metadata": {
    "colab": {
      "name": "DataCamp Introduction to hypothesis testing.ipynb",
      "provenance": []
    },
    "kernelspec": {
      "name": "python3",
      "display_name": "Python 3"
    }
  },
  "cells": [
    {
      "cell_type": "code",
      "metadata": {
        "id": "z3nziZD3WdvL"
      },
      "source": [
        "import numpy as np\r\n",
        "import pandas as pd\r\n",
        "import matplotlib.pyplot as plt\r\n",
        "import seaborn as sns"
      ],
      "execution_count": 57,
      "outputs": []
    },
    {
      "cell_type": "markdown",
      "metadata": {
        "id": "e3xOZpb1WwKn"
      },
      "source": [
        "#Generating a permutation sample\r\n",
        "\r\n",
        "In the video, you learned that permutation sampling is a great way to simulate the hypothesis that two variables have identical probability distributions. This is often a hypothesis you want to test, so in this exercise, you will write a function to generate a permutation sample from two data sets.\r\n",
        "\r\n",
        "Remember, a permutation sample of two arrays having respectively n1 and n2 entries is constructed by concatenating the arrays together, scrambling the contents of the concatenated array, and then taking the first n1 entries as the permutation sample of the first array and the last n2 entries as the permutation sample of the second array."
      ]
    },
    {
      "cell_type": "code",
      "metadata": {
        "id": "MxSGTY_6WzT4"
      },
      "source": [
        "def permutation_sample(data1, data2):\r\n",
        "    \"\"\"Generate a permutation sample from two data sets.\"\"\"\r\n",
        "\r\n",
        "    # Concatenate the data sets: data\r\n",
        "    data = np.concatenate((data1, data2))\r\n",
        "\r\n",
        "    # Permute the concatenated array: permuted_data\r\n",
        "    permuted_data = np.random.permutation(data)\r\n",
        "\r\n",
        "    # Split the permuted array into two: perm_sample_1, perm_sample_2\r\n",
        "    perm_sample_1 = permuted_data[:len(data1)]\r\n",
        "    perm_sample_2 = permuted_data[len(data1):]\r\n",
        "\r\n",
        "    return perm_sample_1, perm_sample_2"
      ],
      "execution_count": 58,
      "outputs": []
    },
    {
      "cell_type": "markdown",
      "metadata": {
        "id": "R4xjn8VQXB0A"
      },
      "source": [
        "#Visualizing permutation sampling\r\n",
        "\r\n",
        "To help see how permutation sampling works, in this exercise you will generate permutation samples and look at them graphically.\r\n",
        "\r\n",
        "We will use the Sheffield Weather Station data again, this time considering the monthly rainfall in June (a dry month) and November (a wet month). We expect these might be differently distributed, so we will take permutation samples to see how their ECDFs would look if they were identically distributed.\r\n",
        "\r\n",
        "The data are stored in the Numpy arrays rain_june and rain_november.\r\n",
        "\r\n",
        "As a reminder, permutation_sample() has a function signature of permutation_sample(data_1, data_2) with a return value of permuted_data[:len(data_1)], permuted_data[len(data_1):], where permuted_data = np.random.permutation(np.concatenate((data_1, data_2)))."
      ]
    },
    {
      "cell_type": "code",
      "metadata": {
        "cellView": "form",
        "id": "BFlrWpDSY8Ye"
      },
      "source": [
        "#@title Pré-definidos no Datacamp\r\n",
        "def ecdf(data):\r\n",
        "    \"\"\"Compute ECDF for a one-dimensional array of measurements.\"\"\"\r\n",
        "    # Number of data points: n\r\n",
        "    n = len(data)\r\n",
        "\r\n",
        "    # x-data for the ECDF: x\r\n",
        "    x = np.sort(data)\r\n",
        "\r\n",
        "    # y-data for the ECDF: y\r\n",
        "    y = np.arange(1, n + 1) / n\r\n",
        "\r\n",
        "    return x, y\r\n",
        "\r\n",
        "rain_june = np.array([66.2,39.7,76.4,26.5,11.2,61.8,6.1,48.4,89.2,104.0,34.0,60.6,57.1,79.1,90.9,32.3,63.8,78.2,27.5,43.4,30.1,17.3,77.5,44.9,92.2,39.6,79.4,66.1,53.5,98.5,20.8,55.5,39.6,56.0,65.1,14.8,13.2,88.1,8.4,32.1,19.6,40.4,2.2,77.5,105.4,77.2,38.0,27.1,111.8,17.2,26.7,23.3,77.2,87.2,27.7,50.6,60.3,15.1,6.0,29.4,39.3,56.3,80.4,85.3,68.4,72.5,13.3,28.4,14.7,37.4,49.5,57.2,85.9,82.1,31.8,126.6,30.7,41.4,33.9,13.5,99.1,70.2,91.8,61.3,13.7,54.9,62.5,24.2,69.4,83.1,44.0,48.5,11.9,16.6,66.4,90.0,34.9,132.8,33.4,225.0,7.6,40.9,76.5,48.0,140.0,55.9,54.1,46.4,68.6,52.2,108.3,14.6,11.3,29.8,130.9,152.4,61.0,46.6,43.9,30.9,111.1,68.5,42.2,9.8,285.6,56.7,168.2,41.2,47.8,166.6,37.8,45.4,43.2])\r\n",
        "rain_november = np.array([83.6,30.9,62.2,37.0,41.0,160.2,18.2,122.4,71.3,44.2,49.1,37.6,114.5,28.8,82.5,71.9,50.7,67.7,112.0,63.6,42.8,57.2,99.1,86.4,84.4,38.1,17.7,102.2,101.3,58.0,82.0,101.4,81.4,100.1,54.6,39.6,57.5,29.2,48.8,37.3,115.4,55.6,62.0,95.0,84.2,118.1,153.2,83.4,104.7,59.0,46.4,50.0,147.6,76.8,59.9,101.8,136.6,173.0,92.5,37.0,59.8,142.1,9.9,158.2,72.6,28.0,112.9,119.3,199.2,50.7,44.0,170.7,67.2,21.4,61.3,15.6,106.0,116.2,42.3,38.5,132.5,40.8,147.5,93.9,71.4,87.3,163.7,141.4,62.6,84.9,28.8,121.1,28.6,32.4,112.0,50.0,96.9,81.8,70.4,117.5,41.2,124.9,78.2,93.0,53.5,50.5,42.6,47.9,73.1,129.1,56.9,103.3,60.5,134.3,93.1,49.5,48.2,167.9,27.0,111.1,55.4,36.2,57.4,66.8,58.3,60.0,161.6,112.7,37.4,110.6,56.6,95.8,126.8])"
      ],
      "execution_count": 59,
      "outputs": []
    },
    {
      "cell_type": "code",
      "metadata": {
        "id": "DGtOJIO4X3EZ"
      },
      "source": [
        "for _ in range(50):\r\n",
        "    # Generate permutation samples\r\n",
        "    perm_sample_1, perm_sample_2 = permutation_sample(\r\n",
        "                                    rain_june, rain_november)\r\n",
        "\r\n",
        "    # Compute ECDFs\r\n",
        "    x_1, y_1 = ecdf(perm_sample_1)\r\n",
        "    x_2, y_2 = ecdf(perm_sample_2)\r\n",
        "\r\n",
        "    # Plot ECDFs of permutation sample\r\n",
        "    _ = plt.plot(x_1, y_1, marker='.', linestyle='none',\r\n",
        "                 color='red', alpha=0.02)\r\n",
        "    _ = plt.plot(x_2, y_2, marker='.', linestyle='none',\r\n",
        "                 color='blue', alpha=0.02)\r\n",
        "\r\n",
        "# Create and plot ECDFs from original data\r\n",
        "x_1, y_1 = ecdf(rain_june)\r\n",
        "x_2, y_2 = ecdf(rain_november)\r\n",
        "_ = plt.plot(x_1, y_1, marker='.', linestyle='none', color='red')\r\n",
        "_ = plt.plot(x_2, y_2, marker='.', linestyle='none', color='blue')\r\n",
        "\r\n",
        "# Label axes, set margin, and show plot\r\n",
        "plt.margins(0.02)\r\n",
        "_ = plt.xlabel('monthly rainfall (mm)')\r\n",
        "_ = plt.ylabel('ECDF')\r\n",
        "plt.show()"
      ],
      "execution_count": null,
      "outputs": []
    },
    {
      "cell_type": "markdown",
      "metadata": {
        "id": "VAqV1PLPZ8OP"
      },
      "source": [
        "#Generating permutation replicates\r\n",
        "\r\n",
        "As discussed in the video, a permutation replicate is a single value of a statistic computed from a permutation sample. As the draw_bs_reps() function you wrote in chapter 2 is useful for you to generate bootstrap replicates, it is useful to have a similar function, draw_perm_reps(), to generate permutation replicates. You will write this useful function in this exercise.\r\n",
        "\r\n",
        "The function has call signature draw_perm_reps(data_1, data_2, func, size=1). Importantly, func must be a function that takes two arrays as arguments. In most circumstances, func will be a function you write yourself."
      ]
    },
    {
      "cell_type": "code",
      "metadata": {
        "id": "EG_khTLDZ-H6"
      },
      "source": [
        "def draw_perm_reps(data_1, data_2, func, size=1):\r\n",
        "    \"\"\"Generate multiple permutation replicates.\"\"\"\r\n",
        "\r\n",
        "    # Initialize array of replicates: perm_replicates\r\n",
        "    perm_replicates = np.empty(size)\r\n",
        "\r\n",
        "    for i in range(size):\r\n",
        "        # Generate permutation sample\r\n",
        "        perm_sample_1, perm_sample_2 = permutation_sample(data_1, data_2)\r\n",
        "\r\n",
        "        # Compute the test statistic\r\n",
        "        perm_replicates[i] = func(perm_sample_1, perm_sample_2)\r\n",
        "\r\n",
        "    return perm_replicates"
      ],
      "execution_count": 61,
      "outputs": []
    },
    {
      "cell_type": "markdown",
      "metadata": {
        "id": "k_JKHjS1aFmz"
      },
      "source": [
        "#Look before you leap: EDA before hypothesis testing\r\n",
        "\r\n",
        "Kleinteich and Gorb (Sci. Rep., 4, 5225, 2014) performed an interesting experiment with South American horned frogs. They held a plate connected to a force transducer, along with a bait fly, in front of them. They then measured the impact force and adhesive force of the frog's tongue when it struck the target.\r\n",
        "\r\n",
        "Frog A is an adult and Frog B is a juvenile. The researchers measured the impact force of 20 strikes for each frog. In the next exercise, we will test the hypothesis that the two frogs have the same distribution of impact forces. But, remember, it is important to do EDA first! Let's make a bee swarm plot for the data. They are stored in a Pandas data frame, df, where column ID is the identity of the frog and column impact_force is the impact force in Newtons (N)."
      ]
    },
    {
      "cell_type": "code",
      "metadata": {
        "cellView": "form",
        "id": "N0mZ07ZZdbcV"
      },
      "source": [
        "#@title Pré-definidos no Datacamp\r\n",
        "\r\n",
        "#Criando dataframe do DataCamp\r\n",
        "impact_force = pd.Series([1.612,0.605,0.327,0.946,0.541,1.539,0.529,0.628,1.453,0.297,0.703,0.269,0.751,0.245,1.182,0.515,0.435,0.383,0.457,0.73,0.172,0.142,0.037,0.453,0.355,0.022,0.502,0.273,0.72,0.582,0.198,0.198,0.597,0.516,0.815,0.402,0.605,0.711,0.614,0.468])\r\n",
        "ID = pd.Series([\"A\",\"A\",\"A\",\"A\",\"A\",\"A\",\"A\",\"A\",\"A\",\"A\",\"A\",\"A\",\"A\",\"A\",\"A\",\"A\",\"A\",\"A\",\"A\",\"A\",\"B\",\"B\",\"B\",\"B\",\"B\",\"B\",\"B\",\"B\",\"B\",\"B\",\"B\",\"B\",\"B\",\"B\",\"B\",\"B\",\"B\",\"B\",\"B\",\"B\"])\r\n",
        "df = pd.concat([ID, impact_force], axis=1)\r\n",
        "df.columns = ['ID', 'impact_force']"
      ],
      "execution_count": 62,
      "outputs": []
    },
    {
      "cell_type": "code",
      "metadata": {
        "id": "6lTVhJvIaK48"
      },
      "source": [
        "# Make bee swarm plot\r\n",
        "_ = sns.swarmplot(x='ID', y='impact_force', data=df)\r\n",
        "\r\n",
        "# Label axes\r\n",
        "_ = plt.xlabel('frog')\r\n",
        "_ = plt.ylabel('impact force (N)')\r\n",
        "\r\n",
        "# Show the plot\r\n",
        "plt.show()"
      ],
      "execution_count": null,
      "outputs": []
    },
    {
      "cell_type": "markdown",
      "metadata": {
        "id": "dtmzsXEKjrN7"
      },
      "source": [
        "#Permutation test on frog data\r\n",
        "\r\n",
        "The average strike force of Frog A was 0.71 Newtons (N), and that of Frog B was 0.42 N for a difference of 0.29 N. It is possible the frogs strike with the same force and this observed difference was by chance. You will compute the probability of getting at least a 0.29 N difference in mean strike force under the hypothesis that the distributions of strike forces for the two frogs are identical. We use a permutation test with a test statistic of the difference of means to test this hypothesis.\r\n",
        "\r\n",
        "For your convenience, the data has been stored in the arrays force_a and force_b."
      ]
    },
    {
      "cell_type": "code",
      "metadata": {
        "cellView": "form",
        "id": "dJLndv0LkIQX"
      },
      "source": [
        "#@title Pré-definidos no Datacamp\r\n",
        "force_a = np.array([1.612,0.605,0.327,0.946,0.541,1.539,0.529,0.628,1.453,0.297,0.703,0.269,0.751,0.245,1.182,0.515,0.435,0.383,0.457,0.73])\r\n",
        "force_b = np.array([0.172,0.142,0.037,0.453,0.355,0.022,0.502,0.273,0.72,0.582,0.198,0.198,0.597,0.516,0.815,0.402,0.605,0.711,0.614,0.468])"
      ],
      "execution_count": 64,
      "outputs": []
    },
    {
      "cell_type": "code",
      "metadata": {
        "colab": {
          "base_uri": "https://localhost:8080/"
        },
        "id": "iq2OUWc7juBw",
        "outputId": "f1f2b250-3ce7-4de3-e495-873361cfa932"
      },
      "source": [
        "def diff_of_means(data_1, data_2):\r\n",
        "    \"\"\"Difference in means of two arrays.\"\"\"\r\n",
        "\r\n",
        "    # The difference of means of data_1, data_2: diff\r\n",
        "    diff = np.mean(data_1) - np.mean(data_2)\r\n",
        "\r\n",
        "    return diff\r\n",
        "\r\n",
        "# Compute difference of mean impact force from experiment: empirical_diff_means\r\n",
        "empirical_diff_means = diff_of_means(force_a, force_b)\r\n",
        "\r\n",
        "# Draw 10,000 permutation replicates: perm_replicates\r\n",
        "perm_replicates = draw_perm_reps(force_a, force_b,\r\n",
        "                                 diff_of_means, size=10000)\r\n",
        "\r\n",
        "# Compute p-value: p\r\n",
        "p = np.sum(perm_replicates >= empirical_diff_means) / len(perm_replicates)\r\n",
        "\r\n",
        "# Print the result\r\n",
        "print('p-value =', p)"
      ],
      "execution_count": 65,
      "outputs": [
        {
          "output_type": "stream",
          "text": [
            "p-value = 0.0048\n"
          ],
          "name": "stdout"
        }
      ]
    },
    {
      "cell_type": "markdown",
      "metadata": {
        "id": "aKkF4shumNSD"
      },
      "source": [
        "#A one-sample bootstrap hypothesis test\r\n",
        "\r\n",
        "Another juvenile frog was studied, Frog C, and you want to see if Frog B and Frog C have similar impact forces. Unfortunately, you do not have Frog C's impact forces available, but you know they have a mean of 0.55 N. Because you don't have the original data, you cannot do a permutation test, and you cannot assess the hypothesis that the forces from Frog B and Frog C come from the same distribution. You will therefore test another, less restrictive hypothesis: The mean strike force of Frog B is equal to that of Frog C.\r\n",
        "\r\n",
        "To set up the bootstrap hypothesis test, you will take the mean as our test statistic. Remember, your goal is to calculate the probability of getting a mean impact force less than or equal to what was observed for Frog B if the hypothesis that the true mean of Frog B's impact forces is equal to that of Frog C is true. You first translate all of the data of Frog B such that the mean is 0.55 N. This involves adding the mean force of Frog C and subtracting the mean force of Frog B from each measurement of Frog B. This leaves other properties of Frog B's distribution, such as the variance, unchanged."
      ]
    },
    {
      "cell_type": "code",
      "metadata": {
        "cellView": "form",
        "id": "13NqBovSnVkO"
      },
      "source": [
        "#@title Pré-definidos no Datacamp\r\n",
        "\r\n",
        "def bootstrap_replicate_1d(data, func):\r\n",
        "    return func(np.random.choice(data, size=len(data)))\r\n",
        "\r\n",
        "def draw_bs_reps(data, func, size=1):\r\n",
        "    return np.array([bootstrap_replicate_1d(data, func) for _ in range(size)])"
      ],
      "execution_count": 66,
      "outputs": []
    },
    {
      "cell_type": "code",
      "metadata": {
        "colab": {
          "base_uri": "https://localhost:8080/"
        },
        "id": "lW_jxZiEmPX-",
        "outputId": "ffbc2017-8d74-4f6b-a8a6-1c7f6e76ea4a"
      },
      "source": [
        "# Make an array of translated impact forces: translated_force_b\r\n",
        "translated_force_b = force_b - np.mean(force_b) + 0.55\r\n",
        "\r\n",
        "# Take bootstrap replicates of Frog B's translated impact forces: bs_replicates\r\n",
        "bs_replicates = draw_bs_reps(translated_force_b, np.mean, 10000)\r\n",
        "\r\n",
        "# Compute fraction of replicates that are less than the observed Frog B force: p\r\n",
        "p = np.sum(bs_replicates <= np.mean(force_b)) / 10000\r\n",
        "\r\n",
        "# Print the p-value\r\n",
        "print('p = ', p)"
      ],
      "execution_count": 67,
      "outputs": [
        {
          "output_type": "stream",
          "text": [
            "p =  0.0056\n"
          ],
          "name": "stdout"
        }
      ]
    },
    {
      "cell_type": "markdown",
      "metadata": {
        "id": "gX8dFdcBorM5"
      },
      "source": [
        "#A two-sample bootstrap hypothesis test for difference of means\r\n",
        "\r\n",
        "We now want to test the hypothesis that Frog A and Frog B have the same mean impact force, but not necessarily the same distribution, which is also impossible with a permutation test.\r\n",
        "\r\n",
        "To do the two-sample bootstrap test, we shift both arrays to have the same mean, since we are simulating the hypothesis that their means are, in fact, equal. We then draw bootstrap samples out of the shifted arrays and compute the difference in means. This constitutes a bootstrap replicate, and we generate many of them. The p-value is the fraction of replicates with a difference in means greater than or equal to what was observed.\r\n",
        "\r\n",
        "The objects forces_concat and empirical_diff_means are already in your namespace."
      ]
    },
    {
      "cell_type": "code",
      "metadata": {
        "cellView": "form",
        "id": "CzwZO0BXpNbI"
      },
      "source": [
        "#@title Pré-definidos no Datacamp\r\n",
        "forces_concat = [1.612,0.605,0.327,0.946,0.541,1.539,0.529,0.628,1.453,0.297,0.703,0.269,0.751,0.245,1.182,0.515,0.435,0.383,0.457,0.73,0.172,0.142,0.037,0.453,0.355,0.022,0.502,0.273,0.72,0.582,0.198,0.198,0.597,0.516,0.815,0.402,0.605,0.711,0.614,0.468]"
      ],
      "execution_count": 68,
      "outputs": []
    },
    {
      "cell_type": "code",
      "metadata": {
        "colab": {
          "base_uri": "https://localhost:8080/"
        },
        "id": "E_-j-oDfotdX",
        "outputId": "75aaf298-8fae-4b8f-cb58-41c451757574"
      },
      "source": [
        "# Compute mean of all forces: mean_force\r\n",
        "mean_force = np.mean(forces_concat)\r\n",
        "\r\n",
        "# Generate shifted arrays\r\n",
        "force_a_shifted = force_a - np.mean(force_a) + mean_force\r\n",
        "force_b_shifted = force_b - np.mean(force_b) + mean_force\r\n",
        "\r\n",
        "# Compute 10,000 bootstrap replicates from shifted arrays\r\n",
        "bs_replicates_a = draw_bs_reps(force_a_shifted, np.mean, size=10000)\r\n",
        "bs_replicates_b = draw_bs_reps(force_b_shifted, np.mean, size=10000)\r\n",
        "\r\n",
        "# Get replicates of difference of means: bs_replicates\r\n",
        "bs_replicates = bs_replicates_a - bs_replicates_b\r\n",
        "\r\n",
        "# Compute and print p-value: p\r\n",
        "p = np.sum(bs_replicates >= empirical_diff_means) / len(bs_replicates)\r\n",
        "print('p-value =', p)"
      ],
      "execution_count": 69,
      "outputs": [
        {
          "output_type": "stream",
          "text": [
            "p-value = 0.0045\n"
          ],
          "name": "stdout"
        }
      ]
    }
  ]
}