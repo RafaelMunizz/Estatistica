{
  "nbformat": 4,
  "nbformat_minor": 0,
  "metadata": {
    "colab": {
      "name": "DataCamp Bootstrap confidence intervals.ipynb",
      "provenance": []
    },
    "kernelspec": {
      "name": "python3",
      "display_name": "Python 3"
    }
  },
  "cells": [
    {
      "cell_type": "code",
      "metadata": {
        "id": "lA05WoBMKQMw"
      },
      "source": [
        "import numpy as np\r\n",
        "import pandas as pd\r\n",
        "import matplotlib.pyplot as plt\r\n",
        "import seaborn as sns"
      ],
      "execution_count": 1,
      "outputs": []
    },
    {
      "cell_type": "markdown",
      "metadata": {
        "id": "yzcSnPWaMJ5q"
      },
      "source": [
        "#Visualizing bootstrap samples\r\n",
        "\r\n",
        "In this exercise, you will generate bootstrap samples from the set of annual rainfall data measured at the Sheffield Weather Station in the UK from 1883 to 2015. The data are stored in the NumPy array rainfall in units of millimeters (mm). By graphically displaying the bootstrap samples with an ECDF, you can get a feel for how bootstrap sampling allows probabilistic descriptions of data."
      ]
    },
    {
      "cell_type": "code",
      "metadata": {
        "cellView": "form",
        "id": "sIpveMZmMtSw"
      },
      "source": [
        "#@title Pré-definidos no Datacamp\r\n",
        "def ecdf(data):\r\n",
        "    n = len(data)\r\n",
        "    x = np.sort(data)\r\n",
        "    y = np.arange(1, n+1) / n\r\n",
        "    return x, y\r\n",
        "\r\n",
        "rainfall = np.array([   875.5,   648.2,   788.1,   940.3,   491.1,   743.5,   730.1,\r\n",
        "                        686.5,   878.8,   865.6,   654.9,   831.5,   798.1,   681.8,\r\n",
        "                        743.8,   689.1,   752.1,   837.2,   710.6,   749.2,   967.1,\r\n",
        "                        701.2,   619. ,   747.6,   803.4,   645.6,   804.1,   787.4,\r\n",
        "                        646.8,   997.1,   774. ,   734.5,   835. ,   840.7,   659.6,\r\n",
        "                        828.3,   909.7,   856.9,   578.3,   904.2,   883.9,   740.1,\r\n",
        "                        773.9,   741.4,   866.8,   871.1,   712.5,   919.2,   927.9,\r\n",
        "                        809.4,   633.8,   626.8,   871.3,   774.3,   898.8,   789.6,\r\n",
        "                        936.3,   765.4,   882.1,   681.1,   661.3,   847.9,   683.9,\r\n",
        "                        985.7,   771.1,   736.6,   713.2,   774.5,   937.7,   694.5,\r\n",
        "                        598.2,   983.8,   700.2,   901.3,   733.5,   964.4,   609.3,\r\n",
        "                        1035.2,   718. ,   688.6,   736.8,   643.3,  1038.5,   969. ,\r\n",
        "                        802.7,   876.6,   944.7,   786.6,   770.4,   808.6,   761.3,\r\n",
        "                        774.2,   559.3,   674.2,   883.6,   823.9,   960.4,   877.8,\r\n",
        "                        940.6,   831.8,   906.2,   866.5,   674.1,   998.1,   789.3,\r\n",
        "                        915. ,   737.1,   763. ,   666.7,   824.5,   913.8,   905.1,\r\n",
        "                        667.8,   747.4,   784.7,   925.4,   880.2,  1086.9,   764.4,\r\n",
        "                        1050.1,   595.2,   855.2,   726.9,   785.2,   948.8,   970.6,\r\n",
        "                        896. ,   618.4,   572.4,  1146.4,   728.2,   864.2,   793. ])"
      ],
      "execution_count": 3,
      "outputs": []
    },
    {
      "cell_type": "code",
      "metadata": {
        "id": "3pO-CPFiMOF-"
      },
      "source": [
        "for _ in range(50):\r\n",
        "    # Generate bootstrap sample: bs_sample\r\n",
        "    bs_sample = np.random.choice(rainfall, size=len(rainfall))\r\n",
        "\r\n",
        "    # Compute and plot ECDF from bootstrap sample\r\n",
        "    x, y = ecdf(bs_sample)\r\n",
        "    _ = plt.plot(x, y, marker='.', linestyle='none',\r\n",
        "                 color='gray', alpha=0.1)\r\n",
        "\r\n",
        "# Compute and plot ECDF from original data\r\n",
        "x, y = ecdf(rainfall)\r\n",
        "_ = plt.plot(x, y, marker='.')\r\n",
        "\r\n",
        "# Make margins and label axes\r\n",
        "plt.margins(0.02)\r\n",
        "_ = plt.xlabel('yearly rainfall (mm)')\r\n",
        "_ = plt.ylabel('ECDF')\r\n",
        "\r\n",
        "# Show the plot\r\n",
        "plt.show()"
      ],
      "execution_count": null,
      "outputs": []
    },
    {
      "cell_type": "markdown",
      "metadata": {
        "id": "2Pjb0JW7OGTJ"
      },
      "source": [
        "#Generating many bootstrap replicates\r\n",
        "\r\n",
        "The function bootstrap_replicate_1d() from the video is available in your namespace. Now you'll write another function, draw_bs_reps(data, func, size=1), which generates many bootstrap replicates from the data set. This function will come in handy for you again and again as you compute confidence intervals and later when you do hypothesis tests.\r\n",
        "\r\n",
        "For your reference, the bootstrap_replicate_1d() function is provided below:"
      ]
    },
    {
      "cell_type": "code",
      "metadata": {
        "id": "0r6FJUBZOrml"
      },
      "source": [
        "def bootstrap_replicate_1d(data, func):\r\n",
        "    \"\"\"Generate bootstrap replicate of 1D data.\"\"\"\r\n",
        "    bs_sample = np.random.choice(data, len(data))\r\n",
        "    return func(bs_sample)"
      ],
      "execution_count": 5,
      "outputs": []
    },
    {
      "cell_type": "code",
      "metadata": {
        "id": "H1w9mcznOtAN"
      },
      "source": [
        "def draw_bs_reps(data, func, size=1):\r\n",
        "    \"\"\"Draw bootstrap replicates.\"\"\"\r\n",
        "    \r\n",
        "    # Initialize array of replicates: bs_replicates\r\n",
        "    bs_replicates = np.empty(size)\r\n",
        "    \r\n",
        "    # Generate replicates\r\n",
        "    for i in range(size):\r\n",
        "        bs_replicates[i] = bootstrap_replicate_1d(data, func)\r\n",
        "        \r\n",
        "    return bs_replicates"
      ],
      "execution_count": 6,
      "outputs": []
    },
    {
      "cell_type": "markdown",
      "metadata": {
        "id": "E9QLb264PiK5"
      },
      "source": [
        "#Bootstrap replicates of the mean and the SEM\r\n",
        "\r\n",
        "In this exercise, you will compute a bootstrap estimate of the probability density function of the mean annual rainfall at the Sheffield Weather Station. Remember, we are estimating the mean annual rainfall we would get if the Sheffield Weather Station could repeat all of the measurements from 1883 to 2015 over and over again. This is a probabilistic estimate of the mean. You will plot the PDF as a histogram, and you will see that it is Normal.\r\n",
        "\r\n",
        "In fact, it can be shown theoretically that under not-too-restrictive conditions, the value of the mean will always be Normally distributed. (This does not hold in general, just for the mean and a few other statistics.) The standard deviation of this distribution, called the standard error of the mean, or SEM, is given by the standard deviation of the data divided by the square root of the number of data points. I.e., for a data set, sem = np.std(data) / np.sqrt(len(data)). Using hacker statistics, you get this same result without the need to derive it, but you will verify this result from your bootstrap replicates.\r\n",
        "\r\n",
        "The dataset has been pre-loaded for you into an array called rainfall."
      ]
    },
    {
      "cell_type": "code",
      "metadata": {
        "id": "O8ZG1wi3PlAU"
      },
      "source": [
        "# Take 10,000 bootstrap replicates of the mean: bs_replicates\r\n",
        "bs_replicates = draw_bs_reps(rainfall, np.mean, size=10000)\r\n",
        "\r\n",
        "# Compute and print SEM\r\n",
        "sem = np.std(rainfall) / np.sqrt(len(rainfall))\r\n",
        "print(sem)\r\n",
        "\r\n",
        "# Compute and print standard deviation of bootstrap replicates\r\n",
        "bs_std = np.std(bs_replicates)\r\n",
        "print(bs_std)\r\n",
        "\r\n",
        "# Make a histogram of the results\r\n",
        "_ = plt.hist(bs_replicates, bins=50, density=True)\r\n",
        "_ = plt.xlabel('mean annual rainfall (mm)')\r\n",
        "_ = plt.ylabel('PDF')\r\n",
        "\r\n",
        "# Show the plot\r\n",
        "plt.show()"
      ],
      "execution_count": null,
      "outputs": []
    },
    {
      "cell_type": "markdown",
      "metadata": {
        "id": "aWx54qOJQFDz"
      },
      "source": [
        "#Bootstrap replicates of other statistics\r\n",
        "\r\n",
        "We saw in a previous exercise that the mean is Normally distributed. This does not necessarily hold for other statistics, but no worry: as hackers, we can always take bootstrap replicates! In this exercise, you'll generate bootstrap replicates for the variance of the annual rainfall at the Sheffield Weather Station and plot the histogram of the replicates.\r\n",
        "\r\n",
        "Here, you will make use of the draw_bs_reps() function you defined a few exercises ago. It is provided below for your reference:"
      ]
    },
    {
      "cell_type": "code",
      "metadata": {
        "id": "GqOTVbC0QGda"
      },
      "source": [
        "def draw_bs_reps(data, func, size=1):\r\n",
        "    \"\"\"Draw bootstrap replicates.\"\"\"\r\n",
        "    # Initialize array of replicates\r\n",
        "    bs_replicates = np.empty(size)\r\n",
        "    # Generate replicates\r\n",
        "    for i in range(size):\r\n",
        "        bs_replicates[i] = bootstrap_replicate_1d(data, func)\r\n",
        "    return bs_replicates"
      ],
      "execution_count": 9,
      "outputs": []
    },
    {
      "cell_type": "code",
      "metadata": {
        "id": "VQAjjOWoQJvd"
      },
      "source": [
        "# Generate 10,000 bootstrap replicates of the variance: bs_replicates\r\n",
        "bs_replicates = draw_bs_reps(rainfall, np.var, size=10000)\r\n",
        "\r\n",
        "# Put the variance in units of square centimeters\r\n",
        "bs_replicates /= 100\r\n",
        "\r\n",
        "# Make a histogram of the results\r\n",
        "_ = plt.hist(bs_replicates, bins=50, density=True)\r\n",
        "_ = plt.xlabel('variance of annual rainfall (sq. cm)')\r\n",
        "_ = plt.ylabel('PDF')\r\n",
        "\r\n",
        "# Show the plot\r\n",
        "plt.show()"
      ],
      "execution_count": null,
      "outputs": []
    },
    {
      "cell_type": "markdown",
      "metadata": {
        "id": "9V2jrY3aQUWU"
      },
      "source": [
        "#Confidence interval on the rate of no-hitters\r\n",
        "\r\n",
        "Consider again the inter-no-hitter intervals for the modern era of baseball. Generate 10,000 bootstrap replicates of the optimal parameter \b. Plot a histogram of your replicates and report a 95% confidence interval."
      ]
    },
    {
      "cell_type": "code",
      "metadata": {
        "cellView": "form",
        "id": "3Q9gLonfQiw6"
      },
      "source": [
        "#@title Pré-definidos no Datacamp\r\n",
        "nohitter_times = np.array([ 843, 1613, 1101,  215,  684,  814,  278,  324,  161,  219,  545,\r\n",
        "        715,  966,  624,   29,  450,  107,   20,   91, 1325,  124, 1468,\r\n",
        "        104, 1309,  429,   62, 1878, 1104,  123,  251,   93,  188,  983,\r\n",
        "        166,   96,  702,   23,  524,   26,  299,   59,   39,   12,    2,\r\n",
        "        308, 1114,  813,  887,  645, 2088,   42, 2090,   11,  886, 1665,\r\n",
        "       1084, 2900, 2432,  750, 4021, 1070, 1765, 1322,   26,  548, 1525,\r\n",
        "         77, 2181, 2752,  127, 2147,  211,   41, 1575,  151,  479,  697,\r\n",
        "        557, 2267,  542,  392,   73,  603,  233,  255,  528,  397, 1529,\r\n",
        "       1023, 1194,  462,  583,   37,  943,  996,  480, 1497,  717,  224,\r\n",
        "        219, 1531,  498,   44,  288,  267,  600,   52,  269, 1086,  386,\r\n",
        "        176, 2199,  216,   54,  675, 1243,  463,  650,  171,  327,  110,\r\n",
        "        774,  509,    8,  197,  136,   12, 1124,   64,  380,  811,  232,\r\n",
        "        192,  731,  715,  226,  605,  539, 1491,  323,  240,  179,  702,\r\n",
        "        156,   82, 1397,  354,  778,  603, 1001,  385,  986,  203,  149,\r\n",
        "        576,  445,  180, 1403,  252,  675, 1351, 2983, 1568,   45,  899,\r\n",
        "       3260, 1025,   31,  100, 2055, 4043,   79,  238, 3931, 2351,  595,\r\n",
        "        110,  215,    0,  563,  206,  660,  242,  577,  179,  157,  192,\r\n",
        "        192, 1848,  792, 1693,   55,  388,  225, 1134, 1172, 1555,   31,\r\n",
        "       1582, 1044,  378, 1687, 2915,  280,  765, 2819,  511, 1521,  745,\r\n",
        "       2491,  580, 2072, 6450,  578,  745, 1075, 1103, 1549, 1520,  138,\r\n",
        "       1202,  296,  277,  351,  391,  950,  459,   62, 1056, 1128,  139,\r\n",
        "        420,   87,   71,  814,  603, 1349,  162, 1027,  783,  326,  101,\r\n",
        "        876,  381,  905,  156,  419,  239,  119,  129,  467])"
      ],
      "execution_count": 13,
      "outputs": []
    },
    {
      "cell_type": "code",
      "metadata": {
        "id": "aFqp6ZAZQWfN"
      },
      "source": [
        "# Draw bootstrap replicates of the mean no-hitter time (equal to tau): bs_replicates\r\n",
        "bs_replicates = draw_bs_reps(nohitter_times, np.mean, size=10000)\r\n",
        "\r\n",
        "# Compute the 95% confidence interval: conf_int\r\n",
        "conf_int = np.percentile(bs_replicates, [2.5, 97.5])\r\n",
        "\r\n",
        "# Print the confidence interval\r\n",
        "print('95% confidence interval =', conf_int, 'games')\r\n",
        "\r\n",
        "# Plot the histogram of the replicates\r\n",
        "_ = plt.hist(bs_replicates, bins=50, density=True)\r\n",
        "_ = plt.xlabel(r'$\\tau$ (games)')\r\n",
        "_ = plt.ylabel('PDF')\r\n",
        "\r\n",
        "# Show the plot\r\n",
        "plt.show()"
      ],
      "execution_count": null,
      "outputs": []
    },
    {
      "cell_type": "markdown",
      "metadata": {
        "id": "GSWfvr47Q2qt"
      },
      "source": [
        "#A function to do pairs bootstrap\r\n",
        "\r\n",
        "As discussed in the video, pairs bootstrap involves resampling pairs of data. Each collection of pairs fit with a line, in this case using np.polyfit(). We do this again and again, getting bootstrap replicates of the parameter values. To have a useful tool for doing pairs bootstrap, you will write a function to perform pairs bootstrap on a set of x,y data."
      ]
    },
    {
      "cell_type": "code",
      "metadata": {
        "id": "ig8HFyVdQ4o7"
      },
      "source": [
        "def draw_bs_pairs_linreg(x, y, size=1):\r\n",
        "    \"\"\"Perform pairs bootstrap for linear regression.\"\"\"\r\n",
        "\r\n",
        "    # Set up array of indices to sample from: inds\r\n",
        "    inds = np.arange(len(x))\r\n",
        "\r\n",
        "    # Initialize replicates: bs_slope_reps, bs_intercept_reps\r\n",
        "    bs_slope_reps = np.empty(size)\r\n",
        "    bs_intercept_reps = np.empty(size)\r\n",
        "\r\n",
        "    # Generate replicates\r\n",
        "    for i in range(size):\r\n",
        "        bs_inds = np.random.choice(inds, size=len(inds))\r\n",
        "        bs_x, bs_y = x[bs_inds], y[bs_inds]\r\n",
        "        bs_slope_reps[i], bs_intercept_reps[i] = np.polyfit(bs_x, bs_y, 1)\r\n",
        "\r\n",
        "    return bs_slope_reps, bs_intercept_reps"
      ],
      "execution_count": 16,
      "outputs": []
    },
    {
      "cell_type": "markdown",
      "metadata": {
        "id": "alZZHkLfQ-gR"
      },
      "source": [
        "#Pairs bootstrap of literacy/fertility data\r\n",
        "\r\n",
        "Using the function you just wrote, perform pairs bootstrap to plot a histogram describing the estimate of the slope from the illiteracy/fertility data. Also report the 95% confidence interval of the slope. The data is available to you in the NumPy arrays illiteracy and fertility.\r\n",
        "\r\n",
        "As a reminder, draw_bs_pairs_linreg() has a function signature of draw_bs_pairs_linreg(x, y, size=1), and it returns two values: bs_slope_reps and bs_intercept_reps."
      ]
    },
    {
      "cell_type": "code",
      "metadata": {
        "cellView": "form",
        "id": "BBMrAT8ISOkY"
      },
      "source": [
        "#@title Pré-definidos no Datacamp\r\n",
        "illiteracy = np.array([9.5,49.2,1.0,11.200000000000003,9.799999999999997,60.0,50.2,51.2,0.5999999999999943,1.0,8.5,6.099999999999994,9.799999999999997,1.0,42.2,77.2,18.700000000000003,22.799999999999997,8.5,43.9,1.0,1.0,1.5,10.799999999999997,11.900000000000006,3.4000000000000057,0.4000000000000057,3.0999999999999943,6.599999999999994,33.7,40.4,2.299999999999997,17.200000000000003,0.7000000000000028,36.1,1.0,33.2,55.9,30.799999999999997,87.4,15.400000000000006,54.6,5.099999999999994,1.0999999999999943,10.200000000000003,19.799999999999997,0.0,40.7,57.2,59.9,3.0999999999999943,55.7,22.799999999999997,10.900000000000006,34.7,32.2,43.0,1.2999999999999972,1.0,0.5,78.4,34.2,84.9,29.099999999999994,31.299999999999997,18.299999999999997,81.8,39.0,11.200000000000003,67.0,4.099999999999994,0.20000000000000284,78.1,1.0,7.099999999999994,1.0,29.0,1.0999999999999943,11.700000000000003,73.6,33.900000000000006,14.0,0.29999999999999716,1.0,0.7999999999999972,71.9,40.1,1.0,2.0999999999999943,3.799999999999997,16.5,4.099999999999994,0.5,44.4,46.3,18.700000000000003,6.5,36.8,18.599999999999994,11.099999999999994,22.099999999999994,71.1,1.0,0.0,0.9000000000000057,0.7000000000000028,45.5,8.400000000000006,0.0,3.799999999999997,8.5,2.0,1.0,58.9,0.29999999999999716,1.0,14.0,47.0,4.099999999999994,2.200000000000003,7.200000000000003,0.29999999999999716,1.5,50.5,1.2999999999999972,0.5999999999999943,19.099999999999994,6.900000000000006,9.200000000000003,2.200000000000003,0.20000000000000284,12.299999999999997,4.900000000000006,4.599999999999994,0.29999999999999716,16.5,65.7,63.5,16.799999999999997,0.20000000000000284,1.7999999999999972,9.599999999999994,15.200000000000003,14.400000000000006,3.299999999999997,10.599999999999994,61.3,10.900000000000006,32.2,9.299999999999997,11.599999999999994,20.700000000000003,6.5,6.700000000000003,3.5,1.0,1.5999999999999943,20.5,1.5,16.700000000000003,2.0,0.9000000000000057])\r\n",
        "fertility = np.array([1.7690000000000001,2.682,2.077,2.1319999999999997,1.827,3.872,2.2880000000000003,5.172999999999999,1.393,1.262,2.156,3.0260000000000002,2.033,1.324,2.8160000000000003,5.211,2.1,1.781,1.8219999999999998,5.9079999999999995,1.881,1.8519999999999999,1.39,2.281,2.505,1.224,1.361,1.4680000000000002,2.404,5.52,4.058,2.2230000000000003,4.859,1.2670000000000001,2.342,1.579,6.254,2.334,3.9610000000000003,6.505,2.53,2.823,2.498,2.248,2.508,3.04,1.854,4.22,5.1,4.967,1.325,4.513999999999999,3.173,2.3080000000000003,4.62,4.541,5.6370000000000005,1.926,1.7469999999999999,2.294,5.841,5.455,7.069,2.859,4.018,2.513,5.405,5.737,3.363,4.89,1.385,1.505,6.081,1.784,1.3780000000000001,1.45,1.841,1.37,2.612,5.329,5.33,3.3710000000000004,1.281,1.871,2.153,5.377999999999999,4.45,1.46,1.436,1.6119999999999999,3.19,2.752,3.35,4.01,4.166,2.642,2.977,3.415,2.295,3.0189999999999997,2.6830000000000003,5.165,1.849,1.8359999999999999,2.5180000000000002,2.43,4.5280000000000005,1.263,1.885,1.943,1.899,1.442,1.953,4.697,1.5819999999999999,2.025,1.841,5.011,1.212,1.5019999999999998,2.516,1.367,2.089,4.388,1.854,1.7480000000000002,2.978,2.1519999999999997,2.362,1.9880000000000002,1.426,3.29,3.264,1.436,1.393,2.822,4.968999999999999,5.659,3.24,1.693,1.6469999999999998,2.36,1.7919999999999998,3.45,1.516,2.233,2.563,5.2829999999999995,3.885,0.966,2.373,2.6630000000000003,1.251,2.052,3.3710000000000004,2.093,2.0,3.883,3.852,3.718,1.732,3.928])"
      ],
      "execution_count": 22,
      "outputs": []
    },
    {
      "cell_type": "code",
      "metadata": {
        "id": "ZNQwANNfRQM8"
      },
      "source": [
        "# Generate replicates of slope and intercept using pairs bootstrap\r\n",
        "bs_slope_reps, bs_intercept_reps = draw_bs_pairs_linreg(\r\n",
        "                    illiteracy, fertility, size=1000)\r\n",
        "\r\n",
        "# Compute and print 95% CI for slope\r\n",
        "print(np.percentile(bs_slope_reps, [2.5, 97.5]))\r\n",
        "\r\n",
        "# Plot the histogram\r\n",
        "_ = plt.hist(bs_slope_reps, bins=50, density=True)\r\n",
        "_ = plt.xlabel('slope')\r\n",
        "_ = plt.ylabel('PDF')\r\n",
        "plt.show()"
      ],
      "execution_count": null,
      "outputs": []
    },
    {
      "cell_type": "markdown",
      "metadata": {
        "id": "y-HI2y_KUoZi"
      },
      "source": [
        "#Plotting bootstrap regressions\r\n",
        "\r\n",
        "A nice way to visualize the variability we might expect in a linear regression is to plot the line you would get from each bootstrap replicate of the slope and intercept. Do this for the first 100 of your bootstrap replicates of the slope and intercept (stored as bs_slope_reps and bs_intercept_reps)."
      ]
    },
    {
      "cell_type": "code",
      "metadata": {
        "id": "5QhyQIDEUv_k"
      },
      "source": [
        "# Generate array of x-values for bootstrap lines: x\r\n",
        "x = np.array([0, 100])\r\n",
        "\r\n",
        "# Plot the bootstrap lines\r\n",
        "for i in range(100):\r\n",
        "    _ = plt.plot(x, \r\n",
        "                 bs_slope_reps[i] * x + bs_intercept_reps[i],\r\n",
        "                 linewidth=0.5, alpha=0.2, color='red')\r\n",
        "\r\n",
        "# Plot the data\r\n",
        "_ = plt.plot(illiteracy, fertility, marker='.', linestyle='none')\r\n",
        "\r\n",
        "# Label axes, set the margins, and show the plot\r\n",
        "_ = plt.xlabel('illiteracy')\r\n",
        "_ = plt.ylabel('fertility')\r\n",
        "plt.margins(0.02)\r\n",
        "plt.show()"
      ],
      "execution_count": null,
      "outputs": []
    }
  ]
}